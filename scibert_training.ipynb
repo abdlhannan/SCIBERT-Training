{
  "nbformat": 4,
  "nbformat_minor": 0,
  "metadata": {
    "colab": {
      "name": "scibert_training.ipynb",
      "provenance": [],
      "collapsed_sections": []
    },
    "kernelspec": {
      "name": "python3",
      "display_name": "Python 3"
    },
    "language_info": {
      "name": "python"
    },
    "accelerator": "GPU",
    "widgets": {
      "application/vnd.jupyter.widget-state+json": {
        "b77cdfb36dd345eeb9bb26da822dc686": {
          "model_module": "@jupyter-widgets/controls",
          "model_name": "HBoxModel",
          "state": {
            "_view_name": "HBoxView",
            "_dom_classes": [],
            "_model_name": "HBoxModel",
            "_view_module": "@jupyter-widgets/controls",
            "_model_module_version": "1.5.0",
            "_view_count": null,
            "_view_module_version": "1.5.0",
            "box_style": "",
            "layout": "IPY_MODEL_3fc37e62f3c746518e6652435625cf0c",
            "_model_module": "@jupyter-widgets/controls",
            "children": [
              "IPY_MODEL_08c4ba9addea4162b35e5f171de89a33",
              "IPY_MODEL_10a9f5ae91be4074bb6c2d4a63e5af11"
            ]
          }
        },
        "3fc37e62f3c746518e6652435625cf0c": {
          "model_module": "@jupyter-widgets/base",
          "model_name": "LayoutModel",
          "state": {
            "_view_name": "LayoutView",
            "grid_template_rows": null,
            "right": null,
            "justify_content": null,
            "_view_module": "@jupyter-widgets/base",
            "overflow": null,
            "_model_module_version": "1.2.0",
            "_view_count": null,
            "flex_flow": null,
            "width": null,
            "min_width": null,
            "border": null,
            "align_items": null,
            "bottom": null,
            "_model_module": "@jupyter-widgets/base",
            "top": null,
            "grid_column": null,
            "overflow_y": null,
            "overflow_x": null,
            "grid_auto_flow": null,
            "grid_area": null,
            "grid_template_columns": null,
            "flex": null,
            "_model_name": "LayoutModel",
            "justify_items": null,
            "grid_row": null,
            "max_height": null,
            "align_content": null,
            "visibility": null,
            "align_self": null,
            "height": null,
            "min_height": null,
            "padding": null,
            "grid_auto_rows": null,
            "grid_gap": null,
            "max_width": null,
            "order": null,
            "_view_module_version": "1.2.0",
            "grid_template_areas": null,
            "object_position": null,
            "object_fit": null,
            "grid_auto_columns": null,
            "margin": null,
            "display": null,
            "left": null
          }
        },
        "08c4ba9addea4162b35e5f171de89a33": {
          "model_module": "@jupyter-widgets/controls",
          "model_name": "FloatProgressModel",
          "state": {
            "_view_name": "ProgressView",
            "style": "IPY_MODEL_0a1af441366348119ba5baaf92ab5eaa",
            "_dom_classes": [],
            "description": "Epoch: 100%",
            "_model_name": "FloatProgressModel",
            "bar_style": "success",
            "max": 4,
            "_view_module": "@jupyter-widgets/controls",
            "_model_module_version": "1.5.0",
            "value": 4,
            "_view_count": null,
            "_view_module_version": "1.5.0",
            "orientation": "horizontal",
            "min": 0,
            "description_tooltip": null,
            "_model_module": "@jupyter-widgets/controls",
            "layout": "IPY_MODEL_dfbad4ae79914ab08bf88508a92ea40b"
          }
        },
        "10a9f5ae91be4074bb6c2d4a63e5af11": {
          "model_module": "@jupyter-widgets/controls",
          "model_name": "HTMLModel",
          "state": {
            "_view_name": "HTMLView",
            "style": "IPY_MODEL_8f8d1668eb9049529fd990cacbfc0d8d",
            "_dom_classes": [],
            "description": "",
            "_model_name": "HTMLModel",
            "placeholder": "​",
            "_view_module": "@jupyter-widgets/controls",
            "_model_module_version": "1.5.0",
            "value": " 4/4 [07:11&lt;00:00, 107.83s/it]",
            "_view_count": null,
            "_view_module_version": "1.5.0",
            "description_tooltip": null,
            "_model_module": "@jupyter-widgets/controls",
            "layout": "IPY_MODEL_64a711ab41b443dda1eda05a7992e1af"
          }
        },
        "0a1af441366348119ba5baaf92ab5eaa": {
          "model_module": "@jupyter-widgets/controls",
          "model_name": "ProgressStyleModel",
          "state": {
            "_view_name": "StyleView",
            "_model_name": "ProgressStyleModel",
            "description_width": "initial",
            "_view_module": "@jupyter-widgets/base",
            "_model_module_version": "1.5.0",
            "_view_count": null,
            "_view_module_version": "1.2.0",
            "bar_color": null,
            "_model_module": "@jupyter-widgets/controls"
          }
        },
        "dfbad4ae79914ab08bf88508a92ea40b": {
          "model_module": "@jupyter-widgets/base",
          "model_name": "LayoutModel",
          "state": {
            "_view_name": "LayoutView",
            "grid_template_rows": null,
            "right": null,
            "justify_content": null,
            "_view_module": "@jupyter-widgets/base",
            "overflow": null,
            "_model_module_version": "1.2.0",
            "_view_count": null,
            "flex_flow": null,
            "width": null,
            "min_width": null,
            "border": null,
            "align_items": null,
            "bottom": null,
            "_model_module": "@jupyter-widgets/base",
            "top": null,
            "grid_column": null,
            "overflow_y": null,
            "overflow_x": null,
            "grid_auto_flow": null,
            "grid_area": null,
            "grid_template_columns": null,
            "flex": null,
            "_model_name": "LayoutModel",
            "justify_items": null,
            "grid_row": null,
            "max_height": null,
            "align_content": null,
            "visibility": null,
            "align_self": null,
            "height": null,
            "min_height": null,
            "padding": null,
            "grid_auto_rows": null,
            "grid_gap": null,
            "max_width": null,
            "order": null,
            "_view_module_version": "1.2.0",
            "grid_template_areas": null,
            "object_position": null,
            "object_fit": null,
            "grid_auto_columns": null,
            "margin": null,
            "display": null,
            "left": null
          }
        },
        "8f8d1668eb9049529fd990cacbfc0d8d": {
          "model_module": "@jupyter-widgets/controls",
          "model_name": "DescriptionStyleModel",
          "state": {
            "_view_name": "StyleView",
            "_model_name": "DescriptionStyleModel",
            "description_width": "",
            "_view_module": "@jupyter-widgets/base",
            "_model_module_version": "1.5.0",
            "_view_count": null,
            "_view_module_version": "1.2.0",
            "_model_module": "@jupyter-widgets/controls"
          }
        },
        "64a711ab41b443dda1eda05a7992e1af": {
          "model_module": "@jupyter-widgets/base",
          "model_name": "LayoutModel",
          "state": {
            "_view_name": "LayoutView",
            "grid_template_rows": null,
            "right": null,
            "justify_content": null,
            "_view_module": "@jupyter-widgets/base",
            "overflow": null,
            "_model_module_version": "1.2.0",
            "_view_count": null,
            "flex_flow": null,
            "width": null,
            "min_width": null,
            "border": null,
            "align_items": null,
            "bottom": null,
            "_model_module": "@jupyter-widgets/base",
            "top": null,
            "grid_column": null,
            "overflow_y": null,
            "overflow_x": null,
            "grid_auto_flow": null,
            "grid_area": null,
            "grid_template_columns": null,
            "flex": null,
            "_model_name": "LayoutModel",
            "justify_items": null,
            "grid_row": null,
            "max_height": null,
            "align_content": null,
            "visibility": null,
            "align_self": null,
            "height": null,
            "min_height": null,
            "padding": null,
            "grid_auto_rows": null,
            "grid_gap": null,
            "max_width": null,
            "order": null,
            "_view_module_version": "1.2.0",
            "grid_template_areas": null,
            "object_position": null,
            "object_fit": null,
            "grid_auto_columns": null,
            "margin": null,
            "display": null,
            "left": null
          }
        },
        "2d701a227b86463b857ca5b27c106880": {
          "model_module": "@jupyter-widgets/controls",
          "model_name": "HBoxModel",
          "state": {
            "_view_name": "HBoxView",
            "_dom_classes": [],
            "_model_name": "HBoxModel",
            "_view_module": "@jupyter-widgets/controls",
            "_model_module_version": "1.5.0",
            "_view_count": null,
            "_view_module_version": "1.5.0",
            "box_style": "",
            "layout": "IPY_MODEL_3f956e5b07304262844bdbd21d256e83",
            "_model_module": "@jupyter-widgets/controls",
            "children": [
              "IPY_MODEL_83dd3235eecf44cc9aa956c51112eb85",
              "IPY_MODEL_70c1bbb267374543ba856f65ff2a0bfe"
            ]
          }
        },
        "3f956e5b07304262844bdbd21d256e83": {
          "model_module": "@jupyter-widgets/base",
          "model_name": "LayoutModel",
          "state": {
            "_view_name": "LayoutView",
            "grid_template_rows": null,
            "right": null,
            "justify_content": null,
            "_view_module": "@jupyter-widgets/base",
            "overflow": null,
            "_model_module_version": "1.2.0",
            "_view_count": null,
            "flex_flow": null,
            "width": null,
            "min_width": null,
            "border": null,
            "align_items": null,
            "bottom": null,
            "_model_module": "@jupyter-widgets/base",
            "top": null,
            "grid_column": null,
            "overflow_y": null,
            "overflow_x": null,
            "grid_auto_flow": null,
            "grid_area": null,
            "grid_template_columns": null,
            "flex": null,
            "_model_name": "LayoutModel",
            "justify_items": null,
            "grid_row": null,
            "max_height": null,
            "align_content": null,
            "visibility": null,
            "align_self": null,
            "height": null,
            "min_height": null,
            "padding": null,
            "grid_auto_rows": null,
            "grid_gap": null,
            "max_width": null,
            "order": null,
            "_view_module_version": "1.2.0",
            "grid_template_areas": null,
            "object_position": null,
            "object_fit": null,
            "grid_auto_columns": null,
            "margin": null,
            "display": null,
            "left": null
          }
        },
        "83dd3235eecf44cc9aa956c51112eb85": {
          "model_module": "@jupyter-widgets/controls",
          "model_name": "FloatProgressModel",
          "state": {
            "_view_name": "ProgressView",
            "style": "IPY_MODEL_fbed761f3b214968923f06aaf1f9c53c",
            "_dom_classes": [],
            "description": "Iteration: 100%",
            "_model_name": "FloatProgressModel",
            "bar_style": "success",
            "max": 12,
            "_view_module": "@jupyter-widgets/controls",
            "_model_module_version": "1.5.0",
            "value": 12,
            "_view_count": null,
            "_view_module_version": "1.5.0",
            "orientation": "horizontal",
            "min": 0,
            "description_tooltip": null,
            "_model_module": "@jupyter-widgets/controls",
            "layout": "IPY_MODEL_480a50306cf244f48d43b211cb680828"
          }
        },
        "70c1bbb267374543ba856f65ff2a0bfe": {
          "model_module": "@jupyter-widgets/controls",
          "model_name": "HTMLModel",
          "state": {
            "_view_name": "HTMLView",
            "style": "IPY_MODEL_9eb3c0ede03d4d8bbbaa76a71bdb7723",
            "_dom_classes": [],
            "description": "",
            "_model_name": "HTMLModel",
            "placeholder": "​",
            "_view_module": "@jupyter-widgets/controls",
            "_model_module_version": "1.5.0",
            "value": " 12/12 [02:07&lt;00:00, 10.61s/it]",
            "_view_count": null,
            "_view_module_version": "1.5.0",
            "description_tooltip": null,
            "_model_module": "@jupyter-widgets/controls",
            "layout": "IPY_MODEL_09670095fbf14c8a8e9932021f5c6947"
          }
        },
        "fbed761f3b214968923f06aaf1f9c53c": {
          "model_module": "@jupyter-widgets/controls",
          "model_name": "ProgressStyleModel",
          "state": {
            "_view_name": "StyleView",
            "_model_name": "ProgressStyleModel",
            "description_width": "initial",
            "_view_module": "@jupyter-widgets/base",
            "_model_module_version": "1.5.0",
            "_view_count": null,
            "_view_module_version": "1.2.0",
            "bar_color": null,
            "_model_module": "@jupyter-widgets/controls"
          }
        },
        "480a50306cf244f48d43b211cb680828": {
          "model_module": "@jupyter-widgets/base",
          "model_name": "LayoutModel",
          "state": {
            "_view_name": "LayoutView",
            "grid_template_rows": null,
            "right": null,
            "justify_content": null,
            "_view_module": "@jupyter-widgets/base",
            "overflow": null,
            "_model_module_version": "1.2.0",
            "_view_count": null,
            "flex_flow": null,
            "width": null,
            "min_width": null,
            "border": null,
            "align_items": null,
            "bottom": null,
            "_model_module": "@jupyter-widgets/base",
            "top": null,
            "grid_column": null,
            "overflow_y": null,
            "overflow_x": null,
            "grid_auto_flow": null,
            "grid_area": null,
            "grid_template_columns": null,
            "flex": null,
            "_model_name": "LayoutModel",
            "justify_items": null,
            "grid_row": null,
            "max_height": null,
            "align_content": null,
            "visibility": null,
            "align_self": null,
            "height": null,
            "min_height": null,
            "padding": null,
            "grid_auto_rows": null,
            "grid_gap": null,
            "max_width": null,
            "order": null,
            "_view_module_version": "1.2.0",
            "grid_template_areas": null,
            "object_position": null,
            "object_fit": null,
            "grid_auto_columns": null,
            "margin": null,
            "display": null,
            "left": null
          }
        },
        "9eb3c0ede03d4d8bbbaa76a71bdb7723": {
          "model_module": "@jupyter-widgets/controls",
          "model_name": "DescriptionStyleModel",
          "state": {
            "_view_name": "StyleView",
            "_model_name": "DescriptionStyleModel",
            "description_width": "",
            "_view_module": "@jupyter-widgets/base",
            "_model_module_version": "1.5.0",
            "_view_count": null,
            "_view_module_version": "1.2.0",
            "_model_module": "@jupyter-widgets/controls"
          }
        },
        "09670095fbf14c8a8e9932021f5c6947": {
          "model_module": "@jupyter-widgets/base",
          "model_name": "LayoutModel",
          "state": {
            "_view_name": "LayoutView",
            "grid_template_rows": null,
            "right": null,
            "justify_content": null,
            "_view_module": "@jupyter-widgets/base",
            "overflow": null,
            "_model_module_version": "1.2.0",
            "_view_count": null,
            "flex_flow": null,
            "width": null,
            "min_width": null,
            "border": null,
            "align_items": null,
            "bottom": null,
            "_model_module": "@jupyter-widgets/base",
            "top": null,
            "grid_column": null,
            "overflow_y": null,
            "overflow_x": null,
            "grid_auto_flow": null,
            "grid_area": null,
            "grid_template_columns": null,
            "flex": null,
            "_model_name": "LayoutModel",
            "justify_items": null,
            "grid_row": null,
            "max_height": null,
            "align_content": null,
            "visibility": null,
            "align_self": null,
            "height": null,
            "min_height": null,
            "padding": null,
            "grid_auto_rows": null,
            "grid_gap": null,
            "max_width": null,
            "order": null,
            "_view_module_version": "1.2.0",
            "grid_template_areas": null,
            "object_position": null,
            "object_fit": null,
            "grid_auto_columns": null,
            "margin": null,
            "display": null,
            "left": null
          }
        },
        "9182d673418e43fd884232ecf2a2e76a": {
          "model_module": "@jupyter-widgets/controls",
          "model_name": "HBoxModel",
          "state": {
            "_view_name": "HBoxView",
            "_dom_classes": [],
            "_model_name": "HBoxModel",
            "_view_module": "@jupyter-widgets/controls",
            "_model_module_version": "1.5.0",
            "_view_count": null,
            "_view_module_version": "1.5.0",
            "box_style": "",
            "layout": "IPY_MODEL_7513ed3385de4bd3b539c6919b1d9016",
            "_model_module": "@jupyter-widgets/controls",
            "children": [
              "IPY_MODEL_85557f629111456daf6109bce890ed2c",
              "IPY_MODEL_131b3ecedbdb43aa9be4a5052fdaabf5"
            ]
          }
        },
        "7513ed3385de4bd3b539c6919b1d9016": {
          "model_module": "@jupyter-widgets/base",
          "model_name": "LayoutModel",
          "state": {
            "_view_name": "LayoutView",
            "grid_template_rows": null,
            "right": null,
            "justify_content": null,
            "_view_module": "@jupyter-widgets/base",
            "overflow": null,
            "_model_module_version": "1.2.0",
            "_view_count": null,
            "flex_flow": null,
            "width": null,
            "min_width": null,
            "border": null,
            "align_items": null,
            "bottom": null,
            "_model_module": "@jupyter-widgets/base",
            "top": null,
            "grid_column": null,
            "overflow_y": null,
            "overflow_x": null,
            "grid_auto_flow": null,
            "grid_area": null,
            "grid_template_columns": null,
            "flex": null,
            "_model_name": "LayoutModel",
            "justify_items": null,
            "grid_row": null,
            "max_height": null,
            "align_content": null,
            "visibility": null,
            "align_self": null,
            "height": null,
            "min_height": null,
            "padding": null,
            "grid_auto_rows": null,
            "grid_gap": null,
            "max_width": null,
            "order": null,
            "_view_module_version": "1.2.0",
            "grid_template_areas": null,
            "object_position": null,
            "object_fit": null,
            "grid_auto_columns": null,
            "margin": null,
            "display": null,
            "left": null
          }
        },
        "85557f629111456daf6109bce890ed2c": {
          "model_module": "@jupyter-widgets/controls",
          "model_name": "FloatProgressModel",
          "state": {
            "_view_name": "ProgressView",
            "style": "IPY_MODEL_d4e6ffb8abff4c359c131eaa6aa1f087",
            "_dom_classes": [],
            "description": "Iteration: 100%",
            "_model_name": "FloatProgressModel",
            "bar_style": "success",
            "max": 12,
            "_view_module": "@jupyter-widgets/controls",
            "_model_module_version": "1.5.0",
            "value": 12,
            "_view_count": null,
            "_view_module_version": "1.5.0",
            "orientation": "horizontal",
            "min": 0,
            "description_tooltip": null,
            "_model_module": "@jupyter-widgets/controls",
            "layout": "IPY_MODEL_8e0127acea8d4d228393ddb14f1ac83e"
          }
        },
        "131b3ecedbdb43aa9be4a5052fdaabf5": {
          "model_module": "@jupyter-widgets/controls",
          "model_name": "HTMLModel",
          "state": {
            "_view_name": "HTMLView",
            "style": "IPY_MODEL_c83150f796844f6d8a45e541fec03949",
            "_dom_classes": [],
            "description": "",
            "_model_name": "HTMLModel",
            "placeholder": "​",
            "_view_module": "@jupyter-widgets/controls",
            "_model_module_version": "1.5.0",
            "value": " 12/12 [02:02&lt;00:00, 10.17s/it]",
            "_view_count": null,
            "_view_module_version": "1.5.0",
            "description_tooltip": null,
            "_model_module": "@jupyter-widgets/controls",
            "layout": "IPY_MODEL_ffad0063f3a3454e8737b4c59cffbdb8"
          }
        },
        "d4e6ffb8abff4c359c131eaa6aa1f087": {
          "model_module": "@jupyter-widgets/controls",
          "model_name": "ProgressStyleModel",
          "state": {
            "_view_name": "StyleView",
            "_model_name": "ProgressStyleModel",
            "description_width": "initial",
            "_view_module": "@jupyter-widgets/base",
            "_model_module_version": "1.5.0",
            "_view_count": null,
            "_view_module_version": "1.2.0",
            "bar_color": null,
            "_model_module": "@jupyter-widgets/controls"
          }
        },
        "8e0127acea8d4d228393ddb14f1ac83e": {
          "model_module": "@jupyter-widgets/base",
          "model_name": "LayoutModel",
          "state": {
            "_view_name": "LayoutView",
            "grid_template_rows": null,
            "right": null,
            "justify_content": null,
            "_view_module": "@jupyter-widgets/base",
            "overflow": null,
            "_model_module_version": "1.2.0",
            "_view_count": null,
            "flex_flow": null,
            "width": null,
            "min_width": null,
            "border": null,
            "align_items": null,
            "bottom": null,
            "_model_module": "@jupyter-widgets/base",
            "top": null,
            "grid_column": null,
            "overflow_y": null,
            "overflow_x": null,
            "grid_auto_flow": null,
            "grid_area": null,
            "grid_template_columns": null,
            "flex": null,
            "_model_name": "LayoutModel",
            "justify_items": null,
            "grid_row": null,
            "max_height": null,
            "align_content": null,
            "visibility": null,
            "align_self": null,
            "height": null,
            "min_height": null,
            "padding": null,
            "grid_auto_rows": null,
            "grid_gap": null,
            "max_width": null,
            "order": null,
            "_view_module_version": "1.2.0",
            "grid_template_areas": null,
            "object_position": null,
            "object_fit": null,
            "grid_auto_columns": null,
            "margin": null,
            "display": null,
            "left": null
          }
        },
        "c83150f796844f6d8a45e541fec03949": {
          "model_module": "@jupyter-widgets/controls",
          "model_name": "DescriptionStyleModel",
          "state": {
            "_view_name": "StyleView",
            "_model_name": "DescriptionStyleModel",
            "description_width": "",
            "_view_module": "@jupyter-widgets/base",
            "_model_module_version": "1.5.0",
            "_view_count": null,
            "_view_module_version": "1.2.0",
            "_model_module": "@jupyter-widgets/controls"
          }
        },
        "ffad0063f3a3454e8737b4c59cffbdb8": {
          "model_module": "@jupyter-widgets/base",
          "model_name": "LayoutModel",
          "state": {
            "_view_name": "LayoutView",
            "grid_template_rows": null,
            "right": null,
            "justify_content": null,
            "_view_module": "@jupyter-widgets/base",
            "overflow": null,
            "_model_module_version": "1.2.0",
            "_view_count": null,
            "flex_flow": null,
            "width": null,
            "min_width": null,
            "border": null,
            "align_items": null,
            "bottom": null,
            "_model_module": "@jupyter-widgets/base",
            "top": null,
            "grid_column": null,
            "overflow_y": null,
            "overflow_x": null,
            "grid_auto_flow": null,
            "grid_area": null,
            "grid_template_columns": null,
            "flex": null,
            "_model_name": "LayoutModel",
            "justify_items": null,
            "grid_row": null,
            "max_height": null,
            "align_content": null,
            "visibility": null,
            "align_self": null,
            "height": null,
            "min_height": null,
            "padding": null,
            "grid_auto_rows": null,
            "grid_gap": null,
            "max_width": null,
            "order": null,
            "_view_module_version": "1.2.0",
            "grid_template_areas": null,
            "object_position": null,
            "object_fit": null,
            "grid_auto_columns": null,
            "margin": null,
            "display": null,
            "left": null
          }
        },
        "c16dd537f8804142b5545a4ec9a1529f": {
          "model_module": "@jupyter-widgets/controls",
          "model_name": "HBoxModel",
          "state": {
            "_view_name": "HBoxView",
            "_dom_classes": [],
            "_model_name": "HBoxModel",
            "_view_module": "@jupyter-widgets/controls",
            "_model_module_version": "1.5.0",
            "_view_count": null,
            "_view_module_version": "1.5.0",
            "box_style": "",
            "layout": "IPY_MODEL_1af7180175ab4ec9a92f945aebc4d33e",
            "_model_module": "@jupyter-widgets/controls",
            "children": [
              "IPY_MODEL_3b4513eb4cad4245b7d688ec99255ea1",
              "IPY_MODEL_2e386938886f41278c491f53f9e74d53"
            ]
          }
        },
        "1af7180175ab4ec9a92f945aebc4d33e": {
          "model_module": "@jupyter-widgets/base",
          "model_name": "LayoutModel",
          "state": {
            "_view_name": "LayoutView",
            "grid_template_rows": null,
            "right": null,
            "justify_content": null,
            "_view_module": "@jupyter-widgets/base",
            "overflow": null,
            "_model_module_version": "1.2.0",
            "_view_count": null,
            "flex_flow": null,
            "width": null,
            "min_width": null,
            "border": null,
            "align_items": null,
            "bottom": null,
            "_model_module": "@jupyter-widgets/base",
            "top": null,
            "grid_column": null,
            "overflow_y": null,
            "overflow_x": null,
            "grid_auto_flow": null,
            "grid_area": null,
            "grid_template_columns": null,
            "flex": null,
            "_model_name": "LayoutModel",
            "justify_items": null,
            "grid_row": null,
            "max_height": null,
            "align_content": null,
            "visibility": null,
            "align_self": null,
            "height": null,
            "min_height": null,
            "padding": null,
            "grid_auto_rows": null,
            "grid_gap": null,
            "max_width": null,
            "order": null,
            "_view_module_version": "1.2.0",
            "grid_template_areas": null,
            "object_position": null,
            "object_fit": null,
            "grid_auto_columns": null,
            "margin": null,
            "display": null,
            "left": null
          }
        },
        "3b4513eb4cad4245b7d688ec99255ea1": {
          "model_module": "@jupyter-widgets/controls",
          "model_name": "FloatProgressModel",
          "state": {
            "_view_name": "ProgressView",
            "style": "IPY_MODEL_a1c80fc9d9c64c5b84ed3eea8247d81c",
            "_dom_classes": [],
            "description": "Iteration: 100%",
            "_model_name": "FloatProgressModel",
            "bar_style": "success",
            "max": 12,
            "_view_module": "@jupyter-widgets/controls",
            "_model_module_version": "1.5.0",
            "value": 12,
            "_view_count": null,
            "_view_module_version": "1.5.0",
            "orientation": "horizontal",
            "min": 0,
            "description_tooltip": null,
            "_model_module": "@jupyter-widgets/controls",
            "layout": "IPY_MODEL_c3a09c7d9ddb4d778b937cb546403c3b"
          }
        },
        "2e386938886f41278c491f53f9e74d53": {
          "model_module": "@jupyter-widgets/controls",
          "model_name": "HTMLModel",
          "state": {
            "_view_name": "HTMLView",
            "style": "IPY_MODEL_17540adc2da84941b9727503d167cafe",
            "_dom_classes": [],
            "description": "",
            "_model_name": "HTMLModel",
            "placeholder": "​",
            "_view_module": "@jupyter-widgets/controls",
            "_model_module_version": "1.5.0",
            "value": " 12/12 [00:05&lt;00:00,  2.39it/s]",
            "_view_count": null,
            "_view_module_version": "1.5.0",
            "description_tooltip": null,
            "_model_module": "@jupyter-widgets/controls",
            "layout": "IPY_MODEL_150393dc73714aa2acd7f4307806cafe"
          }
        },
        "a1c80fc9d9c64c5b84ed3eea8247d81c": {
          "model_module": "@jupyter-widgets/controls",
          "model_name": "ProgressStyleModel",
          "state": {
            "_view_name": "StyleView",
            "_model_name": "ProgressStyleModel",
            "description_width": "initial",
            "_view_module": "@jupyter-widgets/base",
            "_model_module_version": "1.5.0",
            "_view_count": null,
            "_view_module_version": "1.2.0",
            "bar_color": null,
            "_model_module": "@jupyter-widgets/controls"
          }
        },
        "c3a09c7d9ddb4d778b937cb546403c3b": {
          "model_module": "@jupyter-widgets/base",
          "model_name": "LayoutModel",
          "state": {
            "_view_name": "LayoutView",
            "grid_template_rows": null,
            "right": null,
            "justify_content": null,
            "_view_module": "@jupyter-widgets/base",
            "overflow": null,
            "_model_module_version": "1.2.0",
            "_view_count": null,
            "flex_flow": null,
            "width": null,
            "min_width": null,
            "border": null,
            "align_items": null,
            "bottom": null,
            "_model_module": "@jupyter-widgets/base",
            "top": null,
            "grid_column": null,
            "overflow_y": null,
            "overflow_x": null,
            "grid_auto_flow": null,
            "grid_area": null,
            "grid_template_columns": null,
            "flex": null,
            "_model_name": "LayoutModel",
            "justify_items": null,
            "grid_row": null,
            "max_height": null,
            "align_content": null,
            "visibility": null,
            "align_self": null,
            "height": null,
            "min_height": null,
            "padding": null,
            "grid_auto_rows": null,
            "grid_gap": null,
            "max_width": null,
            "order": null,
            "_view_module_version": "1.2.0",
            "grid_template_areas": null,
            "object_position": null,
            "object_fit": null,
            "grid_auto_columns": null,
            "margin": null,
            "display": null,
            "left": null
          }
        },
        "17540adc2da84941b9727503d167cafe": {
          "model_module": "@jupyter-widgets/controls",
          "model_name": "DescriptionStyleModel",
          "state": {
            "_view_name": "StyleView",
            "_model_name": "DescriptionStyleModel",
            "description_width": "",
            "_view_module": "@jupyter-widgets/base",
            "_model_module_version": "1.5.0",
            "_view_count": null,
            "_view_module_version": "1.2.0",
            "_model_module": "@jupyter-widgets/controls"
          }
        },
        "150393dc73714aa2acd7f4307806cafe": {
          "model_module": "@jupyter-widgets/base",
          "model_name": "LayoutModel",
          "state": {
            "_view_name": "LayoutView",
            "grid_template_rows": null,
            "right": null,
            "justify_content": null,
            "_view_module": "@jupyter-widgets/base",
            "overflow": null,
            "_model_module_version": "1.2.0",
            "_view_count": null,
            "flex_flow": null,
            "width": null,
            "min_width": null,
            "border": null,
            "align_items": null,
            "bottom": null,
            "_model_module": "@jupyter-widgets/base",
            "top": null,
            "grid_column": null,
            "overflow_y": null,
            "overflow_x": null,
            "grid_auto_flow": null,
            "grid_area": null,
            "grid_template_columns": null,
            "flex": null,
            "_model_name": "LayoutModel",
            "justify_items": null,
            "grid_row": null,
            "max_height": null,
            "align_content": null,
            "visibility": null,
            "align_self": null,
            "height": null,
            "min_height": null,
            "padding": null,
            "grid_auto_rows": null,
            "grid_gap": null,
            "max_width": null,
            "order": null,
            "_view_module_version": "1.2.0",
            "grid_template_areas": null,
            "object_position": null,
            "object_fit": null,
            "grid_auto_columns": null,
            "margin": null,
            "display": null,
            "left": null
          }
        },
        "6ad9db583f544338a20982d2546dcf0c": {
          "model_module": "@jupyter-widgets/controls",
          "model_name": "HBoxModel",
          "state": {
            "_view_name": "HBoxView",
            "_dom_classes": [],
            "_model_name": "HBoxModel",
            "_view_module": "@jupyter-widgets/controls",
            "_model_module_version": "1.5.0",
            "_view_count": null,
            "_view_module_version": "1.5.0",
            "box_style": "",
            "layout": "IPY_MODEL_4b700b9d4c204668a9874963daa03fa0",
            "_model_module": "@jupyter-widgets/controls",
            "children": [
              "IPY_MODEL_8c41714483044354a098dceaa4bda59c",
              "IPY_MODEL_767094eb328b4276ac7fcfd4b5a2250b"
            ]
          }
        },
        "4b700b9d4c204668a9874963daa03fa0": {
          "model_module": "@jupyter-widgets/base",
          "model_name": "LayoutModel",
          "state": {
            "_view_name": "LayoutView",
            "grid_template_rows": null,
            "right": null,
            "justify_content": null,
            "_view_module": "@jupyter-widgets/base",
            "overflow": null,
            "_model_module_version": "1.2.0",
            "_view_count": null,
            "flex_flow": null,
            "width": null,
            "min_width": null,
            "border": null,
            "align_items": null,
            "bottom": null,
            "_model_module": "@jupyter-widgets/base",
            "top": null,
            "grid_column": null,
            "overflow_y": null,
            "overflow_x": null,
            "grid_auto_flow": null,
            "grid_area": null,
            "grid_template_columns": null,
            "flex": null,
            "_model_name": "LayoutModel",
            "justify_items": null,
            "grid_row": null,
            "max_height": null,
            "align_content": null,
            "visibility": null,
            "align_self": null,
            "height": null,
            "min_height": null,
            "padding": null,
            "grid_auto_rows": null,
            "grid_gap": null,
            "max_width": null,
            "order": null,
            "_view_module_version": "1.2.0",
            "grid_template_areas": null,
            "object_position": null,
            "object_fit": null,
            "grid_auto_columns": null,
            "margin": null,
            "display": null,
            "left": null
          }
        },
        "8c41714483044354a098dceaa4bda59c": {
          "model_module": "@jupyter-widgets/controls",
          "model_name": "FloatProgressModel",
          "state": {
            "_view_name": "ProgressView",
            "style": "IPY_MODEL_e072e380481e41f980d65005a5808569",
            "_dom_classes": [],
            "description": "Iteration: 100%",
            "_model_name": "FloatProgressModel",
            "bar_style": "success",
            "max": 12,
            "_view_module": "@jupyter-widgets/controls",
            "_model_module_version": "1.5.0",
            "value": 12,
            "_view_count": null,
            "_view_module_version": "1.5.0",
            "orientation": "horizontal",
            "min": 0,
            "description_tooltip": null,
            "_model_module": "@jupyter-widgets/controls",
            "layout": "IPY_MODEL_800528549575407a9faea8bcd74bda73"
          }
        },
        "767094eb328b4276ac7fcfd4b5a2250b": {
          "model_module": "@jupyter-widgets/controls",
          "model_name": "HTMLModel",
          "state": {
            "_view_name": "HTMLView",
            "style": "IPY_MODEL_42d2fada166a44c58db455d87225ebb1",
            "_dom_classes": [],
            "description": "",
            "_model_name": "HTMLModel",
            "placeholder": "​",
            "_view_module": "@jupyter-widgets/controls",
            "_model_module_version": "1.5.0",
            "value": " 12/12 [01:52&lt;00:00,  9.34s/it]",
            "_view_count": null,
            "_view_module_version": "1.5.0",
            "description_tooltip": null,
            "_model_module": "@jupyter-widgets/controls",
            "layout": "IPY_MODEL_c58dac8485f240119292d5ac39db08f3"
          }
        },
        "e072e380481e41f980d65005a5808569": {
          "model_module": "@jupyter-widgets/controls",
          "model_name": "ProgressStyleModel",
          "state": {
            "_view_name": "StyleView",
            "_model_name": "ProgressStyleModel",
            "description_width": "initial",
            "_view_module": "@jupyter-widgets/base",
            "_model_module_version": "1.5.0",
            "_view_count": null,
            "_view_module_version": "1.2.0",
            "bar_color": null,
            "_model_module": "@jupyter-widgets/controls"
          }
        },
        "800528549575407a9faea8bcd74bda73": {
          "model_module": "@jupyter-widgets/base",
          "model_name": "LayoutModel",
          "state": {
            "_view_name": "LayoutView",
            "grid_template_rows": null,
            "right": null,
            "justify_content": null,
            "_view_module": "@jupyter-widgets/base",
            "overflow": null,
            "_model_module_version": "1.2.0",
            "_view_count": null,
            "flex_flow": null,
            "width": null,
            "min_width": null,
            "border": null,
            "align_items": null,
            "bottom": null,
            "_model_module": "@jupyter-widgets/base",
            "top": null,
            "grid_column": null,
            "overflow_y": null,
            "overflow_x": null,
            "grid_auto_flow": null,
            "grid_area": null,
            "grid_template_columns": null,
            "flex": null,
            "_model_name": "LayoutModel",
            "justify_items": null,
            "grid_row": null,
            "max_height": null,
            "align_content": null,
            "visibility": null,
            "align_self": null,
            "height": null,
            "min_height": null,
            "padding": null,
            "grid_auto_rows": null,
            "grid_gap": null,
            "max_width": null,
            "order": null,
            "_view_module_version": "1.2.0",
            "grid_template_areas": null,
            "object_position": null,
            "object_fit": null,
            "grid_auto_columns": null,
            "margin": null,
            "display": null,
            "left": null
          }
        },
        "42d2fada166a44c58db455d87225ebb1": {
          "model_module": "@jupyter-widgets/controls",
          "model_name": "DescriptionStyleModel",
          "state": {
            "_view_name": "StyleView",
            "_model_name": "DescriptionStyleModel",
            "description_width": "",
            "_view_module": "@jupyter-widgets/base",
            "_model_module_version": "1.5.0",
            "_view_count": null,
            "_view_module_version": "1.2.0",
            "_model_module": "@jupyter-widgets/controls"
          }
        },
        "c58dac8485f240119292d5ac39db08f3": {
          "model_module": "@jupyter-widgets/base",
          "model_name": "LayoutModel",
          "state": {
            "_view_name": "LayoutView",
            "grid_template_rows": null,
            "right": null,
            "justify_content": null,
            "_view_module": "@jupyter-widgets/base",
            "overflow": null,
            "_model_module_version": "1.2.0",
            "_view_count": null,
            "flex_flow": null,
            "width": null,
            "min_width": null,
            "border": null,
            "align_items": null,
            "bottom": null,
            "_model_module": "@jupyter-widgets/base",
            "top": null,
            "grid_column": null,
            "overflow_y": null,
            "overflow_x": null,
            "grid_auto_flow": null,
            "grid_area": null,
            "grid_template_columns": null,
            "flex": null,
            "_model_name": "LayoutModel",
            "justify_items": null,
            "grid_row": null,
            "max_height": null,
            "align_content": null,
            "visibility": null,
            "align_self": null,
            "height": null,
            "min_height": null,
            "padding": null,
            "grid_auto_rows": null,
            "grid_gap": null,
            "max_width": null,
            "order": null,
            "_view_module_version": "1.2.0",
            "grid_template_areas": null,
            "object_position": null,
            "object_fit": null,
            "grid_auto_columns": null,
            "margin": null,
            "display": null,
            "left": null
          }
        }
      }
    }
  },
  "cells": [
    {
      "cell_type": "markdown",
      "metadata": {
        "id": "tOWuOWyd4r8_"
      },
      "source": [
        "# Introduction:\n",
        "This notebook contains all the scripts to run the training of SciBert model on custom dataset. The workflow is as follows:\n",
        "- Downloading SCIBERT model from huggingface.\n",
        "- Creating train and dev sentences for MLM(Mask Language Modelling) Task, using Data_Fine-tuning.xlsx file.\n",
        "- Train SCI-BERT model using this dataset and save the model in google drive.\n",
        "- Using, labelled dataset, fine-tune this model on downstream task.\n",
        "- Create sentence embeddings from Paper_Corpus dataset and compute Cosine Similarity.\n",
        "\n",
        "# NOTE:\n",
        "All the files should be under ./drive/MyDrive/Fiverr/sci_bert_training/ folder. Create a Fiverr folder and upload the entire folder into this directory.\n",
        "Make sure to turn on GPU instance by clicking runtime, then change runtime type and then clicking GPU."
      ]
    },
    {
      "cell_type": "markdown",
      "metadata": {
        "id": "Pt9_DbcI58bg"
      },
      "source": [
        "Importing google drive"
      ]
    },
    {
      "cell_type": "code",
      "metadata": {
        "colab": {
          "base_uri": "https://localhost:8080/"
        },
        "id": "pcJm66t5u7fC",
        "outputId": "39dc087a-a395-4ef6-d34e-b3e1c9a2f81e"
      },
      "source": [
        "from google.colab import drive\n",
        "drive.mount('/content/drive')"
      ],
      "execution_count": 1,
      "outputs": [
        {
          "output_type": "stream",
          "text": [
            "Mounted at /content/drive\n"
          ],
          "name": "stdout"
        }
      ]
    },
    {
      "cell_type": "markdown",
      "metadata": {
        "id": "N98g5iNn5_5u"
      },
      "source": [
        "Installing dependancies "
      ]
    },
    {
      "cell_type": "code",
      "metadata": {
        "colab": {
          "base_uri": "https://localhost:8080/"
        },
        "id": "D5zNA8HZCc1z",
        "outputId": "ae1bc24b-a3e1-41a1-aba4-5a743def3a6a"
      },
      "source": [
        "!pip install transformers"
      ],
      "execution_count": 2,
      "outputs": [
        {
          "output_type": "stream",
          "text": [
            "Collecting transformers\n",
            "\u001b[?25l  Downloading https://files.pythonhosted.org/packages/d5/43/cfe4ee779bbd6a678ac6a97c5a5cdeb03c35f9eaebbb9720b036680f9a2d/transformers-4.6.1-py3-none-any.whl (2.2MB)\n",
            "\u001b[K     |████████████████████████████████| 2.3MB 9.1MB/s \n",
            "\u001b[?25hRequirement already satisfied: packaging in /usr/local/lib/python3.7/dist-packages (from transformers) (20.9)\n",
            "Collecting huggingface-hub==0.0.8\n",
            "  Downloading https://files.pythonhosted.org/packages/a1/88/7b1e45720ecf59c6c6737ff332f41c955963090a18e72acbcbeac6b25e86/huggingface_hub-0.0.8-py3-none-any.whl\n",
            "Collecting tokenizers<0.11,>=0.10.1\n",
            "\u001b[?25l  Downloading https://files.pythonhosted.org/packages/d4/e2/df3543e8ffdab68f5acc73f613de9c2b155ac47f162e725dcac87c521c11/tokenizers-0.10.3-cp37-cp37m-manylinux_2_5_x86_64.manylinux1_x86_64.manylinux_2_12_x86_64.manylinux2010_x86_64.whl (3.3MB)\n",
            "\u001b[K     |████████████████████████████████| 3.3MB 37.7MB/s \n",
            "\u001b[?25hRequirement already satisfied: regex!=2019.12.17 in /usr/local/lib/python3.7/dist-packages (from transformers) (2019.12.20)\n",
            "Requirement already satisfied: tqdm>=4.27 in /usr/local/lib/python3.7/dist-packages (from transformers) (4.41.1)\n",
            "Requirement already satisfied: importlib-metadata; python_version < \"3.8\" in /usr/local/lib/python3.7/dist-packages (from transformers) (4.5.0)\n",
            "Requirement already satisfied: filelock in /usr/local/lib/python3.7/dist-packages (from transformers) (3.0.12)\n",
            "Requirement already satisfied: requests in /usr/local/lib/python3.7/dist-packages (from transformers) (2.23.0)\n",
            "Collecting sacremoses\n",
            "\u001b[?25l  Downloading https://files.pythonhosted.org/packages/75/ee/67241dc87f266093c533a2d4d3d69438e57d7a90abb216fa076e7d475d4a/sacremoses-0.0.45-py3-none-any.whl (895kB)\n",
            "\u001b[K     |████████████████████████████████| 901kB 49.9MB/s \n",
            "\u001b[?25hRequirement already satisfied: numpy>=1.17 in /usr/local/lib/python3.7/dist-packages (from transformers) (1.19.5)\n",
            "Requirement already satisfied: pyparsing>=2.0.2 in /usr/local/lib/python3.7/dist-packages (from packaging->transformers) (2.4.7)\n",
            "Requirement already satisfied: zipp>=0.5 in /usr/local/lib/python3.7/dist-packages (from importlib-metadata; python_version < \"3.8\"->transformers) (3.4.1)\n",
            "Requirement already satisfied: typing-extensions>=3.6.4; python_version < \"3.8\" in /usr/local/lib/python3.7/dist-packages (from importlib-metadata; python_version < \"3.8\"->transformers) (3.7.4.3)\n",
            "Requirement already satisfied: certifi>=2017.4.17 in /usr/local/lib/python3.7/dist-packages (from requests->transformers) (2021.5.30)\n",
            "Requirement already satisfied: urllib3!=1.25.0,!=1.25.1,<1.26,>=1.21.1 in /usr/local/lib/python3.7/dist-packages (from requests->transformers) (1.24.3)\n",
            "Requirement already satisfied: chardet<4,>=3.0.2 in /usr/local/lib/python3.7/dist-packages (from requests->transformers) (3.0.4)\n",
            "Requirement already satisfied: idna<3,>=2.5 in /usr/local/lib/python3.7/dist-packages (from requests->transformers) (2.10)\n",
            "Requirement already satisfied: joblib in /usr/local/lib/python3.7/dist-packages (from sacremoses->transformers) (1.0.1)\n",
            "Requirement already satisfied: click in /usr/local/lib/python3.7/dist-packages (from sacremoses->transformers) (7.1.2)\n",
            "Requirement already satisfied: six in /usr/local/lib/python3.7/dist-packages (from sacremoses->transformers) (1.15.0)\n",
            "Installing collected packages: huggingface-hub, tokenizers, sacremoses, transformers\n",
            "Successfully installed huggingface-hub-0.0.8 sacremoses-0.0.45 tokenizers-0.10.3 transformers-4.6.1\n"
          ],
          "name": "stdout"
        }
      ]
    },
    {
      "cell_type": "code",
      "metadata": {
        "colab": {
          "base_uri": "https://localhost:8080/"
        },
        "id": "9V_4ReVwDIaU",
        "outputId": "d0ebe3cf-a604-4c4c-b5c8-ef8a8de2a59f"
      },
      "source": [
        "!pip install sentence-transformers"
      ],
      "execution_count": 3,
      "outputs": [
        {
          "output_type": "stream",
          "text": [
            "Collecting sentence-transformers\n",
            "\u001b[?25l  Downloading https://files.pythonhosted.org/packages/cc/75/df441011cd1726822b70fbff50042adb4860e9327b99b346154ead704c44/sentence-transformers-1.2.0.tar.gz (81kB)\n",
            "\r\u001b[K     |████                            | 10kB 22.8MB/s eta 0:00:01\r\u001b[K     |████████                        | 20kB 16.1MB/s eta 0:00:01\r\u001b[K     |████████████                    | 30kB 14.1MB/s eta 0:00:01\r\u001b[K     |████████████████                | 40kB 13.6MB/s eta 0:00:01\r\u001b[K     |████████████████████▏           | 51kB 7.7MB/s eta 0:00:01\r\u001b[K     |████████████████████████▏       | 61kB 9.0MB/s eta 0:00:01\r\u001b[K     |████████████████████████████▏   | 71kB 8.5MB/s eta 0:00:01\r\u001b[K     |████████████████████████████████| 81kB 5.7MB/s \n",
            "\u001b[?25hRequirement already satisfied: transformers<5.0.0,>=3.1.0 in /usr/local/lib/python3.7/dist-packages (from sentence-transformers) (4.6.1)\n",
            "Requirement already satisfied: tqdm in /usr/local/lib/python3.7/dist-packages (from sentence-transformers) (4.41.1)\n",
            "Requirement already satisfied: torch>=1.6.0 in /usr/local/lib/python3.7/dist-packages (from sentence-transformers) (1.8.1+cu101)\n",
            "Requirement already satisfied: torchvision in /usr/local/lib/python3.7/dist-packages (from sentence-transformers) (0.9.1+cu101)\n",
            "Requirement already satisfied: numpy in /usr/local/lib/python3.7/dist-packages (from sentence-transformers) (1.19.5)\n",
            "Requirement already satisfied: scikit-learn in /usr/local/lib/python3.7/dist-packages (from sentence-transformers) (0.22.2.post1)\n",
            "Requirement already satisfied: scipy in /usr/local/lib/python3.7/dist-packages (from sentence-transformers) (1.4.1)\n",
            "Requirement already satisfied: nltk in /usr/local/lib/python3.7/dist-packages (from sentence-transformers) (3.2.5)\n",
            "Collecting sentencepiece\n",
            "\u001b[?25l  Downloading https://files.pythonhosted.org/packages/f5/99/e0808cb947ba10f575839c43e8fafc9cc44e4a7a2c8f79c60db48220a577/sentencepiece-0.1.95-cp37-cp37m-manylinux2014_x86_64.whl (1.2MB)\n",
            "\u001b[K     |████████████████████████████████| 1.2MB 40.8MB/s \n",
            "\u001b[?25hRequirement already satisfied: huggingface-hub==0.0.8 in /usr/local/lib/python3.7/dist-packages (from transformers<5.0.0,>=3.1.0->sentence-transformers) (0.0.8)\n",
            "Requirement already satisfied: sacremoses in /usr/local/lib/python3.7/dist-packages (from transformers<5.0.0,>=3.1.0->sentence-transformers) (0.0.45)\n",
            "Requirement already satisfied: packaging in /usr/local/lib/python3.7/dist-packages (from transformers<5.0.0,>=3.1.0->sentence-transformers) (20.9)\n",
            "Requirement already satisfied: filelock in /usr/local/lib/python3.7/dist-packages (from transformers<5.0.0,>=3.1.0->sentence-transformers) (3.0.12)\n",
            "Requirement already satisfied: requests in /usr/local/lib/python3.7/dist-packages (from transformers<5.0.0,>=3.1.0->sentence-transformers) (2.23.0)\n",
            "Requirement already satisfied: tokenizers<0.11,>=0.10.1 in /usr/local/lib/python3.7/dist-packages (from transformers<5.0.0,>=3.1.0->sentence-transformers) (0.10.3)\n",
            "Requirement already satisfied: importlib-metadata; python_version < \"3.8\" in /usr/local/lib/python3.7/dist-packages (from transformers<5.0.0,>=3.1.0->sentence-transformers) (4.5.0)\n",
            "Requirement already satisfied: regex!=2019.12.17 in /usr/local/lib/python3.7/dist-packages (from transformers<5.0.0,>=3.1.0->sentence-transformers) (2019.12.20)\n",
            "Requirement already satisfied: typing-extensions in /usr/local/lib/python3.7/dist-packages (from torch>=1.6.0->sentence-transformers) (3.7.4.3)\n",
            "Requirement already satisfied: pillow>=4.1.1 in /usr/local/lib/python3.7/dist-packages (from torchvision->sentence-transformers) (7.1.2)\n",
            "Requirement already satisfied: joblib>=0.11 in /usr/local/lib/python3.7/dist-packages (from scikit-learn->sentence-transformers) (1.0.1)\n",
            "Requirement already satisfied: six in /usr/local/lib/python3.7/dist-packages (from nltk->sentence-transformers) (1.15.0)\n",
            "Requirement already satisfied: click in /usr/local/lib/python3.7/dist-packages (from sacremoses->transformers<5.0.0,>=3.1.0->sentence-transformers) (7.1.2)\n",
            "Requirement already satisfied: pyparsing>=2.0.2 in /usr/local/lib/python3.7/dist-packages (from packaging->transformers<5.0.0,>=3.1.0->sentence-transformers) (2.4.7)\n",
            "Requirement already satisfied: idna<3,>=2.5 in /usr/local/lib/python3.7/dist-packages (from requests->transformers<5.0.0,>=3.1.0->sentence-transformers) (2.10)\n",
            "Requirement already satisfied: chardet<4,>=3.0.2 in /usr/local/lib/python3.7/dist-packages (from requests->transformers<5.0.0,>=3.1.0->sentence-transformers) (3.0.4)\n",
            "Requirement already satisfied: urllib3!=1.25.0,!=1.25.1,<1.26,>=1.21.1 in /usr/local/lib/python3.7/dist-packages (from requests->transformers<5.0.0,>=3.1.0->sentence-transformers) (1.24.3)\n",
            "Requirement already satisfied: certifi>=2017.4.17 in /usr/local/lib/python3.7/dist-packages (from requests->transformers<5.0.0,>=3.1.0->sentence-transformers) (2021.5.30)\n",
            "Requirement already satisfied: zipp>=0.5 in /usr/local/lib/python3.7/dist-packages (from importlib-metadata; python_version < \"3.8\"->transformers<5.0.0,>=3.1.0->sentence-transformers) (3.4.1)\n",
            "Building wheels for collected packages: sentence-transformers\n",
            "  Building wheel for sentence-transformers (setup.py) ... \u001b[?25l\u001b[?25hdone\n",
            "  Created wheel for sentence-transformers: filename=sentence_transformers-1.2.0-cp37-none-any.whl size=123339 sha256=ffd039a91565fed4f1b51ba7fa924d1898caa6dcca9fbaaaa8aae73e0542f8e9\n",
            "  Stored in directory: /root/.cache/pip/wheels/0f/06/f7/faaa96fdda87462b4fd5c47b343340e9d5531ef70d0eef8242\n",
            "Successfully built sentence-transformers\n",
            "Installing collected packages: sentencepiece, sentence-transformers\n",
            "Successfully installed sentence-transformers-1.2.0 sentencepiece-0.1.95\n"
          ],
          "name": "stdout"
        }
      ]
    },
    {
      "cell_type": "code",
      "metadata": {
        "colab": {
          "base_uri": "https://localhost:8080/"
        },
        "id": "0iA4Wo0_FkF-",
        "outputId": "9bf9def3-46ad-4c37-a2a7-ab94262011ed"
      },
      "source": [
        "import nltk\n",
        "nltk.download('punkt')"
      ],
      "execution_count": 4,
      "outputs": [
        {
          "output_type": "stream",
          "text": [
            "[nltk_data] Downloading package punkt to /root/nltk_data...\n",
            "[nltk_data]   Unzipping tokenizers/punkt.zip.\n"
          ],
          "name": "stdout"
        },
        {
          "output_type": "execute_result",
          "data": {
            "text/plain": [
              "True"
            ]
          },
          "metadata": {
            "tags": []
          },
          "execution_count": 4
        }
      ]
    },
    {
      "cell_type": "markdown",
      "metadata": {
        "id": "d60ySFfu6Epr"
      },
      "source": [
        "# PATH VARIABLES\n",
        "These variables contain several paths which will be used by the script."
      ]
    },
    {
      "cell_type": "code",
      "metadata": {
        "id": "uL_k2CX8CcHT"
      },
      "source": [
        "OUTPUT_DIR_SCI_BERT = \"./drive/MyDrive/Fiverr/sci_bert_training/output/\"\n",
        "OUTPUT_MODEL_NAME = \"SCIBERT_pretrained_on_patentdata\"\n",
        "TRAIN_PATH = \"./drive/MyDrive/Fiverr/sci_bert_training/datafinetuning_train.txt\"\n",
        "VAL_PATH = \"./drive/MyDrive/Fiverr/sci_bert_training/datafinetuning_val.txt\"\n",
        "SCIBERT_MODEL = \"allenai/scibert_scivocab_uncased\"\n",
        "RANDOM_SEED = 0"
      ],
      "execution_count": 3,
      "outputs": []
    },
    {
      "cell_type": "markdown",
      "metadata": {
        "id": "u3b0YTs-6Oax"
      },
      "source": [
        "# Script to create datafinetuning_train.txt and datafinetuning_val.txt files which will be used by the \"Pre-training\" of SCIBERT model.\n",
        "Note: This cell is note required if these two files already exists."
      ]
    },
    {
      "cell_type": "code",
      "metadata": {
        "colab": {
          "base_uri": "https://localhost:8080/"
        },
        "id": "ZSyR1U1GB-EZ",
        "outputId": "19bd54b8-d69b-42ab-9192-8daf8d492b7f"
      },
      "source": [
        "import pandas as pd\n",
        "import nltk\n",
        "from tqdm import tqdm\n",
        "corpus = pd.read_excel(\"./drive/MyDrive/Fiverr/sci_bert_training/Data_Fine-tuning.xlsx\")\n",
        "corpus = corpus.sample(frac=1, random_state=RANDOM_SEED)\n",
        "corpus = corpus.dropna()\n",
        "train_length = corpus.shape[0] * 0.80\n",
        "val_length = 1 - train_length\n",
        "train_list = []\n",
        "dev_list = []\n",
        "for i in tqdm(range(corpus.shape[0])):\n",
        "    if i <= train_length:\n",
        "      for column in ['TTL', 'ABST', 'ACLM']:\n",
        "          sentences = nltk.tokenize.sent_tokenize(corpus.loc[i, column])\n",
        "          for sentence in sentences:\n",
        "              if sentence[0] not in ['0', '1', '2', '3', '4', '5', '6', '7', '8', '9']: # Deleting the numbering in front of each sentence.\n",
        "                  train_list.append(sentence)\n",
        "    else:\n",
        "      for column in ['TTL', 'ABST', 'ACLM']:\n",
        "          sentences = nltk.tokenize.sent_tokenize(corpus.loc[i, column])\n",
        "          for sentence in sentences:\n",
        "              if sentence[0] not in ['0', '1', '2', '3', '4', '5', '6', '7', '8', '9']: # Deleting the numbering in front of each sentence.\n",
        "                  dev_list.append(sentence)\n",
        "\n",
        "print(\"Total training sentences: \", len(train_list))\n",
        "textfile = open(TRAIN_PATH, \"w\")\n",
        "for element in train_list:\n",
        "    textfile.write(element + \"\\n\")\n",
        "textfile.close()\n",
        "\n",
        "print(\"Total validation sentences: \", len(dev_list))\n",
        "textfile = open(VAL_PATH, \"w\")\n",
        "for element in dev_list:\n",
        "    textfile.write(element + \"\\n\")\n",
        "textfile.close()\n"
      ],
      "execution_count": null,
      "outputs": [
        {
          "output_type": "stream",
          "text": [
            "100%|██████████| 204/204 [00:00<00:00, 627.42it/s]"
          ],
          "name": "stderr"
        },
        {
          "output_type": "stream",
          "text": [
            "Total training sentences:  4261\n",
            "Total validation sentences:  1037\n"
          ],
          "name": "stdout"
        },
        {
          "output_type": "stream",
          "text": [
            "\n"
          ],
          "name": "stderr"
        }
      ]
    },
    {
      "cell_type": "markdown",
      "metadata": {
        "id": "UgyHzOVI7pWX"
      },
      "source": [
        "# MASK LANGUAGE MODELLING task for Pre training of SCIBERT MODEL\n",
        "\n",
        "NOTE: model will be saved in this directory: ./drive/MyDrive/Fiverr/sci_bert_training/output/SCIBERT_pretrained_on_patentdata\n",
        "\n",
        "Due to GPU Limitations, the max length of sentences will be 100. If sentence exceeds 100, the rest of sentence will be truncated."
      ]
    },
    {
      "cell_type": "code",
      "metadata": {
        "colab": {
          "base_uri": "https://localhost:8080/",
          "height": 1000
        },
        "id": "1LSkFseKAozf",
        "outputId": "25d77d1b-0f05-4a3c-b1c7-730ff9c638f5"
      },
      "source": [
        "from transformers import AutoModelForMaskedLM, AutoTokenizer\n",
        "from transformers import DataCollatorForLanguageModeling, DataCollatorForWholeWordMask\n",
        "from transformers import Trainer, TrainingArguments\n",
        "import sys\n",
        "import gzip\n",
        "from datetime import datetime\n",
        "\n",
        "\n",
        "model_name = SCIBERT_MODEL\n",
        "per_device_train_batch_size = 64\n",
        "\n",
        "save_steps = 10               #Save model every 1k steps\n",
        "num_train_epochs = 6            #Number of epochs\n",
        "use_fp16 = False                #Set to True, if your GPU supports FP16 operations\n",
        "max_length = 100                #Max length for a text input\n",
        "do_whole_word_mask = True       #If set to true, whole words are masked\n",
        "mlm_prob = 15                   #Probability that a word is replaced by a [MASK] token\n",
        "\n",
        "# Load the model\n",
        "model = AutoModelForMaskedLM.from_pretrained(model_name)\n",
        "tokenizer = AutoTokenizer.from_pretrained(model_name)\n",
        "\n",
        "\n",
        "output_dir = OUTPUT_DIR_SCI_BERT+\"{}\".format(OUTPUT_MODEL_NAME)\n",
        "print(\"Save checkpoints to:\", output_dir)\n",
        "\n",
        "\n",
        "##### Load our training datasets\n",
        "\n",
        "train_sentences = []\n",
        "train_path = TRAIN_PATH\n",
        "with gzip.open(train_path, 'rt', encoding='utf8') if train_path.endswith('.gz') else  open(train_path, 'r', encoding='utf8') as fIn:\n",
        "    for line in fIn:\n",
        "        line = line.strip()\n",
        "        if len(line) >= 10:\n",
        "            train_sentences.append(line)\n",
        "\n",
        "print(\"Train sentences:\", len(train_sentences))\n",
        "\n",
        "dev_sentences = []\n",
        "dev_path = VAL_PATH\n",
        "with gzip.open(dev_path, 'rt', encoding='utf8') if dev_path.endswith('.gz') else open(dev_path, 'r', encoding='utf8') as fIn:\n",
        "    for line in fIn:\n",
        "        line = line.strip()\n",
        "        if len(line) >= 10:\n",
        "            dev_sentences.append(line)\n",
        "\n",
        "print(\"Dev sentences:\", len(dev_sentences))\n",
        "\n",
        "#A dataset wrapper, that tokenizes our data on-the-fly\n",
        "class TokenizedSentencesDataset:\n",
        "    def __init__(self, sentences, tokenizer, max_length, cache_tokenization=False):\n",
        "        self.tokenizer = tokenizer\n",
        "        self.sentences = sentences\n",
        "        self.max_length = max_length\n",
        "        self.cache_tokenization = cache_tokenization\n",
        "\n",
        "    def __getitem__(self, item):\n",
        "        if not self.cache_tokenization:\n",
        "            return self.tokenizer(self.sentences[item], add_special_tokens=True, truncation=True, max_length=self.max_length, return_special_tokens_mask=True)\n",
        "\n",
        "        if isinstance(self.sentences[item], str):\n",
        "            self.sentences[item] = self.tokenizer(self.sentences[item], add_special_tokens=True, truncation=True, max_length=self.max_length, return_special_tokens_mask=True)\n",
        "        return self.sentences[item]\n",
        "\n",
        "    def __len__(self):\n",
        "        return len(self.sentences)\n",
        "\n",
        "train_dataset = TokenizedSentencesDataset(train_sentences, tokenizer, max_length)\n",
        "dev_dataset = TokenizedSentencesDataset(dev_sentences, tokenizer, max_length, cache_tokenization=True) if len(dev_sentences) > 0 else None\n",
        "\n",
        "\n",
        "##### Training arguments\n",
        "\n",
        "if do_whole_word_mask:\n",
        "    data_collator = DataCollatorForWholeWordMask(tokenizer=tokenizer, mlm=True, mlm_probability=mlm_prob)\n",
        "else:\n",
        "    data_collator = DataCollatorForLanguageModeling(tokenizer=tokenizer, mlm=True, mlm_probability=mlm_prob)\n",
        "\n",
        "training_args = TrainingArguments(\n",
        "    output_dir=output_dir,\n",
        "    overwrite_output_dir=True,\n",
        "    num_train_epochs=num_train_epochs,\n",
        "    evaluation_strategy=\"steps\" if dev_dataset is not None else \"no\",\n",
        "    per_device_train_batch_size=per_device_train_batch_size,\n",
        "    eval_steps=save_steps,\n",
        "    save_steps=100,\n",
        "    logging_steps=save_steps,\n",
        "    save_total_limit=1,\n",
        "    prediction_loss_only=True,\n",
        "    fp16=use_fp16\n",
        ")\n",
        "\n",
        "trainer = Trainer(\n",
        "    model=model,\n",
        "    args=training_args,\n",
        "    data_collator=data_collator,\n",
        "    train_dataset=train_dataset,\n",
        "    eval_dataset=dev_dataset\n",
        ")\n",
        "\n",
        "print(\"Save tokenizer to:\", output_dir)\n",
        "tokenizer.save_pretrained(output_dir)\n",
        "\n",
        "trainer.train()\n",
        "\n",
        "print(\"Save model to:\", output_dir)\n",
        "model.save_pretrained(output_dir)\n",
        "\n",
        "print(\"Training done\")"
      ],
      "execution_count": null,
      "outputs": [
        {
          "output_type": "stream",
          "text": [
            "Some weights of the model checkpoint at allenai/scibert_scivocab_uncased were not used when initializing BertForMaskedLM: ['cls.seq_relationship.weight', 'cls.seq_relationship.bias']\n",
            "- This IS expected if you are initializing BertForMaskedLM from the checkpoint of a model trained on another task or with another architecture (e.g. initializing a BertForSequenceClassification model from a BertForPreTraining model).\n",
            "- This IS NOT expected if you are initializing BertForMaskedLM from the checkpoint of a model that you expect to be exactly identical (initializing a BertForSequenceClassification model from a BertForSequenceClassification model).\n"
          ],
          "name": "stderr"
        },
        {
          "output_type": "stream",
          "text": [
            "Save checkpoints to: ./drive/MyDrive/Fiverr/sci_bert_training/output/SCIBERT_pretrained_on_patentdata\n",
            "Train sentences: 4099\n",
            "Dev sentences: 1024\n",
            "Save tokenizer to: ./drive/MyDrive/Fiverr/sci_bert_training/output/SCIBERT_pretrained_on_patentdata\n"
          ],
          "name": "stdout"
        },
        {
          "output_type": "display_data",
          "data": {
            "text/html": [
              "\n",
              "    <div>\n",
              "      \n",
              "      <progress value='390' max='390' style='width:300px; height:20px; vertical-align: middle;'></progress>\n",
              "      [390/390 16:30, Epoch 6/6]\n",
              "    </div>\n",
              "    <table border=\"1\" class=\"dataframe\">\n",
              "  <thead>\n",
              "    <tr style=\"text-align: left;\">\n",
              "      <th>Step</th>\n",
              "      <th>Training Loss</th>\n",
              "      <th>Validation Loss</th>\n",
              "    </tr>\n",
              "  </thead>\n",
              "  <tbody>\n",
              "    <tr>\n",
              "      <td>10</td>\n",
              "      <td>6.386900</td>\n",
              "      <td>5.323237</td>\n",
              "    </tr>\n",
              "    <tr>\n",
              "      <td>20</td>\n",
              "      <td>5.017600</td>\n",
              "      <td>4.900414</td>\n",
              "    </tr>\n",
              "    <tr>\n",
              "      <td>30</td>\n",
              "      <td>4.700000</td>\n",
              "      <td>4.665883</td>\n",
              "    </tr>\n",
              "    <tr>\n",
              "      <td>40</td>\n",
              "      <td>4.505900</td>\n",
              "      <td>4.540105</td>\n",
              "    </tr>\n",
              "    <tr>\n",
              "      <td>50</td>\n",
              "      <td>4.453200</td>\n",
              "      <td>4.488190</td>\n",
              "    </tr>\n",
              "    <tr>\n",
              "      <td>60</td>\n",
              "      <td>4.335200</td>\n",
              "      <td>4.417169</td>\n",
              "    </tr>\n",
              "    <tr>\n",
              "      <td>70</td>\n",
              "      <td>4.229100</td>\n",
              "      <td>4.417305</td>\n",
              "    </tr>\n",
              "    <tr>\n",
              "      <td>80</td>\n",
              "      <td>4.233000</td>\n",
              "      <td>4.418386</td>\n",
              "    </tr>\n",
              "    <tr>\n",
              "      <td>90</td>\n",
              "      <td>4.146600</td>\n",
              "      <td>4.366575</td>\n",
              "    </tr>\n",
              "    <tr>\n",
              "      <td>100</td>\n",
              "      <td>4.174500</td>\n",
              "      <td>4.338973</td>\n",
              "    </tr>\n",
              "    <tr>\n",
              "      <td>110</td>\n",
              "      <td>4.108500</td>\n",
              "      <td>4.286998</td>\n",
              "    </tr>\n",
              "    <tr>\n",
              "      <td>120</td>\n",
              "      <td>4.046300</td>\n",
              "      <td>4.294622</td>\n",
              "    </tr>\n",
              "    <tr>\n",
              "      <td>130</td>\n",
              "      <td>4.012800</td>\n",
              "      <td>4.243229</td>\n",
              "    </tr>\n",
              "    <tr>\n",
              "      <td>140</td>\n",
              "      <td>4.044800</td>\n",
              "      <td>4.293653</td>\n",
              "    </tr>\n",
              "    <tr>\n",
              "      <td>150</td>\n",
              "      <td>4.015000</td>\n",
              "      <td>4.241942</td>\n",
              "    </tr>\n",
              "    <tr>\n",
              "      <td>160</td>\n",
              "      <td>3.992400</td>\n",
              "      <td>4.192971</td>\n",
              "    </tr>\n",
              "    <tr>\n",
              "      <td>170</td>\n",
              "      <td>3.940700</td>\n",
              "      <td>4.227597</td>\n",
              "    </tr>\n",
              "    <tr>\n",
              "      <td>180</td>\n",
              "      <td>3.971500</td>\n",
              "      <td>4.262787</td>\n",
              "    </tr>\n",
              "    <tr>\n",
              "      <td>190</td>\n",
              "      <td>3.944900</td>\n",
              "      <td>4.202931</td>\n",
              "    </tr>\n",
              "    <tr>\n",
              "      <td>200</td>\n",
              "      <td>3.854900</td>\n",
              "      <td>4.236786</td>\n",
              "    </tr>\n",
              "    <tr>\n",
              "      <td>210</td>\n",
              "      <td>3.934100</td>\n",
              "      <td>4.186576</td>\n",
              "    </tr>\n",
              "    <tr>\n",
              "      <td>220</td>\n",
              "      <td>3.907200</td>\n",
              "      <td>4.245081</td>\n",
              "    </tr>\n",
              "    <tr>\n",
              "      <td>230</td>\n",
              "      <td>3.945100</td>\n",
              "      <td>4.208334</td>\n",
              "    </tr>\n",
              "    <tr>\n",
              "      <td>240</td>\n",
              "      <td>3.897900</td>\n",
              "      <td>4.245034</td>\n",
              "    </tr>\n",
              "    <tr>\n",
              "      <td>250</td>\n",
              "      <td>3.861200</td>\n",
              "      <td>4.235702</td>\n",
              "    </tr>\n",
              "    <tr>\n",
              "      <td>260</td>\n",
              "      <td>3.910500</td>\n",
              "      <td>4.274124</td>\n",
              "    </tr>\n",
              "    <tr>\n",
              "      <td>270</td>\n",
              "      <td>3.822000</td>\n",
              "      <td>4.229740</td>\n",
              "    </tr>\n",
              "    <tr>\n",
              "      <td>280</td>\n",
              "      <td>3.852500</td>\n",
              "      <td>4.198338</td>\n",
              "    </tr>\n",
              "    <tr>\n",
              "      <td>290</td>\n",
              "      <td>3.895300</td>\n",
              "      <td>4.181337</td>\n",
              "    </tr>\n",
              "    <tr>\n",
              "      <td>300</td>\n",
              "      <td>3.871200</td>\n",
              "      <td>4.236012</td>\n",
              "    </tr>\n",
              "    <tr>\n",
              "      <td>310</td>\n",
              "      <td>3.851500</td>\n",
              "      <td>4.194317</td>\n",
              "    </tr>\n",
              "    <tr>\n",
              "      <td>320</td>\n",
              "      <td>3.787200</td>\n",
              "      <td>4.214341</td>\n",
              "    </tr>\n",
              "    <tr>\n",
              "      <td>330</td>\n",
              "      <td>3.786800</td>\n",
              "      <td>4.181881</td>\n",
              "    </tr>\n",
              "    <tr>\n",
              "      <td>340</td>\n",
              "      <td>3.824800</td>\n",
              "      <td>4.200500</td>\n",
              "    </tr>\n",
              "    <tr>\n",
              "      <td>350</td>\n",
              "      <td>3.789300</td>\n",
              "      <td>4.187157</td>\n",
              "    </tr>\n",
              "    <tr>\n",
              "      <td>360</td>\n",
              "      <td>3.844700</td>\n",
              "      <td>4.204445</td>\n",
              "    </tr>\n",
              "    <tr>\n",
              "      <td>370</td>\n",
              "      <td>3.823500</td>\n",
              "      <td>4.201427</td>\n",
              "    </tr>\n",
              "    <tr>\n",
              "      <td>380</td>\n",
              "      <td>3.787000</td>\n",
              "      <td>4.212466</td>\n",
              "    </tr>\n",
              "    <tr>\n",
              "      <td>390</td>\n",
              "      <td>3.812200</td>\n",
              "      <td>4.196281</td>\n",
              "    </tr>\n",
              "  </tbody>\n",
              "</table><p>"
            ],
            "text/plain": [
              "<IPython.core.display.HTML object>"
            ]
          },
          "metadata": {
            "tags": []
          }
        },
        {
          "output_type": "stream",
          "text": [
            "Save model to: ./drive/MyDrive/Fiverr/sci_bert_training/output/SCIBERT_pretrained_on_patentdata\n",
            "Training done\n"
          ],
          "name": "stdout"
        }
      ]
    },
    {
      "cell_type": "code",
      "metadata": {
        "id": "fkRJ4iDSCblm"
      },
      "source": [
        "MODEL_PATH = \"./drive/MyDrive/Fiverr/sci_bert_training/output/SCIBERT_pretrained_on_patentdata\""
      ],
      "execution_count": null,
      "outputs": []
    },
    {
      "cell_type": "markdown",
      "metadata": {
        "id": "ebZHgdxw8BMV"
      },
      "source": [
        "# Script to convert Transformer model into Sentence Transformer model and train it for a STS(Sentence Similarity Task) using labelled dataset.\n",
        "Name of sentence transformer model will be SciBert_finetuning_BIOSSES. \n",
        "\n",
        "Note: Model will be saved also in ./drive/MyDrive/Fiverr/sci_bert_training/output/"
      ]
    },
    {
      "cell_type": "code",
      "metadata": {
        "id": "iixBivNI-V3p"
      },
      "source": [
        "from torch.utils.data import DataLoader\n",
        "import math\n",
        "from sentence_transformers import SentenceTransformer,  LoggingHandler, losses, models, util\n",
        "from sentence_transformers.evaluation import EmbeddingSimilarityEvaluator\n",
        "from sentence_transformers.readers import InputExample\n",
        "import logging\n",
        "from datetime import datetime\n",
        "import sys\n",
        "import os\n",
        "import gzip\n",
        "import csv\n",
        "import pandas as pd"
      ],
      "execution_count": 4,
      "outputs": []
    },
    {
      "cell_type": "code",
      "metadata": {
        "id": "pDrJDuRhB927"
      },
      "source": [
        "SENTENCETRANSFORMER_MODEL_NAME = 'SciBert_finetuning_BIOSSES'\n",
        "model_save_path = './drive/MyDrive/Fiverr/sci_bert_training/output/'+SENTENCETRANSFORMER_MODEL_NAME\n"
      ],
      "execution_count": 5,
      "outputs": []
    },
    {
      "cell_type": "code",
      "metadata": {
        "colab": {
          "base_uri": "https://localhost:8080/",
          "height": 452,
          "referenced_widgets": [
            "b77cdfb36dd345eeb9bb26da822dc686",
            "3fc37e62f3c746518e6652435625cf0c",
            "08c4ba9addea4162b35e5f171de89a33",
            "10a9f5ae91be4074bb6c2d4a63e5af11",
            "0a1af441366348119ba5baaf92ab5eaa",
            "dfbad4ae79914ab08bf88508a92ea40b",
            "8f8d1668eb9049529fd990cacbfc0d8d",
            "64a711ab41b443dda1eda05a7992e1af",
            "2d701a227b86463b857ca5b27c106880",
            "3f956e5b07304262844bdbd21d256e83",
            "83dd3235eecf44cc9aa956c51112eb85",
            "70c1bbb267374543ba856f65ff2a0bfe",
            "fbed761f3b214968923f06aaf1f9c53c",
            "480a50306cf244f48d43b211cb680828",
            "9eb3c0ede03d4d8bbbaa76a71bdb7723",
            "09670095fbf14c8a8e9932021f5c6947",
            "9182d673418e43fd884232ecf2a2e76a",
            "7513ed3385de4bd3b539c6919b1d9016",
            "85557f629111456daf6109bce890ed2c",
            "131b3ecedbdb43aa9be4a5052fdaabf5",
            "d4e6ffb8abff4c359c131eaa6aa1f087",
            "8e0127acea8d4d228393ddb14f1ac83e",
            "c83150f796844f6d8a45e541fec03949",
            "ffad0063f3a3454e8737b4c59cffbdb8",
            "c16dd537f8804142b5545a4ec9a1529f",
            "1af7180175ab4ec9a92f945aebc4d33e",
            "3b4513eb4cad4245b7d688ec99255ea1",
            "2e386938886f41278c491f53f9e74d53",
            "a1c80fc9d9c64c5b84ed3eea8247d81c",
            "c3a09c7d9ddb4d778b937cb546403c3b",
            "17540adc2da84941b9727503d167cafe",
            "150393dc73714aa2acd7f4307806cafe",
            "6ad9db583f544338a20982d2546dcf0c",
            "4b700b9d4c204668a9874963daa03fa0",
            "8c41714483044354a098dceaa4bda59c",
            "767094eb328b4276ac7fcfd4b5a2250b",
            "e072e380481e41f980d65005a5808569",
            "800528549575407a9faea8bcd74bda73",
            "42d2fada166a44c58db455d87225ebb1",
            "c58dac8485f240119292d5ac39db08f3"
          ]
        },
        "id": "3H-l_gjK2icq",
        "outputId": "c94c1156-82eb-42a8-d906-04b0838acf76"
      },
      "source": [
        "\n",
        "\n",
        "#### Just some code to print debug information to stdout\n",
        "logging.basicConfig(format='%(asctime)s - %(message)s',\n",
        "                    datefmt='%Y-%m-%d %H:%M:%S',\n",
        "                    level=logging.INFO,\n",
        "                    handlers=[LoggingHandler()])\n",
        "#### /print debug information to stdout\n",
        "\n",
        "#You can specify any huggingface/transformers pre-trained model here, for example, bert-base-uncased, roberta-base, xlm-roberta-base\n",
        "model_name = MODEL_PATH\n",
        "# Read the dataset\n",
        "train_batch_size = 8\n",
        "num_epochs = 4\n",
        "\n",
        "\n",
        "# Use Huggingface/transformers model (like BERT, RoBERTa, XLNet, XLM-R) for mapping tokens to embeddings\n",
        "word_embedding_model = models.Transformer(model_name)\n",
        "\n",
        "# Apply mean pooling to get one fixed sized sentence vector\n",
        "pooling_model = models.Pooling(word_embedding_model.get_word_embedding_dimension(),\n",
        "                               pooling_mode_mean_tokens=True,\n",
        "                               pooling_mode_cls_token=False,\n",
        "                               pooling_mode_max_tokens=False)\n",
        "\n",
        "model = SentenceTransformer(modules=[word_embedding_model, pooling_model], device='cuda')\n",
        "\n",
        "train_samples = []\n",
        "dataset = pd.read_csv('./drive/MyDrive/Fiverr/sci_bert_training/BIOSSES-Dataset/BIOSSES_Pairs_Scores.csv')\n",
        "dataset = dataset.sample(frac = 1)\n",
        "dataset = dataset.dropna()\n",
        "for i in range(dataset.shape[0]):\n",
        "  text1 = dataset['Sentence 1'].iloc[i]\n",
        "  text2 = dataset['Sentence 2'].iloc[i]\n",
        "  #TAKING THE MAX \n",
        "  score_list = [int(dataset['Annotator A'].iloc[i]), int(dataset['Annotator B'].iloc[i]), \\\n",
        "                int(dataset['Annotator C'].iloc[i]), int(dataset['Annotator D'].iloc[i]), int(dataset['Annotator E'].iloc[i])]\n",
        "  score = max(set(score_list), key = score_list.count)/4.0 # Normalize score to range 0 ... 1\n",
        "  inp_example = InputExample(texts=[text1, text2], label=score)\n",
        "  train_samples.append(inp_example)\n",
        "\n",
        "logging.info(\"train samples: {}\".format(len(train_samples)))\n",
        "\n",
        "train_dataloader = DataLoader(train_samples, shuffle=True, batch_size=train_batch_size)\n",
        "train_loss = losses.CosineSimilarityLoss(model=model)\n",
        "\n",
        "# Configure the training. We skip evaluation in this example\n",
        "warmup_steps = math.ceil(len(train_dataloader) * num_epochs  * 0.1) #10% of train data for warm-up\n",
        "logging.info(\"Warmup-steps: {}\".format(warmup_steps))\n",
        "\n",
        "\n",
        "# Train the model\n",
        "model.fit(train_objectives=[(train_dataloader, train_loss)],\n",
        "          evaluator=None,\n",
        "          epochs=num_epochs,\n",
        "          evaluation_steps=1000,\n",
        "          warmup_steps=warmup_steps,\n",
        "          output_path=model_save_path)\n",
        "\n"
      ],
      "execution_count": null,
      "outputs": [
        {
          "output_type": "stream",
          "text": [
            "Some weights of the model checkpoint at ./drive/MyDrive/Fiverr/sci_bert_training/output/SCIBERT_pretrained_on_patentdata were not used when initializing BertModel: ['cls.predictions.decoder.bias', 'cls.predictions.transform.LayerNorm.bias', 'cls.predictions.transform.dense.weight', 'cls.predictions.transform.LayerNorm.weight', 'cls.predictions.transform.dense.bias', 'cls.predictions.decoder.weight', 'cls.predictions.bias']\n",
            "- This IS expected if you are initializing BertModel from the checkpoint of a model trained on another task or with another architecture (e.g. initializing a BertForSequenceClassification model from a BertForPreTraining model).\n",
            "- This IS NOT expected if you are initializing BertModel from the checkpoint of a model that you expect to be exactly identical (initializing a BertForSequenceClassification model from a BertForSequenceClassification model).\n",
            "Some weights of BertModel were not initialized from the model checkpoint at ./drive/MyDrive/Fiverr/sci_bert_training/output/SCIBERT_pretrained_on_patentdata and are newly initialized: ['bert.pooler.dense.weight', 'bert.pooler.dense.bias']\n",
            "You should probably TRAIN this model on a down-stream task to be able to use it for predictions and inference.\n"
          ],
          "name": "stderr"
        },
        {
          "output_type": "stream",
          "text": [
            "2021-06-12 12:18:03 - NumExpr defaulting to 2 threads.\n",
            "2021-06-12 12:18:03 - train samples: 94\n",
            "2021-06-12 12:18:03 - Warmup-steps: 5\n"
          ],
          "name": "stdout"
        },
        {
          "output_type": "display_data",
          "data": {
            "application/vnd.jupyter.widget-view+json": {
              "model_id": "b77cdfb36dd345eeb9bb26da822dc686",
              "version_minor": 0,
              "version_major": 2
            },
            "text/plain": [
              "HBox(children=(FloatProgress(value=0.0, description='Epoch', max=4.0, style=ProgressStyle(description_width='i…"
            ]
          },
          "metadata": {
            "tags": []
          }
        },
        {
          "output_type": "display_data",
          "data": {
            "application/vnd.jupyter.widget-view+json": {
              "model_id": "2d701a227b86463b857ca5b27c106880",
              "version_minor": 0,
              "version_major": 2
            },
            "text/plain": [
              "HBox(children=(FloatProgress(value=0.0, description='Iteration', max=12.0, style=ProgressStyle(description_wid…"
            ]
          },
          "metadata": {
            "tags": []
          }
        },
        {
          "output_type": "stream",
          "text": [
            "Asking to truncate to max_length but no maximum length is provided and the model has no predefined maximum length. Default to no truncation.\n"
          ],
          "name": "stderr"
        },
        {
          "output_type": "stream",
          "text": [
            "\n"
          ],
          "name": "stdout"
        },
        {
          "output_type": "display_data",
          "data": {
            "application/vnd.jupyter.widget-view+json": {
              "model_id": "9182d673418e43fd884232ecf2a2e76a",
              "version_minor": 0,
              "version_major": 2
            },
            "text/plain": [
              "HBox(children=(FloatProgress(value=0.0, description='Iteration', max=12.0, style=ProgressStyle(description_wid…"
            ]
          },
          "metadata": {
            "tags": []
          }
        },
        {
          "output_type": "stream",
          "text": [
            "\n"
          ],
          "name": "stdout"
        },
        {
          "output_type": "display_data",
          "data": {
            "application/vnd.jupyter.widget-view+json": {
              "model_id": "c16dd537f8804142b5545a4ec9a1529f",
              "version_minor": 0,
              "version_major": 2
            },
            "text/plain": [
              "HBox(children=(FloatProgress(value=0.0, description='Iteration', max=12.0, style=ProgressStyle(description_wid…"
            ]
          },
          "metadata": {
            "tags": []
          }
        },
        {
          "output_type": "stream",
          "text": [
            "\n"
          ],
          "name": "stdout"
        },
        {
          "output_type": "display_data",
          "data": {
            "application/vnd.jupyter.widget-view+json": {
              "model_id": "6ad9db583f544338a20982d2546dcf0c",
              "version_minor": 0,
              "version_major": 2
            },
            "text/plain": [
              "HBox(children=(FloatProgress(value=0.0, description='Iteration', max=12.0, style=ProgressStyle(description_wid…"
            ]
          },
          "metadata": {
            "tags": []
          }
        },
        {
          "output_type": "stream",
          "text": [
            "\n",
            "\n",
            "2021-06-12 12:18:32 - Save model to ./drive/MyDrive/Fiverr/sci_bert_training/output/SciBert_finetuning_BIOSSES\n"
          ],
          "name": "stdout"
        }
      ]
    },
    {
      "cell_type": "markdown",
      "metadata": {
        "id": "wqkzVMKm9V3t"
      },
      "source": [
        "# Comparing patent sentences with the corresponding content of doi paper."
      ]
    },
    {
      "cell_type": "code",
      "metadata": {
        "id": "GfhNdQYP3Lk1"
      },
      "source": [
        "model = SentenceTransformer(model_save_path, device='cuda')"
      ],
      "execution_count": 6,
      "outputs": []
    },
    {
      "cell_type": "code",
      "metadata": {
        "id": "ea1RBtuVCmaV"
      },
      "source": [
        "PATH = './drive/MyDrive/Fiverr/sci_bert_training/'\n",
        "pairs_df = pd.read_excel(PATH + \"Paper_Corpus.xlsx\", sheet_name=0, header=2)\n",
        "corpus_df = pd.read_excel(PATH + 'Paper_Corpus.xlsx', sheet_name=1)"
      ],
      "execution_count": 7,
      "outputs": []
    },
    {
      "cell_type": "markdown",
      "metadata": {
        "id": "y6B3EfSWBvUI"
      },
      "source": [
        "This cell extracts all the sentences from \"Sentences\" folder and the corresponding mapping number from the file number"
      ]
    },
    {
      "cell_type": "code",
      "metadata": {
        "id": "U57YVtTTDV38"
      },
      "source": [
        "import glob\n",
        "import pandas as pd\n",
        "files = glob.glob(PATH + \"/Sentences/*.txt\")\n",
        "def create_sentence_df(file_list):\n",
        "    sentences_df = pd.DataFrame(columns=['filename', 'sentence', 'mapping'])\n",
        "    sentences = []\n",
        "    mapping = []\n",
        "    for file in file_list:\n",
        "        with open(file, 'r') as fd:\n",
        "            sentences.append(fd.readline())\n",
        "            mapping.append(int(file.split('#')[1].split('_')[0].replace(',', '')))\n",
        "    sentences_df['filename'] = file_list\n",
        "    sentences_df['sentence'] = sentences\n",
        "    sentences_df['mapping'] = mapping\n",
        "    \n",
        "    return sentences_df\n",
        "\n",
        "sentences_df = create_sentence_df(files)"
      ],
      "execution_count": null,
      "outputs": []
    },
    {
      "cell_type": "markdown",
      "metadata": {
        "id": "SrYwcdAHENd1"
      },
      "source": [
        "# This cell reads each file in the Sentences folder. Gets the mapping number e.g USPTO-Dokument #8,501,349_1_P_1 will have 8501349. Search that number inside the Paper_Corpus file, get the corresponding doi numbers and extract the texts related to that doi. Compute Cosine Similarity, based on the embeddings by the trained model, and saves the maximum cos similarity sentence.\n",
        "Doi texts are converted to each sentence. These sentences will be the corpus of that corresponding patent sentence. Each sentence is converted into embeddings, and compared against the patent sentence. Maximum similarity sentence is saved inside the csv in the end"
      ]
    },
    {
      "cell_type": "markdown",
      "metadata": {
        "id": "qa8Epay2kygN"
      },
      "source": [
        "There was a misspelling of doi 10.1017/s1431927614012744. In the Corpus sheet it was 10.1017/S1431927614012744 but in pairs sheet it was 10.1017/s1431927614012744. So i manually changed it."
      ]
    },
    {
      "cell_type": "code",
      "metadata": {
        "id": "Dw1ilZ-UfKij"
      },
      "source": [
        "from tqdm import tqdm\n",
        "import numpy as np\n",
        "scores_list = []\n",
        "top_sentence_list = []\n",
        "doi_list = []\n",
        "for INDEX in tqdm(range(sentences_df.shape[0])):\n",
        "  test = sentences_df.iloc[INDEX, :]['mapping']\n",
        "  doi_many = pairs_df[pairs_df.iloc[:, 2] == test]['citation external id'].values\n",
        "  paper_text = []\n",
        "  query_sentence = [sentences_df.iloc[INDEX, :]['sentence']]\n",
        "  embeddings1 = model.encode(query_sentence, convert_to_tensor=True)\n",
        "  max_cos_similariy_ref = -np.Inf\n",
        "  most_relevant_sentence_ref = ''\n",
        "  doi_ref = None\n",
        "  for each_doi in doi_many:\n",
        "    each_doi_text = corpus_df[corpus_df['DOI'] == each_doi]['Paper_Text'].values.tolist()\n",
        "    each_doi_sentences = nltk.tokenize.sent_tokenize(each_doi_text[0])\n",
        "    embeddings2 = model.encode(each_doi_sentences, convert_to_tensor=True)\n",
        "    cosine_scores = util.pytorch_cos_sim(embeddings1, embeddings2)\n",
        "    descending_order_idx = reversed(np.argsort(cosine_scores[0, :].cpu()))\n",
        "    max_cos_similariy = cosine_scores[0][descending_order_idx[0]]\n",
        "    most_relevant_sentence = each_doi_sentences[descending_order_idx[0]]\n",
        "    if max_cos_similariy > max_cos_similariy_ref:\n",
        "      max_cos_similariy_ref = max_cos_similariy\n",
        "      most_relevant_sentence_ref = most_relevant_sentence\n",
        "      doi_ref = each_doi\n",
        "  scores_list.append(max_cos_similariy_ref.cpu().numpy().tolist())\n",
        "  top_sentence_list.append(most_relevant_sentence_ref)\n",
        "  doi_list.append(doi_ref)"
      ],
      "execution_count": null,
      "outputs": []
    },
    {
      "cell_type": "code",
      "metadata": {
        "id": "Yuqw6mIdDe96"
      },
      "source": [
        "sentences_df['cosine_similarity'] = scores_list\n",
        "sentences_df['doi'] = doi_list\n",
        "sentences_df['top_sentence'] = top_sentence_list\n",
        "sentences_df.to_csv(PATH+'scibert_pretrained_finetuned__pred_v1.csv', index=False)"
      ],
      "execution_count": null,
      "outputs": []
    },
    {
      "cell_type": "markdown",
      "metadata": {
        "id": "v5aI5vD0c6Mm"
      },
      "source": [
        "# TSNE: \n",
        "Tsne visualization is done by taking the average embedding of patent sentence and corresponding top sentence in the sentences_df. Average embedding, which is 768 dimensions, is then compressed into 2 dimensions by the TSNE algorithm.\n",
        "\n",
        "Due to large sentences, parts of sentences , in some cases, could not be visualized completely in the graph."
      ]
    },
    {
      "cell_type": "code",
      "metadata": {
        "id": "1gX4GjQEdcFR"
      },
      "source": [
        "from sklearn.manifold import TSNE\n",
        "import pandas as pd\n",
        "import plotly.express as px"
      ],
      "execution_count": 54,
      "outputs": []
    },
    {
      "cell_type": "code",
      "metadata": {
        "id": "MviekIoMdmY3"
      },
      "source": [
        "model = SentenceTransformer(model_save_path, device='cuda')\n",
        "PATH = './drive/MyDrive/Fiverr/sci_bert_training/'"
      ],
      "execution_count": 55,
      "outputs": []
    },
    {
      "cell_type": "code",
      "metadata": {
        "id": "-nZPxt_qSzMJ"
      },
      "source": [
        "sentences_df = pd.read_csv(PATH+'scibert_pretrained_finetuned__pred_v1.csv')\n",
        "sentence_embeddings = model.encode(sentences_df['sentence'].values)\n",
        "top_sentence_embeddings = model.encode(sentences_df['top_sentence'].values)\n",
        "average_embeddings = (sentence_embeddings + top_sentence_embeddings)/2\n",
        "labels = 'Patent: ' + sentences_df['sentence'].values + '<br>' + 'Top Sci Sent: '+sentences_df['top_sentence'].values"
      ],
      "execution_count": 8,
      "outputs": []
    },
    {
      "cell_type": "code",
      "metadata": {
        "colab": {
          "base_uri": "https://localhost:8080/"
        },
        "id": "zRzxRmNRU7G7",
        "outputId": "5019a794-07ad-4fdb-b252-390190997ef2"
      },
      "source": [
        "\n",
        "tsne = TSNE(n_components=2, verbose=1, perplexity=40, n_iter=2000, random_state=RANDOM_SEED)\n",
        "tsne_results = tsne.fit_transform(average_embeddings)\n",
        "tsne_df = pd.DataFrame(columns=['tsne-2d-one', 'tsne-2d-two', 'labels'])\n",
        "tsne_df['tsne-2d-one'] = tsne_results[:,0]\n",
        "tsne_df['tsne-2d-two'] = tsne_results[:,1]\n",
        "tsne_df['labels'] = labels"
      ],
      "execution_count": 52,
      "outputs": [
        {
          "output_type": "stream",
          "text": [
            "[t-SNE] Computing 121 nearest neighbors...\n",
            "[t-SNE] Indexed 350 samples in 0.017s...\n",
            "[t-SNE] Computed neighbors for 350 samples in 0.173s...\n",
            "[t-SNE] Computed conditional probabilities for sample 350 / 350\n",
            "[t-SNE] Mean sigma: 3.584561\n",
            "[t-SNE] KL divergence after 250 iterations with early exaggeration: 58.203316\n",
            "[t-SNE] KL divergence after 1750 iterations: 0.312426\n"
          ],
          "name": "stdout"
        }
      ]
    },
    {
      "cell_type": "code",
      "metadata": {
        "colab": {
          "base_uri": "https://localhost:8080/",
          "height": 542
        },
        "id": "ECUggWWLaa01",
        "outputId": "8d24569c-357a-4aa6-c3c8-4a782e570bfd"
      },
      "source": [
        "\n",
        "fig = px.scatter(tsne_df, x=\"tsne-2d-one\",  y='tsne-2d-two', hover_name=tsne_df.labels)\n",
        "fig.show()"
      ],
      "execution_count": 53,
      "outputs": [
        {
          "output_type": "display_data",
          "data": {
            "text/html": [
              "<html>\n",
              "<head><meta charset=\"utf-8\" /></head>\n",
              "<body>\n",
              "    <div>            <script src=\"https://cdnjs.cloudflare.com/ajax/libs/mathjax/2.7.5/MathJax.js?config=TeX-AMS-MML_SVG\"></script><script type=\"text/javascript\">if (window.MathJax) {MathJax.Hub.Config({SVG: {font: \"STIX-Web\"}});}</script>                <script type=\"text/javascript\">window.PlotlyConfig = {MathJaxConfig: 'local'};</script>\n",
              "        <script src=\"https://cdn.plot.ly/plotly-latest.min.js\"></script>                <div id=\"aab8a6d9-46eb-4706-bc2d-5d3f07780fa6\" class=\"plotly-graph-div\" style=\"height:525px; width:100%;\"></div>            <script type=\"text/javascript\">                                    window.PLOTLYENV=window.PLOTLYENV || {};                                    if (document.getElementById(\"aab8a6d9-46eb-4706-bc2d-5d3f07780fa6\")) {                    Plotly.newPlot(                        \"aab8a6d9-46eb-4706-bc2d-5d3f07780fa6\",                        [{\"hovertemplate\": \"<b>%{hovertext}</b><br><br>tsne-2d-one=%{x}<br>tsne-2d-two=%{y}<extra></extra>\", \"hovertext\": [\"Patent: A cable-type secondary battery, comprising and a sheet-form laminate of separation layer-outer electrode, helically wound to surround an outer surface of the inner electrode, the laminate being formed by carrying out compression for the integration of a separation layer for preventing a short circuit and an outer electrode, wherein the separation layer is an electrolyte layer or a separator.\\n<br>Top Sci Sent: The hollow-spiral (helical) multi-helix anode architecture is critical to the robustness under mechanical stress and facilitates electrolyte wetting of the battery components.\", \"Patent: A cable-type secondary battery, comprising a sheet-form laminate of separation layer-outer electrode, helically wound to surround an outer surface of the inner electrode, the laminate being formed by carrying out compression for the integration of a separation layer for preventing a short circuit and an outer electrode\\n<br>Top Sci Sent: The hollow-spiral (helical) multi-helix anode architecture is critical to the robustness under mechanical stress and facilitates electrolyte wetting of the battery components.\", \"Patent: A cable-type secondary battery, comprising and a protection coating surrounding an outer surface of the sheet-form laminate of separation layer-outer electrode.\\n<br>Top Sci Sent: The hollow-spiral (helical) multi-helix anode architecture is critical to the robustness under mechanical stress and facilitates electrolyte wetting of the battery components.\", \"Patent: A cable-type secondary battery, comprising an inner electrode\\n<br>Top Sci Sent: Cable-type flexible lithium ion battery based on hollow multi-helix electrodesThe mechanical flexibility of a cable-type battery reaches levels far beyond what is possible with conventional designs.\", \"Patent: A cable-type secondary battery, comprising an inner electrode\\n<br>Top Sci Sent: Cable-type flexible lithium ion battery based on hollow multi-helix electrodesThe mechanical flexibility of a cable-type battery reaches levels far beyond what is possible with conventional designs.\", \"Patent: A method of preparing a cable-type secondary battery, comprising (S3) helically winding the laminate of separation layer-outer electrode on an outer surface of the inner electrode to obtain an electrode assembly\\n<br>Top Sci Sent: The hollow-spiral (helical) multi-helix anode architecture is critical to the robustness under mechanical stress and facilitates electrolyte wetting of the battery components.\", \"Patent: A method of preparing a cable-type secondary battery, comprising and (S5) introducing an electrolyte solution in the empty central part of the inner electrode to form a core for supplying lithium ions.\\n<br>Top Sci Sent: The hollow-spiral (helical) multi-helix anode architecture is critical to the robustness under mechanical stress and facilitates electrolyte wetting of the battery components.\", \"Patent: A method of preparing a cable-type secondary battery, comprising (S1) winding a wire-form inner current collector together with an inner electrode active material layer formed on a surface of the inner current collector to obtain a hollow inner electrode whose central part is empty\\n<br>Top Sci Sent: The hollow-spiral (helical) multi-helix anode architecture is critical to the robustness under mechanical stress and facilitates electrolyte wetting of the battery components.\", \"Patent: A method of preparing a cable-type secondary battery, comprising (S2) compressing a sheet of a separation layer for preventing a short circuit with a sheet of an outer electrode having an outer current collector and an outer electrode active material layer formed on one surface of the outer current collector for the integration thereof to obtain a laminate of separation layer-outer electrode\\n<br>Top Sci Sent: The hollow-spiral (helical) multi-helix anode architecture is critical to the robustness under mechanical stress and facilitates electrolyte wetting of the battery components.\", \"Patent: A method of preparing a cable-type secondary battery, comprising (S4) forming a protection coating on an outer surface of the electrode assembly\\n<br>Top Sci Sent: The hollow-spiral (helical) multi-helix anode architecture is critical to the robustness under mechanical stress and facilitates electrolyte wetting of the battery components.\", \"Patent: A cable-type secondary battery, comprising and a sheet-form laminate of separation layer-outer electrode, helically wound to surround an outer surface of the inner electrode, the laminate being formed by carrying out compression for the integration of a separation layer for preventing a short circuit and an outer electrode, wherein a peel strength between the separation layer and the outer electrode is 15 to 300 N/m, wherein the inner electrode is a hollow structure whose central part is empty.\\n<br>Top Sci Sent: The hollow-spiral (helical) multi-helix anode architecture is critical to the robustness under mechanical stress and facilitates electrolyte wetting of the battery components.\", \"Patent: A cable-type secondary battery, comprising and a sheet-form laminate of separation layer-outer electrode, helically wound to surround an outer surface of the inner electrode, the laminate being formed by carrying out compression for the integration of a separation layer for preventing a short circuit and an outer electrode having an outer current collector and an outer electrode active material layer formed on one surface of the outer current collector, wherein a peel strength between the separation layer and the outer electrode is 15 to 300 N/m.\\n<br>Top Sci Sent: The hollow-spiral (helical) multi-helix anode architecture is critical to the robustness under mechanical stress and facilitates electrolyte wetting of the battery components.\", \"Patent: A method of preparing a cable-type secondary battery, comprising (S3) compressing a sheet of a separation layer for preventing a short circuit with a sheet of an outer electrode having an outer current collector and an outer electrode active material layer formed on one surface of the outer current collector for the integration thereof to obtain a laminate of separation layer-outer electrode\\n<br>Top Sci Sent: The hollow-spiral (helical) multi-helix anode architecture is critical to the robustness under mechanical stress and facilitates electrolyte wetting of the battery components.\", \"Patent: A method of preparing a cable-type secondary battery, comprising (S1) forming a core for supplying lithium ions\\n<br>Top Sci Sent: Cable-type flexible lithium ion battery based on hollow multi-helix electrodesThe mechanical flexibility of a cable-type battery reaches levels far beyond what is possible with conventional designs.\", \"Patent: A cable-type secondary battery, comprising and a sheet-form laminate of separation layer-outer electrode, helically wound to surround an outer surface of the inner electrode, the laminate being formed by carrying out compression for the integration of a separation layer for preventing a short circuit and an outer electrode, wherein a peel strength between the separation layer and the outer electrode is 15 to 300 N/m, wherein the inner electrode includes at least one inner current collector and an inner electrode active material layer formed on one surface of the inner current collector.\\n<br>Top Sci Sent: The hollow-spiral (helical) multi-helix anode architecture is critical to the robustness under mechanical stress and facilitates electrolyte wetting of the battery components.\", \"Patent: A cable-type secondary battery, comprising two or more cores for supplying lithium ions, which comprise an electrolyte\\n<br>Top Sci Sent: Cable-type flexible lithium ion battery based on hollow multi-helix electrodesThe mechanical flexibility of a cable-type battery reaches levels far beyond what is possible with conventional designs.\", \"Patent: A method of preparing a cable-type secondary battery, comprising (S2) winding a wire-form inner current collector together with an inner electrode active material layer formed on a surface of the inner current collector, on an outer surface of the core for supplying lithium ions, to obtain an inner electrode\\n<br>Top Sci Sent: The hollow-spiral (helical) multi-helix anode architecture is critical to the robustness under mechanical stress and facilitates electrolyte wetting of the battery components.\", \"Patent: A cable-type secondary battery, comprising a core for supplying lithium ions, which comprises an electrolyte\\n<br>Top Sci Sent: Cable-type flexible lithium ion battery based on hollow multi-helix electrodesThe mechanical flexibility of a cable-type battery reaches levels far beyond what is possible with conventional designs.\", \"Patent: A cable-type secondary battery, comprising an inner electrode\\n<br>Top Sci Sent: Cable-type flexible lithium ion battery based on hollow multi-helix electrodesThe mechanical flexibility of a cable-type battery reaches levels far beyond what is possible with conventional designs.\", \"Patent: A cable-type secondary battery, comprising and a sheet-form laminate of separation layer-outer electrode, helically wound to surround outer surfaces of the two or more inner electrodes, the laminate being formed by carrying out compression for the integration of a separation layer for preventing a short circuit and an outer electrode, wherein a peel strength between the separation layer and the outer electrode is 15 to 300 N/m.\\n<br>Top Sci Sent: The hollow-spiral (helical) multi-helix anode architecture is critical to the robustness under mechanical stress and facilitates electrolyte wetting of the battery components.\", \"Patent: A cable-type secondary battery, comprising an inner electrode having one or more wire-form inner current collectors wound to surround an outer surface of the core for supplying lithium ions and an inner electrode active material layer formed on a surface of the wire-form inner current collectors\\n<br>Top Sci Sent: The hollow-spiral (helical) multi-helix anode architecture is critical to the robustness under mechanical stress and facilitates electrolyte wetting of the battery components.\", \"Patent: A cable-type secondary battery, comprising two or more inner electrodes arranged in parallel to each other, each inner electrode having one or more inner current collectors wound to surround an outer surface of one of the two or more cores for supplying lithium ions and an inner electrode active material layer formed on respective surfaces of the inner current collectors\\n<br>Top Sci Sent: The hollow-spiral (helical) multi-helix anode architecture is critical to the robustness under mechanical stress and facilitates electrolyte wetting of the battery components.\", \"Patent: A cable-type secondary battery, comprising and a sheet-form laminate of separation layer-outer electrode, helically wound to surround outer surfaces of the two or more inner electrodes, the laminate being formed by carrying out compression for the integration of a separation layer for preventing a short circuit and an outer electrode having an outer current collector and an outer electrode active material layer formed on one surface of the outer current collector.\\n<br>Top Sci Sent: The hollow-spiral (helical) multi-helix anode architecture is critical to the robustness under mechanical stress and facilitates electrolyte wetting of the battery components.\", \"Patent: A cable-type secondary battery, comprising two or more inner electrodes arranged in parallel to each other\\n<br>Top Sci Sent: Cable-type flexible lithium ion battery based on hollow multi-helix electrodesThe mechanical flexibility of a cable-type battery reaches levels far beyond what is possible with conventional designs.\", \"Patent: A cable-type secondary battery, comprising an inner electrode\\n<br>Top Sci Sent: Cable-type flexible lithium ion battery based on hollow multi-helix electrodesThe mechanical flexibility of a cable-type battery reaches levels far beyond what is possible with conventional designs.\", \"Patent: A method of preparing a cable-type secondary battery, comprising and (S5) forming a protection coating on an outer surface of the electrode assembly.\\n<br>Top Sci Sent: The hollow-spiral (helical) multi-helix anode architecture is critical to the robustness under mechanical stress and facilitates electrolyte wetting of the battery components.\", \"Patent: A method of preparing a cable-type secondary battery, comprising (S4) helically winding the laminate of separation layer-outer electrode on an outer surface of the inner electrode to obtain an electrode assembly\\n<br>Top Sci Sent: The hollow-spiral (helical) multi-helix anode architecture is critical to the robustness under mechanical stress and facilitates electrolyte wetting of the battery components.\", \"Patent: A cable-type secondary battery, comprising an inner electrode\\n<br>Top Sci Sent: Cable-type flexible lithium ion battery based on hollow multi-helix electrodesThe mechanical flexibility of a cable-type battery reaches levels far beyond what is possible with conventional designs.\", \"Patent: A cable-type secondary battery, comprising and a sheet-form laminate of separation layer-outer electrode, helically wound to surround an outer surface of the inner electrode, the laminate being formed by carrying out compression for the integration of a separation layer for preventing a short circuit and an outer electrode, wherein a peel strength between the separation layer and the outer electrode is 15 to 300 N/m.\\n<br>Top Sci Sent: The hollow-spiral (helical) multi-helix anode architecture is critical to the robustness under mechanical stress and facilitates electrolyte wetting of the battery components.\", \"Patent: An electrolyte for use in an electrochemical cell, the electrolyte comprising 40-70% by volume non-fluorinated linear ester, wherein the non-fluorinated linear ester is selected from: methyl propionate, ethyl propionate, methyl butyrate, ethyl butyrate, propyl butyrate, butyl butyrate, and combinations thereof\\n<br>Top Sci Sent: In the current work, we investigated a number of ester cosolvents, namely methyl propionate, ethyl propionate, methyl butyrate, ethyl butyrate, propyl butyrate, and butyl butyrate, in multicomponent electrolytes of the following composition: 1.0 M LiP F6 in ethylene carbonate (EC) +ethyl methyl carbonate+X (20:60:20 vol.\", \"Patent: An electrolyte for use in an electrochemical cell, the electrolyte comprising and a lithium salt in a concentration from 0.5 M to 1.5 M.\\n<br>Top Sci Sent: In the present work, we have evaluated the use of a number of additives, namely vinylene carbonate (VC), dimethyl acetamide (DMAc), and mono-fluoroethylene carbonate (FEC), in an electrolyte solution anticipated to perform well at warm temperature (i.e., 1.0M LiPF6 in EC+EMC (50:50 v/v %).\", \"Patent: An electrolyte for use in an electrochemical cell, the electrolyte comprising 15-30% by volume non-cyclic carbonate, wherein the non-cyclic carbonate is selected from ethyl methyl carbonate (EMC), dimethyl carbonate (DMC), diethyl carbonate (DEC), methyl propyl carbonate (MPC) and combinations thereof\\n<br>Top Sci Sent: In the current work, we investigated a number of ester cosolvents, namely methyl propionate, ethyl propionate, methyl butyrate, ethyl butyrate, propyl butyrate, and butyl butyrate, in multicomponent electrolytes of the following composition: 1.0 M LiP F6 in ethylene carbonate (EC) +ethyl methyl carbonate+X (20:60:20 vol.\", \"Patent: An electrolyte for use in an electrochemical cell, the electrolyte comprising a mixture of: 15-30% by volume cyclic carbonate, wherein the cyclic carbonate is a combination of mono-fluoroethylene carbonate (FEC) and EC wherein the FEC is present in an amount from 0.5 to 10% by volume\\n<br>Top Sci Sent: In the present work, we have evaluated the use of a number of additives, namely vinylene carbonate (VC), dimethyl acetamide (DMAc), and mono-fluoroethylene carbonate (FEC), in an electrolyte solution anticipated to perform well at warm temperature (i.e., 1.0M LiPF6 in EC+EMC (50:50 v/v %).\", \"Patent: An electrochemical cell having: an anode comprising elemental magnesium\\n<br>Top Sci Sent: This Mg(BH 4) 2 electrolyte was utilized in a rechargeable magnesium battery.\", \"Patent: An apparatus for real-time monitoring of anode and cathode voltage, anode and cathode differential voltage, and anode and cathode state of charge in a metal-ion battery, wherein said apparatus is linked in operable communication with said battery, said apparatus comprising estimating first and second cathode open-circuit voltages from said cathode voltage signals at said first and second times, respectively\\n<br>Top Sci Sent: The estimator is implemented in a vehicle-simulated environment to predict the state of charge (SOC) and the charge and discharge power capabilities (state of power, SOP) of a lithium ion battery.\", \"Patent: A method of real-time assessment of capacity of both anode and cathode in a metal-ion battery, said method comprising calculating, in said computer, anode capacity as the integral of said current signals from said first time to said second time, divided by the difference between said second and first anode states of charge\\n<br>Top Sci Sent: The estimator is implemented in a vehicle-simulated environment to predict the state of charge (SOC) and the charge and discharge power capabilities (state of power, SOP) of a lithium ion battery.\", \"Patent: An apparatus for real-time assessment of capacity of both anode and cathode in a metal-ion battery, wherein said apparatus is linked in operable communication with said battery, said apparatus comprising receiving cathode voltage signals derived from said second voltage monitor at said plurality of times\\n<br>Top Sci Sent: The estimator is implemented in a vehicle-simulated environment to predict the state of charge (SOC) and the charge and discharge power capabilities (state of power, SOP) of a lithium ion battery.\", \"Patent: A dendrite penetration-resistant layer for a rechargeable alkali metal battery, said layer comprising x.ltoreq.1 and 1.ltoreq.y.ltoreq.4\\n<br>Top Sci Sent: All the Li metal anode-based batteries suffer from a high propensity to form Li dendrites (tree-like structures) at the anode upon repeated discharges/charges.\", \"Patent: A lithium-ion cell comprising and combinations thereof\\n<br>Top Sci Sent: This approach is based on the exchange of lithium ions between the surfaces (not the bulk) of two nanostructured electrodes, completely obviating the need for lithium intercalation or deintercalation.\", \"Patent: A dendrite penetration-resistant layer for a rechargeable alkali metal battery, said layer comprising multiple graphene sheets or platelets or exfoliated graphite flakes that are chemically bonded by a lithium- or sodium-containing species to form an integral layer that prevents dendrite penetration through said integral layer in said alkali metal battery, wherein said lithium- or sodium-containing species is selected from Li.sub.2CO.sub.3, Li.sub.2O, Li.sub.2C.sub.2O.sub.4, LiOH, LiX, ROCO.sub.2Li, HCOLi, ROLi, (ROCO.sub.2Li).sub.2, (CH.sub.2OCO.sub.2Li).sub.2, Li.sub.2S, Li.sub.xSO.sub.y, Na.sub.2CO.sub.3, Na.sub.2O, Na.sub.2C.sub.2O.sub.4, NaOH, NaiX, ROCO.sub.2Na, HCONa, RONa, (ROCO.sub.2Na).sub.2, (CH.sub.2OCO.sub.2Na).sub.2, Na.sub.2S, Na.sub.xSO.sub.y, or a combination thereof, wherein X=F, Cl, I, or Br, R=a hydrocarbon group, 0&lt\\n<br>Top Sci Sent: Reviving rechargeable lithium metal batteries: Enabling next-generation high-energy and high-power cellsHerein reported is a fundamentally new strategy for reviving rechargeable lithium (Li) metal batteries and enabling the emergence of next-generation safe batteries featuring a graphene-supported Li metal anode, including the highly promising Li-sulfur, Li-air, and Li-graphene cells with exceptionally high energy or power densities.\", \"Patent: A cable-type secondary battery, comprising two or more inner electrodes arranged in parallel to each other, each inner electrode comprising a wire-form inner current collector which is wound to surround an outer surface of each core for supplying lithium ions, and an inner electrode active material layer formed on a surface of the wire-form inner current collector\\n<br>Top Sci Sent: The hollow-spiral (helical) multi-helix anode architecture is critical to the robustness under mechanical stress and facilitates electrolyte wetting of the battery components.\", \"Patent: An energy storage device, comprising a first electrode comprising a first material, a second electrode comprising a second material, and a liquid electrolyte between said first and second electrodes, wherein said liquid electrolyte is capable of conducting ions from said first material at an operating temperature of said energy storage device, wherein upon discharge of said energy storage device said first and second materials react to form an intermetallic layer at an interface between said second electrode and said electrolyte, which intermetallic layer is solid or semi-solid at said operating temperature\\n<br>Top Sci Sent: This LijjSb-Pb battery comprises a liquid lithiumnegative electrode, a molten salt electrolyte, and a liquid antimony-lead alloy positive electrode, which self-segregate by density into three distinct layers owing to the immiscibility of the contiguous salt and metal phases.\", \"Patent: A cable-type secondary battery, comprising a separation layer surrounding outer surfaces of the two or more inner electrodes to prevent a short circuit between electrodes\\n<br>Top Sci Sent: The hollow-spiral (helical) multi-helix anode architecture is critical to the robustness under mechanical stress and facilitates electrolyte wetting of the battery components.\", \"Patent: A method for forming an electrolyte composition including a solvo-ionic liquid, the method comprising combining a multidentate ethereal solvent with a salt mixture to produce a solvate, the salt mixture containing Mg(BH.sub.4).sub.2, and the solvate having a molar ratio of multidentate ethereal solvent to Mg(BH.sub.4).sub.2 within a range of 0.1:1 to 10:1, inclusive, wherein, due to the relative concentrations of the combined solvent and salt mixture, the solvate becomes the solvo-ionic liquid.\\n<br>Top Sci Sent: High coulombic efficiency of up to 94 % was achieved in dimethoxyethane solvent.\", \"Patent: A lithium-ion cell comprising (a) a positive electrode (cathode) comprising graphene as the only cathode active material having a surface area to capture and store lithium thereon and wherein said graphene cathode is meso-porous having a specific surface area greater than 100 m.sup.2/g\\n<br>Top Sci Sent: In both electrodes, massive graphene surfaces in direct contact with liquid electrolyte are capable of rapidly and reversibly capturing lithium ions through surface adsorption and/or surface redox reaction.\", \"Patent: A packaging for a cable-type secondary battery, surrounding an electrode assembly in the cable-type secondary battery, the packaging having a moisture-blocking layer comprising sealant polymer layers on both outer surfaces of a moisture-blocking film, wherein the moisture-blocking layer is a tube form surrounding the electrode assembly, and one of the sealant polymer layers at a first end of the moisture-blocking layer and the other of the sealant polymer layers at a second end of the moisture-blocking layer are adhered at predetermined parts that overlap each other.\\n<br>Top Sci Sent: The hollow-spiral (helical) multi-helix anode architecture is critical to the robustness under mechanical stress and facilitates electrolyte wetting of the battery components.\", \"Patent: A cable-type secondary battery, comprising and a sheet-form outer electrode helically wound to surround the separation layer, wherein the sheet-form outer electrode is helically wound so that it does not overlap itself.\\n<br>Top Sci Sent: The hollow-spiral (helical) multi-helix anode architecture is critical to the robustness under mechanical stress and facilitates electrolyte wetting of the battery components.\", \"Patent: An apparatus for real-time monitoring of anode and cathode voltage, anode and cathode differential voltage, and anode and cathode state of charge in a metal-ion battery, wherein said apparatus is linked in operable communication with said battery, said apparatus comprising identifying a first time and a second time, within said plurality of times, such that said battery current is 0 A for at least 1 minute, wherein between said first time and said second time, there exists an intermediate time such that said battery current is greater than 0 A\\n<br>Top Sci Sent: The estimator is implemented in a vehicle-simulated environment to predict the state of charge (SOC) and the charge and discharge power capabilities (state of power, SOP) of a lithium ion battery.\", \"Patent: An apparatus for real-time monitoring of anode and cathode voltage, anode and cathode differential voltage, and anode and cathode state of charge in a metal-ion battery, wherein said apparatus is linked in operable communication with said battery, said apparatus comprising receiving or calculating a derivative of the anode voltage with respect to time and/or a derivative of the anode voltage with respect to capacity at said plurality of times\\n<br>Top Sci Sent: The estimator is implemented in a vehicle-simulated environment to predict the state of charge (SOC) and the charge and discharge power capabilities (state of power, SOP) of a lithium ion battery.\", \"Patent: A process for producing a dendrite penetration-resistant layer for a rechargeable alkali metal battery, said process comprising and (b) subjecting said battery cell to a voltage/current treatment that induces electrochemical reductive and/or oxidative decomposition to form said lithium- and/or sodium-containing species that are chemically bonded to said graphene sheets or exfoliated graphite flakes to form the dendrite penetration-resistant layer in said battery cell.\\n<br>Top Sci Sent: All the Li metal anode-based batteries suffer from a high propensity to form Li dendrites (tree-like structures) at the anode upon repeated discharges/charges.\", \"Patent: An apparatus for real-time assessment of capacity of both anode and cathode in a metal-ion battery, wherein said apparatus is linked in operable communication with said battery, said apparatus comprising and a computer programmed using non-transitory memory with executable code for executing the steps of: receiving anode voltage signals derived from said first voltage monitor at a plurality of times\\n<br>Top Sci Sent: The estimator is implemented in a vehicle-simulated environment to predict the state of charge (SOC) and the charge and discharge power capabilities (state of power, SOP) of a lithium ion battery.\", \"Patent: A cable-type secondary battery, comprising an inner electrode comprising a wire-form inner current collector which is wound to surround an outer surface of the core for supplying lithium ions, and an inner electrode active material layer formed on a surface of the wire-form inner current collector\\n<br>Top Sci Sent: The hollow-spiral (helical) multi-helix anode architecture is critical to the robustness under mechanical stress and facilitates electrolyte wetting of the battery components.\", \"Patent: A process for producing a dendrite penetration-resistant layer for a rechargeable alkali metal, said process comprising wherein said working electrode and said counter electrode are brought to be at the same electrochemical potential level, inducing a chemical reaction between said lithium or sodium metal or alloy and said graphene sheets or exfoliated graphite flakes and inducing electrochemical decomposition of said electrolyte for forming a lithium- or sodium-containing species selected from the group comprising Li.sub.2CO.sub.3, Li.sub.2O, Li.sub.2C.sub.2O.sub.4, LiOH, LiX, ROCO.sub.2Li, HCOLi, ROLi, (ROCO.sub.2Li).sub.2, (CH.sub.2OCO.sub.2Li).sub.2, Li2S, Li.sub.xSO.sub.y, Na.sub.2CO.sub.3, Na.sub.2O, Na.sub.2C.sub.2O4, NaOH, NaX, ROCO.sub.2Na, HCONa, RONa, (ROCO.sub.2Na).sub.2, (CH.sub.2OCO.sub.2Na).sub.2, Na.sub.2S, Na.sub.xSO.sub.y, or a combination thereof, wherein X=F, Cl, I, or Br, R=a hydrocarbon group, x=0-1, y=1-4 0&lt\\n<br>Top Sci Sent: Reviving rechargeable lithium metal batteries: Enabling next-generation high-energy and high-power cellsHerein reported is a fundamentally new strategy for reviving rechargeable lithium (Li) metal batteries and enabling the emergence of next-generation safe batteries featuring a graphene-supported Li metal anode, including the highly promising Li-sulfur, Li-air, and Li-graphene cells with exceptionally high energy or power densities.\", \"Patent: A method of real-time monitoring of anode and cathode voltage, anode and cathode differential voltage, and anode and cathode state of charge in a metal-ion battery, said method comprising correlating said first and second anode open-circuit voltages to first and second anode states of charge at said first and second times, respectively\\n<br>Top Sci Sent: The estimator is implemented in a vehicle-simulated environment to predict the state of charge (SOC) and the charge and discharge power capabilities (state of power, SOP) of a lithium ion battery.\", \"Patent: A method of real-time assessment of capacity of both anode and cathode in a metal-ion battery, said method comprising operating said battery with a driving profile\\n<br>Top Sci Sent: The estimator is implemented in a vehicle-simulated environment to predict the state of charge (SOC) and the charge and discharge power capabilities (state of power, SOP) of a lithium ion battery.\", \"Patent: A method of real-time monitoring of anode and cathode voltage, anode and cathode differential voltage, and anode and cathode state of charge in a metal-ion battery, said method comprising providing a first voltage monitor connected between said anode and a reference electrode of said battery\\n<br>Top Sci Sent: The estimator is implemented in a vehicle-simulated environment to predict the state of charge (SOC) and the charge and discharge power capabilities (state of power, SOP) of a lithium ion battery.\", \"Patent: A method of real-time monitoring of anode and cathode voltage, anode and cathode differential voltage, and anode and cathode state of charge in a metal-ion battery, said method comprising providing a computer in operable communication with said battery\\n<br>Top Sci Sent: The estimator is implemented in a vehicle-simulated environment to predict the state of charge (SOC) and the charge and discharge power capabilities (state of power, SOP) of a lithium ion battery.\", \"Patent: A process for producing a dendrite penetration-resistant layer for a rechargeable alkali metal battery layer, said process comprising (a) preparing a working electrode containing a porous structure of multiple graphene sheets or platelets or exfoliated graphite flakes\\n<br>Top Sci Sent: All the Li metal anode-based batteries suffer from a high propensity to form Li dendrites (tree-like structures) at the anode upon repeated discharges/charges.\", \"Patent: An electrolyte composition comprising a solvo-ionic liquid that includes Mg(BH.sub.4).sub.2 and a multidentate ethereal solvent, the Mg(BH.sub.4).sub.2 and ethereal solvent present at a molar ratio within a range of 0.1:1 to 10:1, inclusive.\\n<br>Top Sci Sent: High coulombic efficiency of up to 94 % was achieved in dimethoxyethane solvent.\", \"Patent: A method of real-time assessment of capacity of both anode and cathode in a metal-ion battery, said method comprising providing a first voltage monitor connected between said anode and a reference electrode of said battery\\n<br>Top Sci Sent: The estimator is implemented in a vehicle-simulated environment to predict the state of charge (SOC) and the charge and discharge power capabilities (state of power, SOP) of a lithium ion battery.\", \"Patent: A cable-type secondary battery, comprising a separation layer surrounding outer surfaces of the two or more inner electrodes to prevent a short circuit between electrodes\\n<br>Top Sci Sent: The hollow-spiral (helical) multi-helix anode architecture is critical to the robustness under mechanical stress and facilitates electrolyte wetting of the battery components.\", \"Patent: An apparatus for real-time assessment of capacity of both anode and cathode in a metal-ion battery, wherein said apparatus is linked in operable communication with said battery, said apparatus comprising calculating anode capacity as the integral of said current signals from said first time to said second time, divided by the difference between said second and first anode states of charge\\n<br>Top Sci Sent: The estimator is implemented in a vehicle-simulated environment to predict the state of charge (SOC) and the charge and discharge power capabilities (state of power, SOP) of a lithium ion battery.\", \"Patent: An electrochemical cell having: and an electrolyte composition comprising a solvo-ionic liquid that includes Mg(BH.sub.4).sub.2 and a multidentate ethereal solvent, the Mg(BH.sub.4).sub.2 and multidentate ethereal solvent present at a molar ratio within a range of 0.1:1 to 10:1, inclusive.\\n<br>Top Sci Sent: High coulombic efficiency of up to 94 % was achieved in dimethoxyethane solvent.\", \"Patent: A cable-type secondary battery, comprising and a sheet-form outer electrode helically wound to surround an outer surface of the separation layer, wherein the sheet-form outer electrode is helically wound so that it does not overlap itself, and wherein the outer electrode comprises an outer current collector, a sheet-form outer electrode active material layer formed on one surface of the sheet-form outer current collector, a conductive layer formed on the outer electrode active material layer and comprising a conductive material and a binder, a first porous supporting layer formed on the conductive layer, and a second supporting layer formed on another surface of the sheet-form outer current collector.\\n<br>Top Sci Sent: The hollow-spiral (helical) multi-helix anode architecture is critical to the robustness under mechanical stress and facilitates electrolyte wetting of the battery components.\", \"Patent: An apparatus for real-time monitoring of anode and cathode voltage, anode and cathode differential voltage, and anode and cathode state of charge in a metal-ion battery, wherein said apparatus is linked in operable communication with said battery, said apparatus comprising receiving current signals derived from battery current at said plurality of times\\n<br>Top Sci Sent: The estimator is implemented in a vehicle-simulated environment to predict the state of charge (SOC) and the charge and discharge power capabilities (state of power, SOP) of a lithium ion battery.\", \"Patent: A method of real-time assessment of capacity of both anode and cathode in a metal-ion battery, said method comprising providing a computer in operable communication with said battery\\n<br>Top Sci Sent: The estimator is implemented in a vehicle-simulated environment to predict the state of charge (SOC) and the charge and discharge power capabilities (state of power, SOP) of a lithium ion battery.\", \"Patent: An energy storage device, comprising and wherein said sheath or liner comprises graphite.\\n<br>Top Sci Sent: This LijjSb-Pb battery comprises a liquid lithiumnegative electrode, a molten salt electrolyte, and a liquid antimony-lead alloy positive electrode, which self-segregate by density into three distinct layers owing to the immiscibility of the contiguous salt and metal phases.\", \"Patent: A lithium-ion cell comprising (c) a porous separator disposed between the anode and the cathode\\n<br>Top Sci Sent: This approach is based on the exchange of lithium ions between the surfaces (not the bulk) of two nanostructured electrodes, completely obviating the need for lithium intercalation or deintercalation.\", \"Patent: An apparatus for real-time monitoring of anode and cathode voltage, anode and cathode differential voltage, and anode and cathode state of charge in a metal-ion battery, wherein said apparatus is linked in operable communication with said battery, said apparatus comprising and correlating said first and second cathode open-circuit voltages to first and second cathode states of charge at said first and second times, respectively.\\n<br>Top Sci Sent: The estimator is implemented in a vehicle-simulated environment to predict the state of charge (SOC) and the charge and discharge power capabilities (state of power, SOP) of a lithium ion battery.\", \"Patent: A method for preparing a cable-type secondary battery, comprising (S1) providing an electrode assembly having an inner electrode, a separation layer surrounding the inner electrode to prevent a short circuit between electrodes, and an outer electrode surrounding an outer surface of the separation layer\\n<br>Top Sci Sent: The hollow-spiral (helical) multi-helix anode architecture is critical to the robustness under mechanical stress and facilitates electrolyte wetting of the battery components.\", \"Patent: A cable-type secondary battery, comprising and wherein the sheet-form outer electrode comprises a sheet-form outer current collector and an outer electrode active material layer formed on a surface of the sheet-form outer current collector.\\n<br>Top Sci Sent: The hollow-spiral (helical) multi-helix anode architecture is critical to the robustness under mechanical stress and facilitates electrolyte wetting of the battery components.\", \"Patent: A method of real-time monitoring of anode and cathode voltage, anode and cathode differential voltage, and anode and cathode state of charge in a metal-ion battery, said method comprising receiving current signals derived from battery current at said plurality of times\\n<br>Top Sci Sent: The estimator is implemented in a vehicle-simulated environment to predict the state of charge (SOC) and the charge and discharge power capabilities (state of power, SOP) of a lithium ion battery.\", \"Patent: A method of real-time monitoring of anode and cathode voltage, anode and cathode differential voltage, and anode and cathode state of charge in a metal-ion battery, said method comprising and correlating said first and second cathode open-circuit voltages to first and second cathode states of charge at said first and second times, respectively.\\n<br>Top Sci Sent: The estimator is implemented in a vehicle-simulated environment to predict the state of charge (SOC) and the charge and discharge power capabilities (state of power, SOP) of a lithium ion battery.\", \"Patent: A cable-type secondary battery, comprising and a sheet-form outer electrode helically wound to surround the separation layer, wherein the sheet-form outer electrode is helically wound so that it does not overlap itself, and wherein the separation layer is an electrolyte layer or a separator\\n<br>Top Sci Sent: The hollow-spiral (helical) multi-helix anode architecture is critical to the robustness under mechanical stress and facilitates electrolyte wetting of the battery components.\", \"Patent: An energy storage device, comprising and a crucible or coating surrounding said first electrode, said second electrode, said electrolyte and said intermetallic layer, wherein said crucible or coating prevents shorting between said second electrode and said first electrode and wherein said crucible or coating is electrically conductive.\\n<br>Top Sci Sent: This LijjSb-Pb battery comprises a liquid lithiumnegative electrode, a molten salt electrolyte, and a liquid antimony-lead alloy positive electrode, which self-segregate by density into three distinct layers owing to the immiscibility of the contiguous salt and metal phases.\", \"Patent: An energy storage device, comprising a first electrode comprising a first material, a second electrode comprising a second material, and a liquid electrolyte between said first and second electrodes, wherein in a charged state, said first electrode is an anode and said second electrode is a cathode, and wherein said liquid electrolyte is capable of conducting ions of said first material\\n<br>Top Sci Sent: A high-temperature (700 \\u00b0C) magnesium-antimony (Mg||Sb) liquid metal battery comprising a negative electrode of Mg, a molten salt electrolyte (MgCl 2-KCl-NaCl), and a positive electrode of Sb is proposed and characterized.\", \"Patent: A lithium-ion cell comprising and (E) non-lithiated graphite or carbon materials in a particle or fibrous form\\n<br>Top Sci Sent: This approach is based on the exchange of lithium ions between the surfaces (not the bulk) of two nanostructured electrodes, completely obviating the need for lithium intercalation or deintercalation.\", \"Patent: An apparatus for real-time monitoring of anode and cathode voltage, anode and cathode differential voltage, and anode and cathode state of charge in a metal-ion battery, wherein said apparatus is linked in operable communication with said battery, said apparatus comprising a second voltage monitor that is connectable between said cathode and said reference electrode, wherein a porous current collector is interposed between said reference electrode, on the one hand, and both of said anode and said cathode, on the other hand, to allow communication of metal ions (i) away from a metal-ion path between said cathode said anode and (ii) toward said reference electrode\\n<br>Top Sci Sent: The estimator is implemented in a vehicle-simulated environment to predict the state of charge (SOC) and the charge and discharge power capabilities (state of power, SOP) of a lithium ion battery.\", \"Patent: An apparatus for real-time monitoring of anode and cathode voltage, anode and cathode differential voltage, and anode and cathode state of charge in a metal-ion battery, wherein said apparatus is linked in operable communication with said battery, said apparatus comprising receiving or calculating a derivative of the cathode voltage with respect to time and/or a derivative of the cathode voltage with respect to capacity at said plurality of times\\n<br>Top Sci Sent: The estimator is implemented in a vehicle-simulated environment to predict the state of charge (SOC) and the charge and discharge power capabilities (state of power, SOP) of a lithium ion battery.\", \"Patent: An apparatus for real-time monitoring of anode and cathode voltage, anode and cathode differential voltage, and anode and cathode state of charge in a metal-ion battery, wherein said apparatus is linked in operable communication with said battery, said apparatus comprising and a computer programmed using non-transitory memory with executable code for executing the steps of: receiving anode voltage signals derived from said first voltage monitor at a plurality of times\\n<br>Top Sci Sent: The estimator is implemented in a vehicle-simulated environment to predict the state of charge (SOC) and the charge and discharge power capabilities (state of power, SOP) of a lithium ion battery.\", \"Patent: A process for producing a dendrite penetration-resistant layer for a rechargeable alkali metal, said process comprising and (c) bringing said working electrode and said counter electrode in physical contact with each other and in contact with an electrolyte containing a solvent and a lithium salt or sodium salt dissolved in said solvent\\n<br>Top Sci Sent: A dendrite could eventually penetrate through the separator to reach the cathode, causing internal short-circuiting and even explosion, the main reason for the battery industry to abandon rechargeable lithium metal batteries in the early 1990s.\", \"Patent: A process for producing a dendrite penetration-resistant layer for a rechargeable alkali metal, said process comprising (a) preparing a working electrode containing a porous structure of said multiple graphene sheets or exfoliated graphite flakes\\n<br>Top Sci Sent: All the Li metal anode-based batteries suffer from a high propensity to form Li dendrites (tree-like structures) at the anode upon repeated discharges/charges.\", \"Patent: A cable-type secondary battery, comprising a separation layer surrounding an outer surface of the inner electrode to prevent a short circuit between electrodes\\n<br>Top Sci Sent: The hollow-spiral (helical) multi-helix anode architecture is critical to the robustness under mechanical stress and facilitates electrolyte wetting of the battery components.\", \"Patent: An apparatus for real-time assessment of capacity of both anode and cathode in a metal-ion battery, wherein said apparatus is linked in operable communication with said battery, said apparatus comprising and calculating cathode capacity as the integral of said current signals from said first time to said second time, divided by the difference between said second and first cathode states of charge, wherein said first and second times are selected such that said battery current is 0 A for at least 1 minute, wherein between said first time and said second time, there exists an intermediate time such that said battery current is greater than 0 A, wherein said first and second anode open-circuit voltages are each estimated as anode voltage at said first and second times, respectively, and wherein said first and second cathode open-circuit voltages are each estimated as cathode voltage at said first and second times, respectively.\\n<br>Top Sci Sent: The estimator is implemented in a vehicle-simulated environment to predict the state of charge (SOC) and the charge and discharge power capabilities (state of power, SOP) of a lithium ion battery.\", \"Patent: A method of real-time monitoring of anode and cathode voltage, anode and cathode differential voltage, and anode and cathode state of charge in a metal-ion battery, said method comprising estimating first and second cathode open-circuit voltages from said cathode voltage signals at said first and second times, respectively\\n<br>Top Sci Sent: The estimator is implemented in a vehicle-simulated environment to predict the state of charge (SOC) and the charge and discharge power capabilities (state of power, SOP) of a lithium ion battery.\", \"Patent: A method of real-time assessment of capacity of both anode and cathode in a metal-ion battery, said method comprising providing a second voltage monitor connected between said cathode and said reference electrode, wherein a porous current collector is interposed between said reference electrode, on the one hand, and both of said anode and said cathode, on the other hand, to allow communication of metal ions (i) away from a metal-ion path between said cathode said anode and (ii) toward said reference electrode\\n<br>Top Sci Sent: Multi-parameter battery state estimator based on the adaptive and direct solution of the governing differential equationsWe report the development of an adaptive, multi-parameter battery state estimator based on the direct solution of the differential equations that govern an equivalent circuit representation of the battery.\", \"Patent: A method of real-time monitoring of anode and cathode voltage, anode and cathode differential voltage, and anode and cathode state of charge in a metal-ion battery, said method comprising providing a second voltage monitor connected between said cathode and said reference electrode, wherein a porous current collector is interposed between said reference electrode, on the one hand, and both of said anode and said cathode, on the other hand, to allow communication of metal ions (i) away from a metal-ion path between said cathode said anode and (ii) toward said reference electrode\\n<br>Top Sci Sent: The estimator is implemented in a vehicle-simulated environment to predict the state of charge (SOC) and the charge and discharge power capabilities (state of power, SOP) of a lithium ion battery.\", \"Patent: A cable-type secondary battery, comprising and a sheet-form outer electrode helically wound to surround the separation layer, wherein the sheet-form outer electrode is helically wound so that it does not overlap itself.\\n<br>Top Sci Sent: The hollow-spiral (helical) multi-helix anode architecture is critical to the robustness under mechanical stress and facilitates electrolyte wetting of the battery components.\", \"Patent: A lithium-ion cell comprising (D) non-lithiated salts or hydroxides of Sn\\n<br>Top Sci Sent: This approach is based on the exchange of lithium ions between the surfaces (not the bulk) of two nanostructured electrodes, completely obviating the need for lithium intercalation or deintercalation.\", \"Patent: A cable-type secondary battery, comprising a separation layer surrounding an outer surface of the inner electrode to prevent a short circuit between electrodes\\n<br>Top Sci Sent: The hollow-spiral (helical) multi-helix anode architecture is critical to the robustness under mechanical stress and facilitates electrolyte wetting of the battery components.\", \"Patent: A method of real-time monitoring of anode and cathode voltage, anode and cathode differential voltage, and anode and cathode state of charge in a metal-ion battery, said method comprising receiving, in said computer, anode voltage signals derived from said first voltage monitor at a plurality of times\\n<br>Top Sci Sent: The estimator is implemented in a vehicle-simulated environment to predict the state of charge (SOC) and the charge and discharge power capabilities (state of power, SOP) of a lithium ion battery.\", \"Patent: A process for producing a dendrite penetration-resistant layer for a rechargeable alkali metal battery layer, said process comprising (b) preparing a counter electrode containing lithium or sodium metal or alloy\\n<br>Top Sci Sent: Reviving rechargeable lithium metal batteries: Enabling next-generation high-energy and high-power cellsHerein reported is a fundamentally new strategy for reviving rechargeable lithium (Li) metal batteries and enabling the emergence of next-generation safe batteries featuring a graphene-supported Li metal anode, including the highly promising Li-sulfur, Li-air, and Li-graphene cells with exceptionally high energy or power densities.\", \"Patent: A cable-type secondary battery, comprising and wherein the sheet-form outer electrode comprises a sheet-form outer current collector and an outer electrode active material layer formed on a surface of the sheet-form outer current collector.\\n<br>Top Sci Sent: The hollow-spiral (helical) multi-helix anode architecture is critical to the robustness under mechanical stress and facilitates electrolyte wetting of the battery components.\", \"Patent: A process for producing a dendrite penetration-resistant layer for a rechargeable alkali metal, said process comprising (b) preparing a counter electrode containing lithium or sodium metal or alloy\\n<br>Top Sci Sent: Reviving rechargeable lithium metal batteries: Enabling next-generation high-energy and high-power cellsHerein reported is a fundamentally new strategy for reviving rechargeable lithium (Li) metal batteries and enabling the emergence of next-generation safe batteries featuring a graphene-supported Li metal anode, including the highly promising Li-sulfur, Li-air, and Li-graphene cells with exceptionally high energy or power densities.\", \"Patent: A method of real-time assessment of capacity of both anode and cathode in a metal-ion battery, said method comprising estimating, in said computer, at a first time and a second time within said plurality of times, first and second anode open-circuit voltages and correlating, in said computer, said first and second anode open-circuit voltages to first and second anode states of charge, respectively\\n<br>Top Sci Sent: The core of the estimator includes two sets of inter-related equations corresponding to discharge and charge events respectively.\", \"Patent: A method of real-time monitoring of anode and cathode voltage, anode and cathode differential voltage, and anode and cathode state of charge in a metal-ion battery, said method comprising receiving, in said computer, cathode voltage signals derived from said second voltage monitor at said plurality of times\\n<br>Top Sci Sent: The estimator is implemented in a vehicle-simulated environment to predict the state of charge (SOC) and the charge and discharge power capabilities (state of power, SOP) of a lithium ion battery.\", \"Patent: An electrolyte composition comprising a solvo-ionic liquid that includes Mg(BH.sub.4).sub.2 and a multidentate ethereal solvent, the Mg(BH.sub.4).sub.2 and ethereal solvent present at a molar ratio within a range of 0.1:1 to 10:1, inclusive, the solvo-ionic liquid formed by a method comprising wherein the multidentate ethereal solvent is added to the salt mixture at a molar ratio ranging between 0.1:1 and 10:1 relative to Mg(BH.sub.4).sub.2.\\n<br>Top Sci Sent: High coulombic efficiency of up to 94 % was achieved in dimethoxyethane solvent.\", \"Patent: A cable-type secondary battery, comprising two or more inner electrodes arranged in parallel to each other\\n<br>Top Sci Sent: Cable-type flexible lithium ion battery based on hollow multi-helix electrodesThe mechanical flexibility of a cable-type battery reaches levels far beyond what is possible with conventional designs.\", \"Patent: A method of real-time monitoring of anode and cathode voltage, anode and cathode differential voltage, and anode and cathode state of charge in a metal-ion battery, said method comprising receiving or calculating, in said computer, a derivative of the anode voltage with respect to time and/or a derivative of the anode voltage with respect to capacity at said plurality of times\\n<br>Top Sci Sent: The estimator is implemented in a vehicle-simulated environment to predict the state of charge (SOC) and the charge and discharge power capabilities (state of power, SOP) of a lithium ion battery.\", \"Patent: An apparatus for real-time monitoring of anode and cathode voltage, anode and cathode differential voltage, and anode and cathode state of charge in a metal-ion battery, wherein said apparatus is linked in operable communication with said battery, said apparatus comprising receiving cathode voltage signals derived from said second voltage monitor at said plurality of times\\n<br>Top Sci Sent: The estimator is implemented in a vehicle-simulated environment to predict the state of charge (SOC) and the charge and discharge power capabilities (state of power, SOP) of a lithium ion battery.\", \"Patent: A process for producing a dendrite penetration-resistant layer for a rechargeable alkali metal battery, said process comprising (a) preparing an alkali metal battery cell comprising an anode alkali metal layer, a layer of graphene sheets or exfoliated graphite flakes, a porous separator layer, and a cathode layer, wherein said layer of graphene sheets or exfoliated graphite flakes is laminated between said alkali metal layer and said porous separator layer and said porous separator layer is disposed between said layer of graphene sheets or exfoliated graphite flakes and said cathode layer\\n<br>Top Sci Sent: By implementing graphene sheets to increase the anode surface areas, one can significantly reduce the anode current density, thereby dramatically prolonging the dendrite initiation time and decreasing the growth rate of a dendrite, if ever initiated, possibly by a factor of up to 10 10 and 10 5, respectively.\", \"Patent: A cable-type secondary battery, comprising an inner electrode\\n<br>Top Sci Sent: Cable-type flexible lithium ion battery based on hollow multi-helix electrodesThe mechanical flexibility of a cable-type battery reaches levels far beyond what is possible with conventional designs.\", \"Patent: A lithium-ion cell comprising and (e) a lithium source disposed in at least one of the two electrodes when the cell is made.\\n<br>Top Sci Sent: This approach is based on the exchange of lithium ions between the surfaces (not the bulk) of two nanostructured electrodes, completely obviating the need for lithium intercalation or deintercalation.\", \"Patent: An apparatus for real-time monitoring of anode and cathode voltage, anode and cathode differential voltage, and anode and cathode state of charge in a metal-ion battery, wherein said apparatus is linked in operable communication with said battery, said apparatus comprising estimating first and second anode open-circuit voltages from said anode voltage signals at said first and second times, respectively\\n<br>Top Sci Sent: The estimator is implemented in a vehicle-simulated environment to predict the state of charge (SOC) and the charge and discharge power capabilities (state of power, SOP) of a lithium ion battery.\", \"Patent: An apparatus for real-time assessment of capacity of both anode and cathode in a metal-ion battery, wherein said apparatus is linked in operable communication with said battery, said apparatus comprising a second voltage monitor that is connectable between said cathode and said reference electrode, wherein a porous current collector is interposed between said reference electrode, on the one hand, and both of said anode and said cathode, on the other hand, to allow communication of metal ions (i) away from a metal-ion path between said cathode said anode and (ii) toward said reference electrode\\n<br>Top Sci Sent: Multi-parameter battery state estimator based on the adaptive and direct solution of the governing differential equationsWe report the development of an adaptive, multi-parameter battery state estimator based on the direct solution of the differential equations that govern an equivalent circuit representation of the battery.\", \"Patent: An apparatus for real-time assessment of capacity of both anode and cathode in a metal-ion battery, wherein said apparatus is linked in operable communication with said battery, said apparatus comprising estimating, at said first time and said second time, first and second cathode open-circuit voltages and correlating said first and second cathode open-circuit voltages to first and second cathode states of charge, respectively\\n<br>Top Sci Sent: The estimator is implemented in a vehicle-simulated environment to predict the state of charge (SOC) and the charge and discharge power capabilities (state of power, SOP) of a lithium ion battery.\", \"Patent: A cable-type secondary battery, comprising and a sheet-form outer electrode helically wound to surround the separation layer, wherein the sheet-form outer electrode is helically wound so that it does not overlap itself, wherein the inner electrode has a hollow structure whose central part is empty\\n<br>Top Sci Sent: The hollow-spiral (helical) multi-helix anode architecture is critical to the robustness under mechanical stress and facilitates electrolyte wetting of the battery components.\", \"Patent: A method of real-time monitoring of anode and cathode voltage, anode and cathode differential voltage, and anode and cathode state of charge in a metal-ion battery, said method comprising receiving or calculating, in said computer, a derivative of the cathode voltage with respect to time and/or a derivative of the cathode voltage with respect to capacity at said plurality of times\\n<br>Top Sci Sent: The estimator is implemented in a vehicle-simulated environment to predict the state of charge (SOC) and the charge and discharge power capabilities (state of power, SOP) of a lithium ion battery.\", \"Patent: A process for producing a dendrite penetration-resistant layer for a rechargeable alkali metal, said process comprising x.ltoreq.1 and 1.ltoreq.y.ltoreq.4 that are chemically bonded to said multiple graphene sheets or exfoliated graphite flakes to produce said dendrite penetration-resistant layer either outside of or inside an intended rechargeable alkali metal battery.\\n<br>Top Sci Sent: All the Li metal anode-based batteries suffer from a high propensity to form Li dendrites (tree-like structures) at the anode upon repeated discharges/charges.\", \"Patent: A rechargeable battery comprising wherein the multiple tabs along the anode and cathode electrodes provide one level of internal resistance (R.sub.1) for operating the battery over a temperature range of the battery between a first temperature (T.sub.1) and a second temperature (T.sub.2), and the tabs at the opposing ends of said anode and cathode electrodes provide a second level of internal resistance (R.sub.2) for operating the battery outside of either T.sub.1 or T.sub.2, wherein the value of R.sub.2 at about 2.degree. C. below T.sub.1 is at least twice the value of R.sub.1 at T.sub.1 or the value of R.sub.2 at about 2.degree. C. above T.sub.2 is at least twice the value of R.sub.1 at T.sub.2.\\n<br>Top Sci Sent: An electrochemical-thermal coupled model, incorporating concentration- and temperature-dependent transport and kinetic properties, is applied and validated against 2.2Ah 18650 cylindrical cells over a wide range of temperatures (-20\\u00b0C to 45\\u00b0C) and discharge rates.\", \"Patent: A cable-type secondary battery, comprising an inner electrode\\n<br>Top Sci Sent: Cable-type flexible lithium ion battery based on hollow multi-helix electrodesThe mechanical flexibility of a cable-type battery reaches levels far beyond what is possible with conventional designs.\", \"Patent: An apparatus for real-time assessment of capacity of both anode and cathode in a metal-ion battery, wherein said apparatus is linked in operable communication with said battery, said apparatus comprising a first voltage monitor that is connectable between said anode and a reference electrode of said battery\\n<br>Top Sci Sent: The estimator is implemented in a vehicle-simulated environment to predict the state of charge (SOC) and the charge and discharge power capabilities (state of power, SOP) of a lithium ion battery.\", \"Patent: A process for producing a dendrite penetration-resistant layer for a rechargeable alkali metal battery layer, said process comprising (c) bringing said working electrode and said counter electrode in contact with an electrolyte containing a solvent and a lithium salt or sodium salt dissolved in said solvent\\n<br>Top Sci Sent: A dendrite could eventually penetrate through the separator to reach the cathode, causing internal short-circuiting and even explosion, the main reason for the battery industry to abandon rechargeable lithium metal batteries in the early 1990s.\", \"Patent: A cable-type secondary battery, comprising and a sheet-form outer electrode helically wound to surround an outer surface of the separation layer, wherein the sheet-form outer electrode is helically wound so that it does not overlap itself, and wherein the outer electrode comprises a sheet-form outer current collector, an outer electrode active material layer formed on one surface of the sheet-form outer current collector, a conductive layer formed on the outer electrode active material layer and comprising a conductive material and a binder, a first porous supporting layer formed on the conductive layer, and a second supporting layer formed on another surface of the sheet-form outer current collector.\\n<br>Top Sci Sent: The hollow-spiral (helical) multi-helix anode architecture is critical to the robustness under mechanical stress and facilitates electrolyte wetting of the battery components.\", \"Patent: A dendrite penetration-resistant layer for a rechargeable alkali metal battery, said layer comprising and wherein said lithium- or sodium-containing species is derived from an electrochemical decomposition reaction.\\n<br>Top Sci Sent: Reviving rechargeable lithium metal batteries: Enabling next-generation high-energy and high-power cellsHerein reported is a fundamentally new strategy for reviving rechargeable lithium (Li) metal batteries and enabling the emergence of next-generation safe batteries featuring a graphene-supported Li metal anode, including the highly promising Li-sulfur, Li-air, and Li-graphene cells with exceptionally high energy or power densities.\", \"Patent: A method of real-time assessment of capacity of both anode and cathode in a metal-ion battery, said method comprising receiving, in said computer, cathode voltage signals derived from said second voltage monitor at said plurality of times\\n<br>Top Sci Sent: The estimator is implemented in a vehicle-simulated environment to predict the state of charge (SOC) and the charge and discharge power capabilities (state of power, SOP) of a lithium ion battery.\", \"Patent: A lithium-ion cell comprising (C) non-lithiated oxides, carbides, nitrides, sulfides, phosphides, selenides, tellurides, or antimonides of Si, Ge, Sn, Pb, Sb, Bi, Zn, Al, Fe, Ti, Co, Ni, Mn, Cd, and mixtures or composites thereof\\n<br>Top Sci Sent: This approach is based on the exchange of lithium ions between the surfaces (not the bulk) of two nanostructured electrodes, completely obviating the need for lithium intercalation or deintercalation.\", \"Patent: A cable-type secondary battery, comprising an inner electrode\\n<br>Top Sci Sent: Cable-type flexible lithium ion battery based on hollow multi-helix electrodesThe mechanical flexibility of a cable-type battery reaches levels far beyond what is possible with conventional designs.\", \"Patent: An apparatus for real-time monitoring of anode and cathode voltage, anode and cathode differential voltage, and anode and cathode state of charge in a metal-ion battery, wherein said apparatus is linked in operable communication with said battery, said apparatus comprising correlating said first and second anode open-circuit voltages to first and second anode states of charge at said first and second times, respectively\\n<br>Top Sci Sent: The estimator is implemented in a vehicle-simulated environment to predict the state of charge (SOC) and the charge and discharge power capabilities (state of power, SOP) of a lithium ion battery.\", \"Patent: A rechargeable battery comprising and a cathode electrode with multiple tabs along the cathode electrode and a tab at an opposing end of the cathode electrode\\n<br>Top Sci Sent: Li-ion cell operation at low temperaturesSubstantially reduced energy and power capabilities of lithium-ion cell operating at low temperatures pose a technical barrier for market penetration of hybrid electric vehicles and pure electric vehicles.\", \"Patent: A rechargeable battery comprising an anode electrode with multiple tabs along the anode electrode and a tab at an opposing end of the anode electrode\\n<br>Top Sci Sent: Li-ion cell operation at low temperaturesSubstantially reduced energy and power capabilities of lithium-ion cell operating at low temperatures pose a technical barrier for market penetration of hybrid electric vehicles and pure electric vehicles.\", \"Patent: A method for preparing a cable-type secondary battery, comprising (S2) providing a moisture-blocking layer having a length longer than a perimeter of an outer surface of the electrode assembly and comprising sealant polymer layers on both outer surfaces of a moisture-blocking film\\n<br>Top Sci Sent: The hollow-spiral (helical) multi-helix anode architecture is critical to the robustness under mechanical stress and facilitates electrolyte wetting of the battery components.\", \"Patent: A lithium-ion cell comprising (b) a negative electrode (anode) comprising an anode active material for inserting and extracting lithium during a charge and discharge of said cell, wherein said anode active material is mixed with a conductive additive and/or a resin binder to form a porous electrode structure, or coated onto a current collector in a coating or thin film form, and wherein said anode active material is not pre-lithiated and is lithium-free when the cell is made, and wherein the anode active material is selected from the group consisting of: (A) non-lithiated silicon (Si), germanium (Ge), tin (Sn), lead (Pb), antimony (Sb), bismuth (Bi), zinc (Zn), aluminum (Al), titanium (Ti), cobalt (Co), nickel (Ni), manganese (Mn), cadmium (Cd), and mixtures thereof\\n<br>Top Sci Sent: This approach is based on the exchange of lithium ions between the surfaces (not the bulk) of two nanostructured electrodes, completely obviating the need for lithium intercalation or deintercalation.\", \"Patent: A process for producing a dendrite penetration-resistant layer for a rechargeable alkali metal battery layer, said process comprising and (d) applying a current or voltage to said working electrode and said counter electrode to induce an electrochemical oxidative decomposition and/or a reductive decomposition of said electrolyte for forming one or more lithium- or sodium-containing species that are chemically bonded to said multiple graphene sheets or platelets or exfoliated graphite flakes to produce said dendrite penetration-resistant layer.\\n<br>Top Sci Sent: All the Li metal anode-based batteries suffer from a high propensity to form Li dendrites (tree-like structures) at the anode upon repeated discharges/charges.\", \"Patent: A method for forming an electrolyte composition, the method comprising combining a multidentate ethereal solvent with a salt mixture to produce a solvate, the salt mixture containing Mg(BH.sub.4).sub.2, and the solvate having a molar ratio of multidentate ethereal solvent to Mg(BH.sub.4).sub.2 within a range of 0.1:1 to 10:1, inclusive, wherein the molar ratio of Mg(BH.sub.4).sub.2 to ethereal solvent exceeds the solubility limit of Mg(BH.sub.4).sub.2 in the ethereal solvent.\\n<br>Top Sci Sent: High coulombic efficiency of up to 94 % was achieved in dimethoxyethane solvent.\", \"Patent: A method of real-time monitoring of anode and cathode voltage, anode and cathode differential voltage, and anode and cathode state of charge in a metal-ion battery, said method comprising identifying a first time and a second time, within said plurality of times, such that said battery current is 0 A for at least 1 minute, wherein between said first time and said second time, there exists an intermediate time such that said battery current is greater than 0 A\\n<br>Top Sci Sent: The estimator is implemented in a vehicle-simulated environment to predict the state of charge (SOC) and the charge and discharge power capabilities (state of power, SOP) of a lithium ion battery.\", \"Patent: A method of real-time assessment of capacity of both anode and cathode in a metal-ion battery, said method comprising estimating, in said computer, at said first time and said second time, first and second cathode open-circuit voltages and correlating, in said computer, said first and second cathode open-circuit voltages to first and second cathode states of charge, respectively\\n<br>Top Sci Sent: The estimator is implemented in a vehicle-simulated environment to predict the state of charge (SOC) and the charge and discharge power capabilities (state of power, SOP) of a lithium ion battery.\", \"Patent: A method of real-time assessment of capacity of both anode and cathode in a metal-ion battery, said method comprising receiving, in said computer, anode voltage signals derived from said first voltage monitor at a plurality of times\\n<br>Top Sci Sent: The estimator is implemented in a vehicle-simulated environment to predict the state of charge (SOC) and the charge and discharge power capabilities (state of power, SOP) of a lithium ion battery.\", \"Patent: An energy storage device, comprising a sheath or liner adjacent to said second electrode, wherein said sheath or liner is non-wetting with respect to said second material\\n<br>Top Sci Sent: This LijjSb-Pb battery comprises a liquid lithiumnegative electrode, a molten salt electrolyte, and a liquid antimony-lead alloy positive electrode, which self-segregate by density into three distinct layers owing to the immiscibility of the contiguous salt and metal phases.\", \"Patent: A cable-type secondary battery, comprising a core for supplying lithium ions, which comprise an electrolyte\\n<br>Top Sci Sent: Cable-type flexible lithium ion battery based on hollow multi-helix electrodesThe mechanical flexibility of a cable-type battery reaches levels far beyond what is possible with conventional designs.\", \"Patent: A method of real-time monitoring of anode and cathode voltage, anode and cathode differential voltage, and anode and cathode state of charge in a metal-ion battery, said method comprising estimating first and second anode open-circuit voltages from said anode voltage signals at said first and second times, respectively\\n<br>Top Sci Sent: The estimator is implemented in a vehicle-simulated environment to predict the state of charge (SOC) and the charge and discharge power capabilities (state of power, SOP) of a lithium ion battery.\", \"Patent: A cable-type secondary battery, comprising a separation layer surrounding an outer surface of the inner electrode to prevent a short circuit between electrodes\\n<br>Top Sci Sent: The hollow-spiral (helical) multi-helix anode architecture is critical to the robustness under mechanical stress and facilitates electrolyte wetting of the battery components.\", \"Patent: An electrolyte composition comprising a solvo-ionic liquid that includes Mg(BH.sub.4).sub.2 and a multidentate ethereal solvent, the Mg(BH.sub.4).sub.2 and ethereal solvent present at a molar ratio within a range of 0.1:1 to 10:1, inclusive, the solvo-ionic liquid formed by a method comprising adding a multidentate ethereal solvent to a salt mixture containing Mg(BH.sub.4).sub.2\\n<br>Top Sci Sent: This Mg(BH 4) 2 electrolyte was utilized in a rechargeable magnesium battery.\", \"Patent: An apparatus for real-time assessment of capacity of both anode and cathode in a metal-ion battery, wherein said apparatus is linked in operable communication with said battery, said apparatus comprising receiving current signals derived from battery current at said plurality of times\\n<br>Top Sci Sent: The estimator is implemented in a vehicle-simulated environment to predict the state of charge (SOC) and the charge and discharge power capabilities (state of power, SOP) of a lithium ion battery.\", \"Patent: An energy storage device, comprising an intermetallic layer disposed at an interface between said second electrode and said electrolyte, wherein said intermetallic layer is formed of said first and second materials\\n<br>Top Sci Sent: This LijjSb-Pb battery comprises a liquid lithiumnegative electrode, a molten salt electrolyte, and a liquid antimony-lead alloy positive electrode, which self-segregate by density into three distinct layers owing to the immiscibility of the contiguous salt and metal phases.\", \"Patent: A method for preparing a cable-type secondary battery, comprising and (S4) heat-treating the electrode assembly surrounded with the moisture-blocking layer, thereby adhering the overlapped part of the sealant polymer layers at both ends of the moisture-blocking layer.\\n<br>Top Sci Sent: The hollow-spiral (helical) multi-helix anode architecture is critical to the robustness under mechanical stress and facilitates electrolyte wetting of the battery components.\", \"Patent: A method of real-time assessment of capacity of both anode and cathode in a metal-ion battery, said method comprising and calculating, in said computer, cathode capacity as the integral of said current signals from said first time to said second time, divided by the difference between said second and first cathode states of charge, wherein said first and second times are selected such that said battery current is 0 A for at least 1 minute, wherein between said first time and said second time, there exists an intermediate time such that said battery current is greater than 0 A, wherein said first and second anode open-circuit voltages are each estimated, in said computer, as anode voltage measured at said first and second times, respectively, and wherein said first and second cathode open-circuit voltages are each estimated, in said computer, as cathode voltage measured at said first and second times, respectively.\\n<br>Top Sci Sent: The estimator is implemented in a vehicle-simulated environment to predict the state of charge (SOC) and the charge and discharge power capabilities (state of power, SOP) of a lithium ion battery.\", \"Patent: An electrochemical cell having: a cathode\\n<br>Top Sci Sent: This Mg(BH 4) 2 electrolyte was utilized in a rechargeable magnesium battery.\", \"Patent: A cable-type secondary battery, comprising a separation layer surrounding an outer surface of the inner electrode to prevent a short circuit between electrodes\\n<br>Top Sci Sent: The hollow-spiral (helical) multi-helix anode architecture is critical to the robustness under mechanical stress and facilitates electrolyte wetting of the battery components.\", \"Patent: A lithium-ion cell comprising (d) a lithium-containing electrolyte in ionic contact with the anode and the cathode\\n<br>Top Sci Sent: This approach is based on the exchange of lithium ions between the surfaces (not the bulk) of two nanostructured electrodes, completely obviating the need for lithium intercalation or deintercalation.\", \"Patent: A cable-type secondary battery, comprising two or more cores for supplying lithium ions, which comprise an electrolyte\\n<br>Top Sci Sent: Cable-type flexible lithium ion battery based on hollow multi-helix electrodesThe mechanical flexibility of a cable-type battery reaches levels far beyond what is possible with conventional designs.\", \"Patent: An apparatus for real-time monitoring of anode and cathode voltage, anode and cathode differential voltage, and anode and cathode state of charge in a metal-ion battery, wherein said apparatus is linked in operable communication with said battery, said apparatus comprising a first voltage monitor that is connectable between said anode and a reference electrode of said battery\\n<br>Top Sci Sent: The estimator is implemented in a vehicle-simulated environment to predict the state of charge (SOC) and the charge and discharge power capabilities (state of power, SOP) of a lithium ion battery.\", \"Patent: An electrochemical cell having: an anode comprising elemental magnesium; a cathode; and an electrolyte composition comprising a solvo-ionic liquid that includes Mg(BH.sub.4).sub.2 and a multidentate ethereal solvent, the Mg(BH.sub.4).sub.2 and multidentate ethereal solvent present at a molar ratio within a range of 0.1:1 to 10:1, inclusive, the solvo-ionic liquid formed by a method comprising combining a multidentate ethereal solvent with a salt mixture to produce a solvate, the salt mixture containing Mg(BH.sub.4).sub.2, and the solvate having a molar ratio of solvent to Mg(BH.sub.4).sub.2 within a range of 0.1:1 to 10:1, inclusive.\\n<br>Top Sci Sent: Magnesium borohydride: From hydrogen storage to magnesium batteryBeyond hydrogen storage: The first example of reversible magnesium deposition/stripping onto/from an inorganic salt was seen for a magnesium borohydride electrolyte.\", \"Patent: An apparatus for real-time assessment of capacity of both anode and cathode in a metal-ion battery, wherein said apparatus is linked in operable communication with said battery, said apparatus comprising estimating, at a first time and a second time within said plurality of times, first and second anode open-circuit voltages and correlating said first and second anode open-circuit voltages to first and second anode states of charge, respectively\\n<br>Top Sci Sent: The estimator is implemented in a vehicle-simulated environment to predict the state of charge (SOC) and the charge and discharge power capabilities (state of power, SOP) of a lithium ion battery.\", \"Patent: A lithium-ion cell comprising (B) non-lithiated alloys or intermetallic compounds of Si, Ge, Sn, Pb, Sb, Bi, Zn, Al, Ti, Co, Ni, Mn, Cd, and their mixtures\\n<br>Top Sci Sent: This approach is based on the exchange of lithium ions between the surfaces (not the bulk) of two nanostructured electrodes, completely obviating the need for lithium intercalation or deintercalation.\", \"Patent: A method of real-time assessment of capacity of both anode and cathode in a metal-ion battery, said method comprising receiving, in said computer, current signals derived from battery current at said plurality of times\\n<br>Top Sci Sent: The estimator is implemented in a vehicle-simulated environment to predict the state of charge (SOC) and the charge and discharge power capabilities (state of power, SOP) of a lithium ion battery.\", \"Patent: A method for preparing a cable-type secondary battery, comprising (S3) surrounding the outer surface of the electrode assembly with the moisture-blocking layer so that one of the sealant polymer layers at a first end of the moisture-blocking layer and the other of the sealant polymer layers at a second end of the moisture-blocking layer are adhered at predetermined parts that overlap each other, such that the moisture-blocking layer is a tube form surrounding the electrode assembly\\n<br>Top Sci Sent: The hollow-spiral (helical) multi-helix anode architecture is critical to the robustness under mechanical stress and facilitates electrolyte wetting of the battery components.\", \"Patent: An electrochemical cell comprising an anode, a cathode, and an electrolyte contacting the anode and the cathode\\n<br>Top Sci Sent: Reduction of carbonate electrolytes and the formation of solid-electrolyte interface (SEI) in lithium-ion batteries.\", \"Patent: A method of preparing a solid ion conductor, the method comprising providing a precursor\\n<br>Top Sci Sent: Our results indicate that doping does not greatly alter the topology of the migration pathway, but instead acts primarily to change the lithium concentration.\", \"Patent: An electrochemical cell comprising and wherein the anode comprises graphite and the cathode comprises a lithium metal oxide material providing a cell voltage of about 4.5 V to 5 V.\\n<br>Top Sci Sent: Positive electrode passivation by LiDFOB electrolyte additive in high-capacity lithium-ion cellsThe effect of LiF2BC2O4 (LiDFOB) electrolyte additive on the capacity and impedance characteristics of cells with Li1.2Ni0.15Mn0.55Co0.1O 2-based positive, graphite-based negative and LiPF6-based electrolyte is evaluated using a combination of electrochemical cycling and surface analysis techniques.\", \"Patent: An electrochemical cell comprising the substituents of the substituted vinyl, allyl and propargyl groups independently comprise one or more of alkyl and phenyl\\n<br>Top Sci Sent: This radiolytically generated polymer exhibits chain branching and pendant carbonate groups, and it can form a 3D organic network that is additionally cross-linked through lithium ions.\", \"Patent: A cable-type secondary battery, comprising an inner electrode\\n<br>Top Sci Sent: Cable-type flexible lithium ion battery based on hollow multi-helix electrodesThe mechanical flexibility of a cable-type battery reaches levels far beyond what is possible with conventional designs.\", \"Patent: A method of manufacturing a cable-type secondary battery, comprising providing an inner electrode\\n<br>Top Sci Sent: Cable-type flexible lithium ion battery based on hollow multi-helix electrodesThe mechanical flexibility of a cable-type battery reaches levels far beyond what is possible with conventional designs.\", \"Patent: An electrochemical cell comprising each X independently is selected from vinyl, allyl, propargyl, substituted vinyl, substituted allyl, and substituted propargyl\\n<br>Top Sci Sent: This polymer has a different structure and morphology than the linear chain copolymer of ethylene oxide and EC that is generated in anionic polymerization of intact EC molecules.\", \"Patent: A lithium cell comprising and an electrolytic solution, wherein the electrolytic solution comprises: a nonaqueous solvent\\n<br>Top Sci Sent: In the fluoro-carbonate-mixed electrolyte solutions, electrochemical reduction of PC decreased with increasing concentration of fluoro-carbonate and current density.\", \"Patent: A method of manufacturing a cable-type secondary battery, comprising and helically winding a sheet-form outer electrode on an outer surface of the separation layer, wherein, before the step of helically winding, the method further comprises forming the outer electrode by applying a slurry containing an outer electrode active material on a surface of a sheet-form outer current collector to form an outer electrode active material layer.\\n<br>Top Sci Sent: The hollow-spiral (helical) multi-helix anode architecture is critical to the robustness under mechanical stress and facilitates electrolyte wetting of the battery components.\", \"Patent: A dendrite penetration-resistant layer for a rechargeable alkali metal battery, said layer comprising and wherein said lithium-containing species is selected from Li.sub.2CO.sub.3, Li.sub.2O, Li.sub.2C.sub.2O.sub.4, LiOH, LiX, ROCO.sub.2Li, HCOLi, ROLi, (ROCO.sub.2Li).sub.2, (CH.sub.2OCO.sub.2Li).sub.2, Li.sub.2S, Li.sub.xSO.sub.y, or a combination thereof, wherein X=F, Cl, I, or Br, R=a hydrocarbon group, 0&lt\\n<br>Top Sci Sent: Reviving rechargeable lithium metal batteries: Enabling next-generation high-energy and high-power cellsHerein reported is a fundamentally new strategy for reviving rechargeable lithium (Li) metal batteries and enabling the emergence of next-generation safe batteries featuring a graphene-supported Li metal anode, including the highly promising Li-sulfur, Li-air, and Li-graphene cells with exceptionally high energy or power densities.\", \"Patent: A cable-type secondary battery, comprising and a sheet-form laminate of separation layer-outer electrode, helically wound to surround outer surfaces of the two or more inner electrodes, the laminate being formed by carrying out compression for the integration of a separation layer and an outer electrode having an outer current collector and an outer electrode active material layer formed on one surface of the outer current collector.\\n<br>Top Sci Sent: The hollow-spiral (helical) multi-helix anode architecture is critical to the robustness under mechanical stress and facilitates electrolyte wetting of the battery components.\", \"Patent: A lithium cell comprising an electrolyte salt\\n<br>Top Sci Sent: As a result, first coulombic efficiency for natural graphite electrode increased, that is, irreversible capacity decreased in the fluoro-carbonate-mixed solutions.\", \"Patent: A cable-type secondary battery, comprising two or more cores for supplying lithium ions, which comprise an electrolyte\\n<br>Top Sci Sent: Cable-type flexible lithium ion battery based on hollow multi-helix electrodesThe mechanical flexibility of a cable-type battery reaches levels far beyond what is possible with conventional designs.\", \"Patent: A lithium ion electrochemical cell comprising a lithium ion-containing liquid electrolyte contacting a cathode and an anode that are separated from each other by a membrane that is permeable to the electrolyte\\n<br>Top Sci Sent: The best performing electrodes contained a layer of \\u03b3-Fe2O3 nanoparticles on carbon nanotubes sandwiched between two layers of carbon nanotubes and had in-plane and cross-plane thermal conductivities of \\u223c50 and 3 W/mK, respectively, at room temperature.\", \"Patent: An electrochemical cell comprising and the alkyl and phenyl groups optionally comprise one or more substituent selected from halogen, hydroxy, amino, alkoxy, and perfluoroalkoxy\\n<br>Top Sci Sent: This radiolytically generated polymer exhibits chain branching and pendant carbonate groups, and it can form a 3D organic network that is additionally cross-linked through lithium ions.\", \"Patent: A method of preparing a solid ion conductor, the method comprising y.ltoreq.0.5.\\n<br>Top Sci Sent: The structure with the lowest activation energy and highest room temperature conductivity is Li6.75La3Zr 1.75Ta0.25O12 (Ea = 19 meV, \\u03c3300K = 1 \\u00d7 10-2 S cm-1).\", \"Patent: A lithium ion electrochemical cell comprising the cathode and anode each comprising a sheet of at least one electrochemically active material, in which one or more of the cathode and anode comprise a first layer of carbon nanotubes, and a second layer of carbon nanotubes contacting the first layer on one side thereof\\n<br>Top Sci Sent: The best performing electrodes contained a layer of \\u03b3-Fe2O3 nanoparticles on carbon nanotubes sandwiched between two layers of carbon nanotubes and had in-plane and cross-plane thermal conductivities of \\u223c50 and 3 W/mK, respectively, at room temperature.\", \"Patent: A lithium ion electrochemical cell comprising one or more of the cathode and anode comprising a first layer of carbon nanotubes, and a second layer of carbon nanotubes contacting the first layer on one side thereof\\n<br>Top Sci Sent: The best performing electrodes contained a layer of \\u03b3-Fe2O3 nanoparticles on carbon nanotubes sandwiched between two layers of carbon nanotubes and had in-plane and cross-plane thermal conductivities of \\u223c50 and 3 W/mK, respectively, at room temperature.\", \"Patent: A method of manufacturing a cable-type secondary battery, comprising and helically winding a pre-formed sheet-form outer electrode on an outer surface of the separation layer, the outer electrode including an outer electrode active material layer on a surface of a sheet-form outer current collector.\\n<br>Top Sci Sent: The hollow-spiral (helical) multi-helix anode architecture is critical to the robustness under mechanical stress and facilitates electrolyte wetting of the battery components.\", \"Patent: An electrochemical cell comprising the electrolyte comprising about 1 M to about 1.5 M of a lithium salt consisting of LiPF.sub.6 in a liquid carrier comprising a carbonate ester and about 0.25 percent by weight of trivinylboroxine, based on the total weight of the liquid carrier, wherein the anode comprises graphite, and the cathode comprises a lithium nickel/manganese/cobalt oxide material providing a cell voltage of about 4.5 V to 5 V.\\n<br>Top Sci Sent: Positive electrode passivation by LiDFOB electrolyte additive in high-capacity lithium-ion cellsThe effect of LiF2BC2O4 (LiDFOB) electrolyte additive on the capacity and impedance characteristics of cells with Li1.2Ni0.15Mn0.55Co0.1O 2-based positive, graphite-based negative and LiPF6-based electrolyte is evaluated using a combination of electrochemical cycling and surface analysis techniques.\", \"Patent: A lithium cell comprising a negative electrode and a positive electrode that are capable of occluding or releasing lithium ions\\n<br>Top Sci Sent: As a result, first coulombic efficiency for natural graphite electrode increased, that is, irreversible capacity decreased in the fluoro-carbonate-mixed solutions.\", \"Patent: An electrochemical cell comprising the substituents of the substituted vinyl, allyl and propargyl groups independently comprise one or more of alkyl and phenyl\\n<br>Top Sci Sent: This radiolytically generated polymer exhibits chain branching and pendant carbonate groups, and it can form a 3D organic network that is additionally cross-linked through lithium ions.\", \"Patent: An energy storage device based on atomic clusters including transition metal oxide rescaled by lithiation, comprising and transition metal nanoparticles dispersed thereon to be rescaled on the support by intercalation/deintercalation of lithium ions, wherein divalent transition metal ion (M.sup.2+) of the transition metal nanoparticles is reversely changed to zero-valent transition metal state (M.sup.0) during lithiation and delithiation, and wherein the divalent transition metal ion reacts with atomic unit scale oxygen by lithiation, and is maintained on the scale of the atomic units when a duster returns to the transition metal oxide state while removing lithium in a M:LiO.sub.x core-shell structure, wherein the transition metal oxide is at least one selected from RuO.sub.2, IrO.sub.2, MnO.sub.2, Mn.sub.3O.sub.4, Co.sub.3O.sub.4, NiCo.sub.2O.sub.4, V.sub.2O.sub.5, SnO.sub.2, TiO.sub.2, MoO.sub.3, and Fe.sub.2O.sub.3.\\n<br>Top Sci Sent: Reactive force-field (ReaxFF) molecular dynamics simulations support the conclusion that Li atoms react with nickel oxide nanocrystals (NiO-n) to form lithiated core-shell structures (Ni:Li<inf>2</inf>O), whereas subsequent delithiation causes Ni:Li<inf>2</inf>O to form atomic clusters of NiO-a.\", \"Patent: A method of preparing a solid ion conductor, the method comprising contacting a lithium compound, a compound comprising a Group 1 element other than Li, a compound comprising a trivalent cation, and a compound comprising a metal element of Group 1 to Group 14 to form a mixture\\n<br>Top Sci Sent: Effect of Rb and Ta doping on the ionic conductivity and stability of the garnet Li7+2x-y(La3-xRbx)(Zr 2-yTay)O12 (0 \\u2264 x \\u2264 0.375, 0 \\u2264 y \\u2264 1) Superionic conductor: A first principles investigationIn this work, we investigated the effect of Rb and Ta doping on the ionic conductivity and stability of the garnet Li7+2x-y(La 3-xRbx)(Zr2-yTay)O12 (0 \\u2264 x \\u2264 0.375, 0 \\u2264 y \\u2264 1) superionic conductor using first principles calculations.\", \"Patent: A cable-type secondary battery, comprising two or more inner electrodes arranged in parallel to each other\\n<br>Top Sci Sent: Cable-type flexible lithium ion battery based on hollow multi-helix electrodesThe mechanical flexibility of a cable-type battery reaches levels far beyond what is possible with conventional designs.\", \"Patent: A lithium ion electrochemical cell comprising wherein: the carbon nanotubes in each of the layers have an exterior surface, an interior surface defining a generally hollow interior space therein, a length, and a diameter, in which the length is greater than the diameter\\n<br>Top Sci Sent: The best performing electrodes contained a layer of \\u03b3-Fe2O3 nanoparticles on carbon nanotubes sandwiched between two layers of carbon nanotubes and had in-plane and cross-plane thermal conductivities of \\u223c50 and 3 W/mK, respectively, at room temperature.\", \"Patent: An energy storage device based on atomic clusters including transition metal oxide rescaled by lithiation, comprising a carbon support\\n<br>Top Sci Sent: We show that rescaling 3-nm particles through lithiation followed by delithiation leads to high-performance energy storage by realizing high capacitance close to the theoretical capacitance available via ion-to-atom redox reactions.\", \"Patent: A method of preparing a solid ion conductor, the method comprising and sintering the mixture to preparing the solid ion conductor, wherein the solid ion conductor has a cubic or pseudocubic structure, and wherein the solid ion conductor comprises a garnet oxide represented by Formula 4: Li.sub.5+x+2y(D.sub.y,La.sub.3-y)Zr.sub.2O.sub.12 Formula 4 wherein D is K, Rb, or Cs, and 0&lt\\n<br>Top Sci Sent: Effect of Rb and Ta doping on the ionic conductivity and stability of the garnet Li7+2x-y(La3-xRbx)(Zr 2-yTay)O12 (0 \\u2264 x \\u2264 0.375, 0 \\u2264 y \\u2264 1) Superionic conductor: A first principles investigationIn this work, we investigated the effect of Rb and Ta doping on the ionic conductivity and stability of the garnet Li7+2x-y(La 3-xRbx)(Zr2-yTay)O12 (0 \\u2264 x \\u2264 0.375, 0 \\u2264 y \\u2264 1) superionic conductor using first principles calculations.\", \"Patent: A lithium cell comprising and 50 vol % to 90 vol % of a linear carbonate based on 100 vol % of the nonaqueous solvent, wherein the electrolyte salt is LiPF.sub.6, and the electrolyte salt is contained in an amount of 0.2 mol/L or more, wherein the positive electrode capable of occluding or releasing lithium ions contains a positive electrode active material formed from a lithium transition metal oxide, wherein the lithium transition metal oxide includes lithium-nickel composite oxides, lithium-manganese composite oxides, or products obtained by partially substituting transition metal atoms mainly constituting the above lithium transition metal composite oxides with Al, Mn, Co, or Ni, wherein the compound represented by the formula (1) is at least one compound selected from group consisting of a compound represented by formula (I-b) and formula (I-c). ##STR00038##\\n<br>Top Sci Sent: Safety improvement of lithium ion batteries by organo-fluorine compoundsThermal stability, electrochemical oxidation stability and charge/discharge characteristics of natural graphite powder were investigated by mixing of five fluoro-carbonates with 1 mol/L LiClO4-EC/DEC/PC (1:1:1 vol.).\", \"Patent: An electrochemical cell comprising wherein the unsaturated hydrocarbon groups are independently selected from vinyl, allyl, propargyl, substituted vinyl, substituted allyl, and substituted propargyl\\n<br>Top Sci Sent: This radiolytically generated polymer exhibits chain branching and pendant carbonate groups, and it can form a 3D organic network that is additionally cross-linked through lithium ions.\", \"Patent: An electrochemical cell configured to exchange energy with an external device, the electrochemical cell comprising and a molten salt electrolyte comprising a first cation of the first active metal and a second cation of the second active metal, the electrolyte defining first and second interfaces, the positive electrode being in contact with the electrolyte at the first interface and the negative electrode being in contact with the electrolyte at the second interface, the electrolyte configured to allow the cations of the first and second active metals to be transferred from the negative electrode to the positive electrode during discharging and to be transferred from the positive electrode to the negative electrode during charging, wherein the electrolyte exists as a liquid phase and the negative electrode and the positive electrode exist as liquid or partially liquid phases at operating temperatures of the electrochemical cell, the first active metal is calcium, and the second active metal is an alkali metal or an alkaline earth metal.\\n<br>Top Sci Sent: A melt consisting of CdTe dissolved in equimolar CdCl2-KCl was processed by ambipolar electrolysis, resulting in the production of liquid Cd at the cathode and liquid Te at the anode.\", \"Patent: A lithium-sulfur electrochemical cell comprising an anode\\n<br>Top Sci Sent: Ultrasound assisted design of sulfur/carbon cathodes with partially fluorinated ether electrolytes for highly efficient Li/S batteriesA one-step, eco-friendly ultrasound-assisted process is established for the rapid synthesis of sulfur-carbon composite cathode materials, avoiding the widely used, energy inefficient \\\"melt-down\\\" process for Li-S batteries.\", \"Patent: An electrochemical cell comprising an anode, a cathode, and a lithium-containing electrolyte contacting the anode and the cathode\\n<br>Top Sci Sent: Reduction of carbonate electrolytes and the formation of solid-electrolyte interface (SEI) in lithium-ion batteries.\", \"Patent: A lithium ion electrochemical cell comprising the majority of the carbon nanotubes in each of the layers are oriented, lengthwise, generally parallel to the layers\\n<br>Top Sci Sent: The best performing electrodes contained a layer of \\u03b3-Fe2O3 nanoparticles on carbon nanotubes sandwiched between two layers of carbon nanotubes and had in-plane and cross-plane thermal conductivities of \\u223c50 and 3 W/mK, respectively, at room temperature.\", \"Patent: An electrochemical cell comprising the electrolyte comprising about 1 M to 1.5 M of a lithium salt consisting of LiPF.sub.6 in a liquid carrier comprising a carbonate ester containing about 0.25 to about 2 percent by weight of an organoboron compound of formula Z-X.sub.3, based on the total weight of the liquid carrier, wherein Z is a boroxine ring\\n<br>Top Sci Sent: Positive electrode passivation by LiDFOB electrolyte additive in high-capacity lithium-ion cellsThe effect of LiF2BC2O4 (LiDFOB) electrolyte additive on the capacity and impedance characteristics of cells with Li1.2Ni0.15Mn0.55Co0.1O 2-based positive, graphite-based negative and LiPF6-based electrolyte is evaluated using a combination of electrochemical cycling and surface analysis techniques.\", \"Patent: A cable-type secondary battery, comprising and a sheet-form laminate of separation layer-outer electrode, helically wound to surround outer surfaces of the two or more inner electrodes, the laminate being formed by carrying out compression for the integration of a separation layer and an outer electrode.\\n<br>Top Sci Sent: The hollow-spiral (helical) multi-helix anode architecture is critical to the robustness under mechanical stress and facilitates electrolyte wetting of the battery components.\", \"Patent: A method for enhancing in-plane thermal conductivity, cross-plane thermal conductivity, or both in-plane and cross-plane thermal conductivity in an electrochemical cell that comprises electrodes that include one or more layers of electroactive materials; the method comprising and the majority of the carbon nanotubes are oriented generally parallel to the layers of the electrodes.\\n<br>Top Sci Sent: The best performing electrodes contained a layer of \\u03b3-Fe2O3 nanoparticles on carbon nanotubes sandwiched between two layers of carbon nanotubes and had in-plane and cross-plane thermal conductivities of \\u223c50 and 3 W/mK, respectively, at room temperature.\", \"Patent: An electrochemical cell comprising and wherein the organoboron compound has the formula Z-X.sub.3, wherein Z is B, and each X independently is selected from vinyl, allyl, propargyl, substituted vinyl, substituted allyl, and substituted propargyl\\n<br>Top Sci Sent: This polymer has a different structure and morphology than the linear chain copolymer of ethylene oxide and EC that is generated in anionic polymerization of intact EC molecules.\", \"Patent: An electrochemical cell configured to exchange energy with an external device, the electrochemical cell comprising a negative electrode comprising at least a first active metal and a second active metal\\n<br>Top Sci Sent: This new process, involving the simultaneous deposition of liquid metals at electrodes of opposite polarity, is termed herein as ambipolar electrolysis.\", \"Patent: A solid ion conductor comprising y.ltoreq.0.5.\\n<br>Top Sci Sent: The structure with the lowest activation energy and highest room temperature conductivity is Li6.75La3Zr 1.75Ta0.25O12 (Ea = 19 meV, \\u03c3300K = 1 \\u00d7 10-2 S cm-1).\", \"Patent: A dendrite penetration-resistant layer for a rechargeable alkali metal battery, said layer comprising a polymeric carbon matrix, a reinforcement phase dispersed in said matrix, and a lithium-containing species that are chemically bonded to said matrix and-- to said reinforcement phase to form an integral layer that prevents dendrite penetration through said integral layer in said alkali metal battery, wherein said reinforcement phase contains graphene sheets or platelets\\n<br>Top Sci Sent: By implementing graphene sheets to increase the anode surface areas, one can significantly reduce the anode current density, thereby dramatically prolonging the dendrite initiation time and decreasing the growth rate of a dendrite, if ever initiated, possibly by a factor of up to 10 10 and 10 5, respectively.\", \"Patent: A lithium ion electrochemical cell comprising at least a portion of the carbon nanotubes of the second layer comprise electroactive nanoparticles, electroactive microparticles, or a combination thereof adhering to the exterior surfaces of the carbon nanotubes of the second layer\\n<br>Top Sci Sent: The best performing electrodes contained a layer of \\u03b3-Fe2O3 nanoparticles on carbon nanotubes sandwiched between two layers of carbon nanotubes and had in-plane and cross-plane thermal conductivities of \\u223c50 and 3 W/mK, respectively, at room temperature.\", \"Patent: A method of preparing a solid ion conductor, the method comprising y.ltoreq.0.5.\\n<br>Top Sci Sent: The structure with the lowest activation energy and highest room temperature conductivity is Li6.75La3Zr 1.75Ta0.25O12 (Ea = 19 meV, \\u03c3300K = 1 \\u00d7 10-2 S cm-1).\", \"Patent: A method for enhancing in-plane thermal conductivity, cross-plane thermal conductivity, or both in-plane and cross-plane thermal conductivity in an electrochemical cell that comprises electrodes that include one or more layers of electroactive materials; the method comprising electroactive metal oxide nanoparticles, electroactive lithium metal oxide microparticles, or both electroactive metal oxide nanoparticles and microparticles are adhered to the exterior surfaces of the carbon nanotubes\\n<br>Top Sci Sent: The best performing electrodes contained a layer of \\u03b3-Fe2O3 nanoparticles on carbon nanotubes sandwiched between two layers of carbon nanotubes and had in-plane and cross-plane thermal conductivities of \\u223c50 and 3 W/mK, respectively, at room temperature.\", \"Patent: A method of preparing a solid ion conductor, the method comprising and sintering the precursor in an air atmosphere at a temperature from about 800.degree. C. to about 1250.degree. C. for about 2 to about 40 hours to prepare the solid ion conductor, wherein the solid ion conductor comprises a garnet oxide represented by Formula 4, wherein the precursor is a precursor of the solid ion conductor: Li.sub.5+x+2y(D.sub.y,La.sub.3-y)Zr.sub.2O.sub.12 wherein D is K, Rb, or Cs, and 0&lt\\n<br>Top Sci Sent: Effect of Rb and Ta doping on the ionic conductivity and stability of the garnet Li7+2x-y(La3-xRbx)(Zr 2-yTay)O12 (0 \\u2264 x \\u2264 0.375, 0 \\u2264 y \\u2264 1) Superionic conductor: A first principles investigationIn this work, we investigated the effect of Rb and Ta doping on the ionic conductivity and stability of the garnet Li7+2x-y(La 3-xRbx)(Zr2-yTay)O12 (0 \\u2264 x \\u2264 0.375, 0 \\u2264 y \\u2264 1) superionic conductor using first principles calculations.\", \"Patent: A lithium ion electrochemical cell comprising the majority of the carbon nanotubes in each of the layers are oriented, lengthwise, generally parallel to the layers\\n<br>Top Sci Sent: The best performing electrodes contained a layer of \\u03b3-Fe2O3 nanoparticles on carbon nanotubes sandwiched between two layers of carbon nanotubes and had in-plane and cross-plane thermal conductivities of \\u223c50 and 3 W/mK, respectively, at room temperature.\", \"Patent: A lithium-sulfur electrochemical cell comprising dimethoxyethane (DME), di(ethylene glycol) dimethyl ether, tri(ethylene glycol) dimethyl ether, tetra(ethylene glycol) dimethyl ether (TEGDME), oligo(ethylene glycol)-substituted siloxanes, oligo(ethylene glycol)-substituted silanes, or ionic liquids.\\n<br>Top Sci Sent: Improved performance of lithium-sulfur battery with fluorinated electrolyteAn organo-fluorine compound, 1,1,2,2-tetrafluoroethyl-2,2,3,3- tetrafluoropropyl ether (TTE), was investigated for the first time as the electrolyte solvent in the lithium-sulfur battery.\", \"Patent: A cable-type secondary battery, comprising and a sheet-form laminate of separation layer-outer electrode, helically wound to surround an outer surface of the inner electrode, the laminate being formed by carrying out compression for the integration of a separation layer and an outer electrode.\\n<br>Top Sci Sent: The hollow-spiral (helical) multi-helix anode architecture is critical to the robustness under mechanical stress and facilitates electrolyte wetting of the battery components.\", \"Patent: A lithium-sulfur electrochemical cell comprising and an electrolyte consisting essentially of a salt, a non-polar fluorinated ether solvent, and optionally a non-fluorinated co-solvent selected from the group consisting of 1,3-dioxolane (DOL)\\n<br>Top Sci Sent: Improved performance of lithium-sulfur battery with fluorinated electrolyteAn organo-fluorine compound, 1,1,2,2-tetrafluoroethyl-2,2,3,3- tetrafluoropropyl ether (TTE), was investigated for the first time as the electrolyte solvent in the lithium-sulfur battery.\", \"Patent: A lithium ion electrochemical cell comprising and the electroactive nanoparticles and microparticles comprise one or more electrochemically active material selected from the group consisting of a metal oxide, a lithium metal oxide, a metal sulfide, a metal nitride, a metal silicide, a metal aluminide, a metal phosphide, a lithium metal phosphate, an intermetallic compound of a transition metal with a non-transition metal element, and intermetallic alloy of a transition metal with a non-transition metal element wherein the non-transition metal element is selected from the group consisting of tin, antimony, and a combination thereof.\\n<br>Top Sci Sent: We report the results on thermal properties of a set of different Li-ion battery electrodes enhanced with multiwalled carbon nanotubes.\", \"Patent: A solid ion conductor comprising x+2y.ltoreq.3 and 0&lt\\n<br>Top Sci Sent: Effect of Rb and Ta doping on the ionic conductivity and stability of the garnet Li7+2x-y(La3-xRbx)(Zr 2-yTay)O12 (0 \\u2264 x \\u2264 0.375, 0 \\u2264 y \\u2264 1) Superionic conductor: A first principles investigationIn this work, we investigated the effect of Rb and Ta doping on the ionic conductivity and stability of the garnet Li7+2x-y(La 3-xRbx)(Zr2-yTay)O12 (0 \\u2264 x \\u2264 0.375, 0 \\u2264 y \\u2264 1) superionic conductor using first principles calculations.\", \"Patent: A lithium ion electrochemical cell comprising a lithium ion-containing liquid electrolyte contacting a cathode and an anode that are separated from each other by a membrane that is permeable to the electrolyte\\n<br>Top Sci Sent: The best performing electrodes contained a layer of \\u03b3-Fe2O3 nanoparticles on carbon nanotubes sandwiched between two layers of carbon nanotubes and had in-plane and cross-plane thermal conductivities of \\u223c50 and 3 W/mK, respectively, at room temperature.\", \"Patent: A method of manufacturing a cable-type secondary battery, comprising providing an inner electrode\\n<br>Top Sci Sent: Cable-type flexible lithium ion battery based on hollow multi-helix electrodesThe mechanical flexibility of a cable-type battery reaches levels far beyond what is possible with conventional designs.\", \"Patent: A lithium cell comprising 10 vol % to 50 vol % of a compound represented by the following formula (1) based on 100 vol % of the nonaqueous solvent, ##STR00037## wherein R.sup.1, R.sup.2 and R.sup.3 may be the same as or different from one another, each representing a hydrogen atom, a fluorine atom, a C.sub.1-C.sub.20 alkyl group, or a C.sub.1-C.sub.20 fluorinated alkyl group, at least one of R.sup.1, R.sup.2, and R.sup.3 is a fluorine atom or a fluorinated alkyl group, excluding cases where all of R.sup.1, R.sup.2, and R.sup.3 are hydrogen atoms or fluorine atoms\\n<br>Top Sci Sent: DSC study revealed that thermal stability of the electrolyte solution was improved by mixing of fluoro-carbonates by 10.0-33.3 vol.%.\", \"Patent: A lithium ion electrochemical cell comprising the cathode and anode each comprising a sheet containing at least one electrochemically active material\\n<br>Top Sci Sent: We report the results on thermal properties of a set of different Li-ion battery electrodes enhanced with multiwalled carbon nanotubes.\", \"Patent: An electrochemical cell comprising wherein the organoboron compound comprises two or three unsaturated hydrocarbon groups, each unsaturated hydrocarbon group being covalently bonded by a carbon atom thereof to a boron atom of the organoboron compound\\n<br>Top Sci Sent: This radiolytically generated polymer exhibits chain branching and pendant carbonate groups, and it can form a 3D organic network that is additionally cross-linked through lithium ions.\", \"Patent: An electrochemical cell comprising the substituents of the substituted vinyl, allyl and propargyl groups independently comprise one or more of alkyl and phenyl\\n<br>Top Sci Sent: This radiolytically generated polymer exhibits chain branching and pendant carbonate groups, and it can form a 3D organic network that is additionally cross-linked through lithium ions.\", \"Patent: An electrochemical cell comprising and the alkyl and phenyl groups optionally comprise one or more substituent selected from halogen, hydroxy, amino, alkoxy, and perfluoroalkoxy\\n<br>Top Sci Sent: This radiolytically generated polymer exhibits chain branching and pendant carbonate groups, and it can form a 3D organic network that is additionally cross-linked through lithium ions.\", \"Patent: An electrochemical cell comprising an anode, a cathode, and an electrolyte contacting the anode and the cathode\\n<br>Top Sci Sent: Reduction of carbonate electrolytes and the formation of solid-electrolyte interface (SEI) in lithium-ion batteries.\", \"Patent: A lithium-sulfur electrochemical cell comprising a cathode comprising a polytetrafluoroethylene-coated carbon paper and sulfur wherein the sulfur is elemental sulfur embedded in the polytetrafluoroethylene-coated carbon paper\\n<br>Top Sci Sent: Ultrasound assisted design of sulfur/carbon cathodes with partially fluorinated ether electrolytes for highly efficient Li/S batteriesA one-step, eco-friendly ultrasound-assisted process is established for the rapid synthesis of sulfur-carbon composite cathode materials, avoiding the widely used, energy inefficient \\\"melt-down\\\" process for Li-S batteries.\", \"Patent: A lithium ion electrochemical cell comprising and the electroactive nanoparticles and microparticles comprise one or more electrochemically active material selected from the group consisting of a metal oxide, a lithium metal oxide, a metal sulfide, a metal nitride, a metal silicide, a metal aluminide, a metal phosphide, a lithium metal phosphate, an intermetallic compound of a transition metal with a non-transition metal element, and intermetallic alloy of a transition metal with a non-transition metal element wherein the non-transition metal element is selected from the group consisting of tin, antimony, and a combination thereof.\\n<br>Top Sci Sent: We report the results on thermal properties of a set of different Li-ion battery electrodes enhanced with multiwalled carbon nanotubes.\", \"Patent: A method of manufacturing a cable-type secondary battery, comprising winding a separation layer on an outer surface of the inner electrode\\n<br>Top Sci Sent: The hollow-spiral (helical) multi-helix anode architecture is critical to the robustness under mechanical stress and facilitates electrolyte wetting of the battery components.\", \"Patent: An electrochemical cell comprising the electrolyte comprising about 1 to 1.5 M LiPF.sub.6 in a liquid carrier comprising a carbonate ester containing about 0.25 to about 2 percent by weight of an unsaturated organoboron compound, based on the total weight of the liquid carrier\\n<br>Top Sci Sent: Positive electrode passivation by LiDFOB electrolyte additive in high-capacity lithium-ion cellsThe effect of LiF2BC2O4 (LiDFOB) electrolyte additive on the capacity and impedance characteristics of cells with Li1.2Ni0.15Mn0.55Co0.1O 2-based positive, graphite-based negative and LiPF6-based electrolyte is evaluated using a combination of electrochemical cycling and surface analysis techniques.\", \"Patent: A dendrite penetration-resistant layer for a rechargeable alkali metal battery, said layer comprising and wherein said lithium-containing species is derived from an electrochemical decomposition reaction, wherein said carbon matrix is from 5% to 95% by volume of said integral layer, and wherein a weight ratio of said carbon matrix to said lithium-containing species is from 1/100 to 100/1.\\n<br>Top Sci Sent: By implementing graphene sheets to increase the anode surface areas, one can significantly reduce the anode current density, thereby dramatically prolonging the dendrite initiation time and decreasing the growth rate of a dendrite, if ever initiated, possibly by a factor of up to 10 10 and 10 5, respectively.\", \"Patent: A lithium cell comprising a separator\\n<br>Top Sci Sent: As a result, first coulombic efficiency for natural graphite electrode increased, that is, irreversible capacity decreased in the fluoro-carbonate-mixed solutions.\", \"Patent: A dendrite penetration-resistant layer for a rechargeable alkali metal battery, said layer comprising x.ltoreq.1, 1.ltoreq.y.ltoreq.4\\n<br>Top Sci Sent: All the Li metal anode-based batteries suffer from a high propensity to form Li dendrites (tree-like structures) at the anode upon repeated discharges/charges.\", \"Patent: A method of manufacturing a cable-type secondary battery, comprising winding a separation layer on an outer surface of the inner electrode\\n<br>Top Sci Sent: The hollow-spiral (helical) multi-helix anode architecture is critical to the robustness under mechanical stress and facilitates electrolyte wetting of the battery components.\", \"Patent: A method of preparing a solid ion conductor, the method comprising x+2y.ltoreq.3 and 0&lt\\n<br>Top Sci Sent: Effect of Rb and Ta doping on the ionic conductivity and stability of the garnet Li7+2x-y(La3-xRbx)(Zr 2-yTay)O12 (0 \\u2264 x \\u2264 0.375, 0 \\u2264 y \\u2264 1) Superionic conductor: A first principles investigationIn this work, we investigated the effect of Rb and Ta doping on the ionic conductivity and stability of the garnet Li7+2x-y(La 3-xRbx)(Zr2-yTay)O12 (0 \\u2264 x \\u2264 0.375, 0 \\u2264 y \\u2264 1) superionic conductor using first principles calculations.\", \"Patent: An electrochemical cell comprising and the alkyl and phenyl groups optionally comprise one or more substituent selected from halogen, hydroxy, amino, alkoxy, and perfluoroalkoxy\\n<br>Top Sci Sent: This radiolytically generated polymer exhibits chain branching and pendant carbonate groups, and it can form a 3D organic network that is additionally cross-linked through lithium ions.\", \"Patent: A lithium ion electrochemical cell comprising wherein: the carbon nanotubes in each of the layers have an exterior surface, an interior surface defining a generally hollow interior space therein, a length, and a diameter, in which the length is greater than the diameter\\n<br>Top Sci Sent: The best performing electrodes contained a layer of \\u03b3-Fe2O3 nanoparticles on carbon nanotubes sandwiched between two layers of carbon nanotubes and had in-plane and cross-plane thermal conductivities of \\u223c50 and 3 W/mK, respectively, at room temperature.\", \"Patent: A lithium ion electrochemical cell comprising electroactive nanoparticles, electroactive microparticles, or a combination thereof are admixed with the carbon nanotubes of the second layer\\n<br>Top Sci Sent: The best performing electrodes contained a layer of \\u03b3-Fe2O3 nanoparticles on carbon nanotubes sandwiched between two layers of carbon nanotubes and had in-plane and cross-plane thermal conductivities of \\u223c50 and 3 W/mK, respectively, at room temperature.\", \"Patent: A method of preparing a solid ion conductor, the method comprising x+2y.ltoreq.3 and 0&lt\\n<br>Top Sci Sent: Effect of Rb and Ta doping on the ionic conductivity and stability of the garnet Li7+2x-y(La3-xRbx)(Zr 2-yTay)O12 (0 \\u2264 x \\u2264 0.375, 0 \\u2264 y \\u2264 1) Superionic conductor: A first principles investigationIn this work, we investigated the effect of Rb and Ta doping on the ionic conductivity and stability of the garnet Li7+2x-y(La 3-xRbx)(Zr2-yTay)O12 (0 \\u2264 x \\u2264 0.375, 0 \\u2264 y \\u2264 1) superionic conductor using first principles calculations.\", \"Patent: An electrochemical cell configured to exchange energy with an external device, the electrochemical cell comprising a positive electrode comprising a metal or alloy\\n<br>Top Sci Sent: Electrolysis of molten iron oxide with an iridium anode: The role of electrolyte basicityMolten oxide electrolysis (MOE) is a carbon-free, electrochemical technique to decompose a metal oxide directly into liquid metal and oxygen gas.\", \"Patent: A cable-type secondary battery, comprising two or more inner electrodes arranged in parallel to each other, each inner electrode having one or more inner current collectors wound to surround an outer surface of one of the two or more cores for supplying lithium ions and an inner electrode active material layer formed on respective surfaces of the inner current collectors\\n<br>Top Sci Sent: The hollow-spiral (helical) multi-helix anode architecture is critical to the robustness under mechanical stress and facilitates electrolyte wetting of the battery components.\", \"Patent: A solid ion conductor comprising a garnet oxide represented by Formula 4: Li.sub.5+x+2y(D.sub.y,La.sub.3-y)Zr.sub.2O.sub.12 Formula 4 wherein D is K, Rb, or Cs, and 0&lt\\n<br>Top Sci Sent: Effect of Rb and Ta doping on the ionic conductivity and stability of the garnet Li7+2x-y(La3-xRbx)(Zr 2-yTay)O12 (0 \\u2264 x \\u2264 0.375, 0 \\u2264 y \\u2264 1) Superionic conductor: A first principles investigationIn this work, we investigated the effect of Rb and Ta doping on the ionic conductivity and stability of the garnet Li7+2x-y(La 3-xRbx)(Zr2-yTay)O12 (0 \\u2264 x \\u2264 0.375, 0 \\u2264 y \\u2264 1) superionic conductor using first principles calculations.\", \"Patent: An electrochemical cell comprising and wherein the anode comprises graphite and the cathode comprises a lithium metal oxide material providing a cell voltage of about 4.5 V to 5V.\\n<br>Top Sci Sent: Positive electrode passivation by LiDFOB electrolyte additive in high-capacity lithium-ion cellsThe effect of LiF2BC2O4 (LiDFOB) electrolyte additive on the capacity and impedance characteristics of cells with Li1.2Ni0.15Mn0.55Co0.1O 2-based positive, graphite-based negative and LiPF6-based electrolyte is evaluated using a combination of electrochemical cycling and surface analysis techniques.\", \"Patent: A method for enhancing in-plane thermal conductivity, cross-plane thermal conductivity, or both in-plane and cross-plane thermal conductivity in an electrochemical cell that comprises electrodes that include one or more layers of electroactive materials; the method comprising placing one or more layers of carbon nanotubes within, or on, one or more of the electrodes, wherein the carbon nanotubes have an exterior surface, an interior surface defining a generally hollow interior space therein, a length, and a diameter, in which the length is greater than the diameter\\n<br>Top Sci Sent: The best performing electrodes contained a layer of \\u03b3-Fe2O3 nanoparticles on carbon nanotubes sandwiched between two layers of carbon nanotubes and had in-plane and cross-plane thermal conductivities of \\u223c50 and 3 W/mK, respectively, at room temperature.\", \"Patent: A structurally inhomogeneous lithium metal oxide material of Formula (I): 0.ltoreq.d.ltoreq.0.33\\n<br>Top Sci Sent: Identification of LiNi0.5Mn1.5O4 spinel in layered manganese enriched electrode materialsWe report the synthesis and characterization of the composite materials Li1 + x(Ni0.25Mn0.75)O2.25 + x/2 and Li1 + x(Ni0.25Co0.125Mn0.625)O 2.19 + x/2 (x = 0.25, 0.375, 0.5, and 0.625) via a solid-state reaction.\", \"Patent: A positive active material for a rechargeable lithium battery, comprising a LiCoO.sub.2 particle, wherein an interior of the particle has a layered structure and a surface of the particle has a spinel structure.\\n<br>Top Sci Sent: Characterization of spinel LixCo2O4-coated LiCoO2 prepared with post-thermal treatment as a cathode material for lithium ion batteriesBoth the origin and mechanism of the improvement in the electrochemical performances of post-thermal treated LiCoO2 as a cathode material for lithium ion batteries are investigated through high-quality characterization.\", \"Patent: An electrolyte for use in an electrochemical cell, the electrolyte comprising 15-30% by volume a non-cyclic carbonate\\n<br>Top Sci Sent: In the present work, we have evaluated the use of a number of additives, namely vinylene carbonate (VC), dimethyl acetamide (DMAc), and mono-fluoroethylene carbonate (FEC), in an electrolyte solution anticipated to perform well at warm temperature (i.e., 1.0M LiPF6 in EC+EMC (50:50 v/v %).\", \"Patent: A structurally inhomogeneous lithium metal oxide material of Formula (I): y[xLi.sub.2MO.sub.3.cndot.(1-x)LiM'O.sub.2].cndot.(1-y)Li.sub.1+dM'- '.sub.2-dO.sub.4\\n<br>Top Sci Sent: Identification of LiNi0.5Mn1.5O4 spinel in layered manganese enriched electrode materialsWe report the synthesis and characterization of the composite materials Li1 + x(Ni0.25Mn0.75)O2.25 + x/2 and Li1 + x(Ni0.25Co0.125Mn0.625)O 2.19 + x/2 (x = 0.25, 0.375, 0.5, and 0.625) via a solid-state reaction.\", \"Patent: A lithium ion battery, comprising and a transition metal cation trap comprising a siderophore, wherein the transition metal cation trap is tethered to a polymer to form a transition metal chelating polymer material which is deposited as a polymer coating layer onto i) one or more surfaces of either of the positive electrode or the negative electrode or ii) one or more surfaces of the microporous polymer separator, wherein the transition metal chelating polymer material traps and reduces or prevents migration of transition metal cations to and deposition thereof at or on the negative electrode, wherein the polymer is selected from the group consisting of polyurethanes, polycarbonates, polyesters, polyetheretherketones, polyethersulfones, polyimides, polyamide-imides, polyoxymethylene, polybutylene terephthalate, polyethylenenaphthenate, polybutene, acrylonitrile-butadiene styrene copolymers, polystyrene copolymers, polymethylmethacrylate, polysiloxane polymers, polybenzimidazole, polybenzoxazole, polyphenylenes, polyarylene ether ketones, polyperfluorocyclobutanes, polytetrafluoroethylene, polyvinylfluoride, liquid crystalline polymers, polyaramides, polyphenylene oxide, and combinations thereof, and the siderophore is selected from the group consisting of bacillibactin, yersiniabactin, vibriobactin, azotobactin, ornibactin, and erythrobactin.\\n<br>Top Sci Sent: The separator is made by embedding the poly(ethylene-alternate-maleic acid) dilithium salt polymer into a poly(vinylidene fluoride-hexafluoropropylene) copolymer matrix.\", \"Patent: An electrolyte composition, comprising and wherein R.sup.3 is an aryl group or an alkylene-aryl group.\\n<br>Top Sci Sent: Lithium polymer cell assembled by in situ chemical cross-linking of ionic liquid electrolyte with phosphazene-based cross-linking agentIonic liquid-based cross-linked gel polymer electrolytes were prepared with a phosphazene-based cross-linking agent, and their electrochemical properties were investigated.\", \"Patent: A cable-type secondary battery extending in a lengthwise direction, the cable-type secondary battery comprising at least two inner electrodes arranged in parallel, and comprising at least one wire-type inner current collector wound around an outer surface of each lithium ion supplying core, and an inner electrode active material layer formed on a surface of the wire-type inner current collector\\n<br>Top Sci Sent: The hollow-spiral (helical) multi-helix anode architecture is critical to the robustness under mechanical stress and facilitates electrolyte wetting of the battery components.\", \"Patent: An electrode, comprising 4, LiTi.sub.2C.sub.3, Li.sub.xSn, and Li.sub.xSb, the lithium active material composition being completely coated with a lithium ion conducting passivating material having a transference number of from 0.7 to 1.0, the lithium ion conducting passivating material coating being from 1 to 100 nm thick\\n<br>Top Sci Sent: The open circuit potential and SEM data show that the reactivity of the lithiated battery-grade graphite and the carbon fiber can be related to the density of edge/defect sites on the surfaces.\", \"Patent: An electrolyte for use in an electrochemical cell, the electrolyte comprising and lithium oxalate\\n<br>Top Sci Sent: In addition, we have explored the use of novel electrolyte additives, namely lithium oxalate and lithium tetraborate.\", \"Patent: An electrolyte for use in an electrochemical cell, the electrolyte comprising 40-70% by volume a linear ester\\n<br>Top Sci Sent: In the present work, we have evaluated the use of a number of additives, namely vinylene carbonate (VC), dimethyl acetamide (DMAc), and mono-fluoroethylene carbonate (FEC), in an electrolyte solution anticipated to perform well at warm temperature (i.e., 1.0M LiPF6 in EC+EMC (50:50 v/v %).\", \"Patent: A method of forming a polymer coating layer within a lithium ion battery, the polymer coating layer comprising a transition metal chelating polymer material, the method comprising replacing a functional group attached to a polymer with the transition metal cation trap, thereby forming the transition metal chelating polymer material having the polymer with a pendant transition metal cation trap comprising the siderophore\\n<br>Top Sci Sent: The separator is made by embedding the poly(ethylene-alternate-maleic acid) dilithium salt polymer into a poly(vinylidene fluoride-hexafluoropropylene) copolymer matrix.\", \"Patent: A structurally inhomogeneous lithium metal oxide material of Formula (I): 1\\n<br>Top Sci Sent: Identification of LiNi0.5Mn1.5O4 spinel in layered manganese enriched electrode materialsWe report the synthesis and characterization of the composite materials Li1 + x(Ni0.25Mn0.75)O2.25 + x/2 and Li1 + x(Ni0.25Co0.125Mn0.625)O 2.19 + x/2 (x = 0.25, 0.375, 0.5, and 0.625) via a solid-state reaction.\", \"Patent: A cable-type secondary battery extending in a lengthwise direction, the cable-type secondary battery comprising a separation layer formed around an outer surface of the inner electrode to prevent a short circuit in electrodes\\n<br>Top Sci Sent: The hollow-spiral (helical) multi-helix anode architecture is critical to the robustness under mechanical stress and facilitates electrolyte wetting of the battery components.\", \"Patent: An electrolyte for use in an electrochemical cell, the electrolyte comprising a lithium salt in a concentration from 0.5 M to 1.5 M\\n<br>Top Sci Sent: In the present work, we have evaluated the use of a number of additives, namely vinylene carbonate (VC), dimethyl acetamide (DMAc), and mono-fluoroethylene carbonate (FEC), in an electrolyte solution anticipated to perform well at warm temperature (i.e., 1.0M LiPF6 in EC+EMC (50:50 v/v %).\", \"Patent: A cable-type secondary battery extending in a lengthwise direction, the cable-type secondary battery comprising and a packaging formed around an outer surface of the outer electrode, and comprising a metal foil layer, a first polymer resin layer formed on one surface of the metal foil layer, and a mechanical support layer formed on the other surface of the metal foil layer, wherein the support layer of the outer electrode and the first polymer resin layer of the packaging are formed of a same material, and attached to one another.\\n<br>Top Sci Sent: The hollow-spiral (helical) multi-helix anode architecture is critical to the robustness under mechanical stress and facilitates electrolyte wetting of the battery components.\", \"Patent: An electrolyte for use in an electrochemical cell, the electrolyte comprising a mixture of: 15-30% by volume a cyclic carbonate, wherein the cyclic carbonate is a non-fluorinated cyclic carbonate\\n<br>Top Sci Sent: In the present work, we have evaluated the use of a number of additives, namely vinylene carbonate (VC), dimethyl acetamide (DMAc), and mono-fluoroethylene carbonate (FEC), in an electrolyte solution anticipated to perform well at warm temperature (i.e., 1.0M LiPF6 in EC+EMC (50:50 v/v %).\", \"Patent: A particulate electrode material for use in forming a battery electrode, comprising x&lt\\n<br>Top Sci Sent: Both methods allow for stoichometric control of Li-C ratio in battery-grade graphites and carbon fibers prior to formation of a solid electrolyte interphase.\", \"Patent: A battery, comprising and an electrolyte.\\n<br>Top Sci Sent: Here we are able to visualize the detailed structure of the SEI that forms locally at the electrode/electrolyte interface during lithium intercalation into natural graphite from an organic Li-ion battery electrolyte.\", \"Patent: A lithium ion battery, comprising a positive electrode\\n<br>Top Sci Sent: Multifunctional Manganese Ions Trapping and Hydrofluoric Acid Scavenging Separator for Lithium Ion Batteries Based on Poly(ethylene-alternate-maleic acid) Dilithium SaltManganese dissolution from positive electrodes seriously reduces the life of Li-ion batteries, due to its detrimental impact on the passivation of negative electrodes.\", \"Patent: A method of manufacturing a battery electrode composition, comprising providing one or more planar substrate backbones having the curved geometrical structure\\n<br>Top Sci Sent: Herein, we show for the first time that pure poly(acrylic acid) (PAA), possessing certain mechanical properties comparable to those of CMC but containing a higher concentration of carboxylic functional groups, may offer superior performance as a binder for Si anodes.\", \"Patent: A battery, comprising 4, LiTi.sub.2C.sub.3, Li.sub.xSn, and Li.sub.xSb, the particulate lithium active material composition being completely coated with a lithium ion conducting passivating material having a transference number of from 0.7 to 1.0, the lithium ion conducting passivating material coating being from 1 to 100 nm thick, the anode further comprising a binder and a current collector\\n<br>Top Sci Sent: The open circuit potential and SEM data show that the reactivity of the lithiated battery-grade graphite and the carbon fiber can be related to the density of edge/defect sites on the surfaces.\", \"Patent: A lithium ion battery, comprising and a transition metal cation trap comprising a siderophore, wherein the transition metal cation trap is tethered to a polymer to form a transition metal chelating polymer material which is deposited as a polymer coating layer onto i) one or more surfaces of any of the positive electrode or the negative electrode or ii) one or more surfaces of the microporous polymer separator, wherein the transition metal chelating polymer material traps and prevents migration of transition metal cations to and deposition thereof at or on the negative electrode, wherein the polymer is selected from the group consisting of polyurethanes, polycarbonates, polyesters, polyetheretherketones, polyethersulfones, polyimides, polyamide-imides, polyoxymethylene, polybutylene terephthalate, polyethylenenaphthenate, polybutene, acrylonitrile-butadiene styrene copolymers, polystyrene copolymers, polymethylmethacrylate, polysiloxane polymers, polybenzimidazole, polybenzoxazole, polyphenylenes, polyarylene ether ketones, polyperfluorocyclobutanes, polytetrafluoroethylene, polyvinylfluoride, liquid crystalline polymers, polyaramides, polyphenylene oxide, and combinations thereof, and the siderophore is a naturally occurring derivative of 2,3-dihydroxybenzoic acid.\\n<br>Top Sci Sent: The separator is made by embedding the poly(ethylene-alternate-maleic acid) dilithium salt polymer into a poly(vinylidene fluoride-hexafluoropropylene) copolymer matrix.\", \"Patent: A method of preparing a positive active material for a rechargeable lithium battery, the method comprising mixing a Co raw material having a particle diameter (D50) of about 10 .mu.m to about 20 .mu.m and a Li raw material to obtain a mixture\\n<br>Top Sci Sent: Characterization of spinel LixCo2O4-coated LiCoO2 prepared with post-thermal treatment as a cathode material for lithium ion batteriesBoth the origin and mechanism of the improvement in the electrochemical performances of post-thermal treated LiCoO2 as a cathode material for lithium ion batteries are investigated through high-quality characterization.\", \"Patent: A structurally inhomogeneous lithium metal oxide material of Formula (I): 0&lt\\n<br>Top Sci Sent: Identification of LiNi0.5Mn1.5O4 spinel in layered manganese enriched electrode materialsWe report the synthesis and characterization of the composite materials Li1 + x(Ni0.25Mn0.75)O2.25 + x/2 and Li1 + x(Ni0.25Co0.125Mn0.625)O 2.19 + x/2 (x = 0.25, 0.375, 0.5, and 0.625) via a solid-state reaction.\", \"Patent: An electrode, comprising x&lt\\n<br>Top Sci Sent: Preliminary results of spontaneous delithiation of Li-graphite in electrolyte are also given.\", \"Patent: A structurally inhomogeneous lithium metal oxide material of Formula (I): and wherein the Li.sub.1+d M''.sub.2-dO.sub.4 component comprises a spinel structure, and each of the Li.sub.2MO.sub.3 and the LiM'O.sub.2 components thereof comprise layered structures\\n<br>Top Sci Sent: In this paper, we report the preparation and electrochemical characterization of three-component 'layered-layered-spinel' electrodes, synthesized by lowering the lithium content of a parent 'layered-layered' 0.3Li2MnO3\\u20220.7LiMn 0.5Ni0.5O2 material while maintaining a Mn:Ni ratio of 0.65:0.35; such compounds can be designated generically by the system, LixMn0.65Ni0.35Oy, for which the end members are 0.3Li2MnO3\\u20220.7LiMn0.5Ni 0.5O2 (x = 1.3; y = 2.3), in which the average manganese and nickel oxidation states are 4+ and 2+, respectively, and LiMn 1.3Ni0.7O4 (x = 0.5; y = 2) in which the corresponding average oxidation states are expected to lie between 4+ and 3.77+ for Mn, and 2.57+ and 3+ for Ni, respectively.\", \"Patent: An electrode, comprising and, a binder for binding the electrode material together to form a lithiated and pre-passivated electrode.\\n<br>Top Sci Sent: Here we are able to visualize the detailed structure of the SEI that forms locally at the electrode/electrolyte interface during lithium intercalation into natural graphite from an organic Li-ion battery electrolyte.\", \"Patent: A method to decrease the interfacial resistance between an electrode and an electrolyte composition in a battery or in a capacitor comprising and wherein R.sup.3 is an aryl group or an alkylene-aryl group.\\n<br>Top Sci Sent: Lithium polymer cell assembled by in situ chemical cross-linking of ionic liquid electrolyte with phosphazene-based cross-linking agentIonic liquid-based cross-linked gel polymer electrolytes were prepared with a phosphazene-based cross-linking agent, and their electrochemical properties were investigated.\", \"Patent: A battery, comprising a cathode\\n<br>Top Sci Sent: Direct visualization of solid electrolyte interphase formation in lithium-ion batteries with in situ electrochemical transmission electron microscopyComplex, electrochemically driven transport processes form the basis of electrochemical energy storage devices.\", \"Patent: A battery, comprising x&lt\\n<br>Top Sci Sent: Preliminary results of spontaneous delithiation of Li-graphite in electrolyte are also given.\", \"Patent: A battery, comprising an anode, the anode comprising an electrochemically active material comprising a ternary alloy of tin (Sn), germanium (Ge), and antimony (Sb)\\n<br>Top Sci Sent: Anodes for sodium ion batteries based on tin-germanium-Antimony alloysHere we provide the first report on several compositions of ternary Sn-Ge-Sb thin film alloys for application as sodium ion battery (aka NIB, NaB or SIB) anodes, employing Sn50Ge50, Sb50Ge50, and pure Sn, Ge, Sb as baselines.\", \"Patent: A cable-type secondary battery extending in a lengthwise direction, the cable-type secondary battery comprising and a packaging formed around an outer surface of the outer electrode, and comprising a metal foil layer, a first polymer resin layer formed on one surface of the metal foil layer, and a mechanical support layer formed on the other surface of the metal foil layer, wherein the second support layer of the outer electrode and the first polymer resin layer of the packaging are formed of a same material, and attached to one another.\\n<br>Top Sci Sent: The hollow-spiral (helical) multi-helix anode architecture is critical to the robustness under mechanical stress and facilitates electrolyte wetting of the battery components.\", \"Patent: A cable-type secondary battery extending in a lengthwise direction, the cable-type secondary battery comprising a sheet-type outer electrode formed such that it is wound around an outer surface of the separation layer, and comprising an outer current collector, an outer electrode active material layer formed on one surface of the outer current collector, a conductive layer formed on an upper surface of the outer electrode active material layer and comprising a conductive material and a binder, a porous first support layer formed on an upper surface of the conductive layer, and a second support layer formed on the other surface of the outer current collector\\n<br>Top Sci Sent: The hollow-spiral (helical) multi-helix anode architecture is critical to the robustness under mechanical stress and facilitates electrolyte wetting of the battery components.\", \"Patent: A method of forming a polymer coating layer within a lithium ion battery, the polymer coating layer comprising a transition metal chelating polymer material, the method comprising and depositing the transition metal chelating polymer material onto one or more surfaces of either of a positive electrode or a negative electrode of the lithium ion battery, or onto one or more surfaces of a microporous polymer separator of the lithium ion battery to form the polymer coating layer that traps the transition metal cations and reduces or prevents migration thereof, wherein the polymer is selected from the group consisting of polyurethanes, polycarbonates, polyesters, polyetheretherketones, polyethersulfones, polyimides, polyamide-imides, polyoxymethylene, polybutylene terephthalate, polyethylenenaphthenate, polybutene, acrylonitrile-butadiene styrene copolymers, polystyrene copolymers, polymethylmethacrylate, polysiloxane polymers, polybenzimidazole, polybenzoxazole, polyphenylenes, polyarylene ether ketones, polyperfluorocyclobutanes, polytetrafluoroethylene, polyvinylfluoride, liquid crystalline polymers, polyaramides, polyphenylene oxide, and combinations thereof, and the siderophore is a naturally occurring derivative of 2,3-dihydroxybenzoic acid or is selected from the group consisting of bacillibactin, yersiniabactin, vibriobactin, azotobactin, ornibactin, and erythrobactin.\\n<br>Top Sci Sent: The separator is made by embedding the poly(ethylene-alternate-maleic acid) dilithium salt polymer into a poly(vinylidene fluoride-hexafluoropropylene) copolymer matrix.\", \"Patent: A lithium ion battery, comprising a negative electrode\\n<br>Top Sci Sent: Multifunctional Manganese Ions Trapping and Hydrofluoric Acid Scavenging Separator for Lithium Ion Batteries Based on Poly(ethylene-alternate-maleic acid) Dilithium SaltManganese dissolution from positive electrodes seriously reduces the life of Li-ion batteries, due to its detrimental impact on the passivation of negative electrodes.\", \"Patent: A method to decrease the interfacial resistance between an electrode and an electrolyte composition in a battery or in a capacitor comprising incorporating into the electrolyte composition a compound of general formula (I): R.sup.1R.sup.2CF--O--C(O)--O--R.sup.3 (I) wherein R.sup.1 and R.sup.2 are independently H, F, alkyl, cycloalkyl, alkylene-aryl, or alkylene-heteroaryl\\n<br>Top Sci Sent: Lithium polymer cell assembled by in situ chemical cross-linking of ionic liquid electrolyte with phosphazene-based cross-linking agentIonic liquid-based cross-linked gel polymer electrolytes were prepared with a phosphazene-based cross-linking agent, and their electrochemical properties were investigated.\", \"Patent: A cable-type secondary battery extending in a lengthwise direction, the cable-type secondary battery comprising a sheet-type outer electrode formed such that it is spirally wound around an outer surface of the separation layer, and comprising an outer current collector, an outer electrode active material layer formed on one surface of the outer current collector, and a support layer formed on the other surface of the outer current collector\\n<br>Top Sci Sent: The hollow-spiral (helical) multi-helix anode architecture is critical to the robustness under mechanical stress and facilitates electrolyte wetting of the battery components.\", \"Patent: An anode for a battery, comprising an electrochemically active material comprising a ternary alloy of tin (Sn), germanium (Ge), and antimony (Sb), the ternary alloy comprising a multiphase microstructure including an amorphous phase and nanocrystalline phase, each of the phases being ion active, the ternary alloy comprising SnxGeySbz, where x+y+z=100, and x.gtoreq.y or x.gtoreq.z, and the anode having a charge storage capacity that exceeds a rule of mixture capacity of individual elements tin (Sn), germanium (Ge), and antimony (Sb) comprising said anode.\\n<br>Top Sci Sent: Anodes for sodium ion batteries based on tin-germanium-Antimony alloysHere we provide the first report on several compositions of ternary Sn-Ge-Sb thin film alloys for application as sodium ion battery (aka NIB, NaB or SIB) anodes, employing Sn50Ge50, Sb50Ge50, and pure Sn, Ge, Sb as baselines.\", \"Patent: A method of forming a polymer coating layer within a lithium ion battery, the polymer coating layer comprising a transition metal chelating polymer material, the method comprising forming a transition metal cation trap for trapping transition metal cations comprising a siderophore\\n<br>Top Sci Sent: Multifunctional Manganese Ions Trapping and Hydrofluoric Acid Scavenging Separator for Lithium Ion Batteries Based on Poly(ethylene-alternate-maleic acid) Dilithium SaltManganese dissolution from positive electrodes seriously reduces the life of Li-ion batteries, due to its detrimental impact on the passivation of negative electrodes.\", \"Patent: A method of manufacturing a battery electrode composition, comprising selecting a curvature for a curved geometrical structure of one or more planar substrate backbones based upon a volume expansion characteristic of an active material\\n<br>Top Sci Sent: Herein, we show for the first time that pure poly(acrylic acid) (PAA), possessing certain mechanical properties comparable to those of CMC but containing a higher concentration of carboxylic functional groups, may offer superior performance as a binder for Si anodes.\", \"Patent: A lithium ion battery, comprising a negative electrode\\n<br>Top Sci Sent: Multifunctional Manganese Ions Trapping and Hydrofluoric Acid Scavenging Separator for Lithium Ion Batteries Based on Poly(ethylene-alternate-maleic acid) Dilithium SaltManganese dissolution from positive electrodes seriously reduces the life of Li-ion batteries, due to its detrimental impact on the passivation of negative electrodes.\", \"Patent: 1. A battery which comprises a cathode, an anode, and an electrolyte composition, having a nominal voltage of more than 3.7 V and no more than 4.7 V, wherein the electrolyte composition comprises at least one solvent, at least one conductive salt, and a compound of general formula (I), R.sup.1R.sup.2CF--O--C(O)--O--R.sup.3 (I) wherein R.sup.1 and R.sup.2 are independently H, F, alkyl, cycloalkyl, alkylene-aryl, or alkylene-heteroaryl; and wherein R.sup.3 is an aryl group or an alkylene-aryl group.\\n<br>Top Sci Sent: Lithium polymer cell assembled by in situ chemical cross-linking of ionic liquid electrolyte with phosphazene-based cross-linking agentIonic liquid-based cross-linked gel polymer electrolytes were prepared with a phosphazene-based cross-linking agent, and their electrochemical properties were investigated.\", \"Patent: A battery, comprising a cathode\\n<br>Top Sci Sent: A survey of published literature indicates that 833 mAhg-1 is among the highest reversible capacities reported for a Sn-based NIB anode, while 381 mAhg-1 represents the optimum fast charge value.\", \"Patent: A cable-type secondary battery extending in a lengthwise direction, the cable-type secondary battery comprising and a packaging formed around an outer surface of the outer electrode, and comprising a metal foil layer, a first polymer resin layer formed on one surface of the metal foil layer, and a mechanical support layer formed on the other surface of the metal foil layer, wherein the second support layer of the outer electrode and the first polymer resin layer of the packaging are formed of a same material, and attached to one another.\\n<br>Top Sci Sent: The hollow-spiral (helical) multi-helix anode architecture is critical to the robustness under mechanical stress and facilitates electrolyte wetting of the battery components.\", \"Patent: A lithium ion battery, comprising a positive electrode\\n<br>Top Sci Sent: Multifunctional Manganese Ions Trapping and Hydrofluoric Acid Scavenging Separator for Lithium Ion Batteries Based on Poly(ethylene-alternate-maleic acid) Dilithium SaltManganese dissolution from positive electrodes seriously reduces the life of Li-ion batteries, due to its detrimental impact on the passivation of negative electrodes.\", \"Patent: A cable-type secondary battery extending in a lengthwise direction, the cable-type secondary battery comprising a separation layer formed around outer surfaces of the inner electrodes together to prevent a short circuit in electrodes\\n<br>Top Sci Sent: The hollow-spiral (helical) multi-helix anode architecture is critical to the robustness under mechanical stress and facilitates electrolyte wetting of the battery components.\", \"Patent: A cable-type secondary battery extending in a lengthwise direction, the cable-type secondary battery comprising an inner electrode\\n<br>Top Sci Sent: Cable-type flexible lithium ion battery based on hollow multi-helix electrodesThe mechanical flexibility of a cable-type battery reaches levels far beyond what is possible with conventional designs.\", \"Patent: An anode for a battery, comprising an electrochemically active material comprising a ternary alloy of tin (Sn), germanium (Ge), and antimony (Sb), wherein the alloy comprises a multiphase microstructure including an amorphous phase and nanocrystalline phase, each of the phases being ion active.\\n<br>Top Sci Sent: Anodes for sodium ion batteries based on tin-germanium-Antimony alloysHere we provide the first report on several compositions of ternary Sn-Ge-Sb thin film alloys for application as sodium ion battery (aka NIB, NaB or SIB) anodes, employing Sn50Ge50, Sb50Ge50, and pure Sn, Ge, Sb as baselines.\", \"Patent: A cable-type secondary battery extending in a lengthwise direction, the cable-type secondary battery comprising a separation layer formed around an outer surface of the inner electrode to prevent a short circuit in electrodes\\n<br>Top Sci Sent: The hollow-spiral (helical) multi-helix anode architecture is critical to the robustness under mechanical stress and facilitates electrolyte wetting of the battery components.\", \"Patent: A battery, comprising and an electrolyte.\\n<br>Top Sci Sent: A survey of published literature indicates that 833 mAhg-1 is among the highest reversible capacities reported for a Sn-based NIB anode, while 381 mAhg-1 represents the optimum fast charge value.\", \"Patent: A battery, comprising a lithiated and pre-passivated anode comprising a particulate electrode material, comprising a particulate lithium active material composition, wherein the lithium active material composition comprises at least one selected from the group consisting of LiC.sub.6, LiC.sub.12, LiC.sub.18, LiC.sub.3N.sub.4, Li.sub.xSi where 0&lt\\n<br>Top Sci Sent: Here we are able to visualize the detailed structure of the SEI that forms locally at the electrode/electrolyte interface during lithium intercalation into natural graphite from an organic Li-ion battery electrolyte.\", \"Patent: A lithium ion battery, comprising a microporous polymer separator soaked in an electrolyte solution, the microporous polymer separator disposed between the positive electrode and the negative electrode\\n<br>Top Sci Sent: Multifunctional Manganese Ions Trapping and Hydrofluoric Acid Scavenging Separator for Lithium Ion Batteries Based on Poly(ethylene-alternate-maleic acid) Dilithium SaltManganese dissolution from positive electrodes seriously reduces the life of Li-ion batteries, due to its detrimental impact on the passivation of negative electrodes.\", \"Patent: A structurally inhomogeneous lithium metal oxide material of Formula (I): (I) wherein: 0.ltoreq.x.ltoreq.1\\n<br>Top Sci Sent: Identification of LiNi0.5Mn1.5O4 spinel in layered manganese enriched electrode materialsWe report the synthesis and characterization of the composite materials Li1 + x(Ni0.25Mn0.75)O2.25 + x/2 and Li1 + x(Ni0.25Co0.125Mn0.625)O 2.19 + x/2 (x = 0.25, 0.375, 0.5, and 0.625) via a solid-state reaction.\", \"Patent: A method of preparing a positive active material for a rechargeable lithium battery, the method comprising and heat-treating the mixture, wherein the heat-treating includes firing the mixture at a first temperature, and, after the firing, maintaining a resultant for a predetermined time at a second temperature lower than the first temperature such that a LiCoO.sub.2 particle is provided wherein an interior of the particle has a layered structure and a surface of the particle has a spinel structure.\\n<br>Top Sci Sent: The slow quenching allows the two phases of LiCoO2 and LixCo2O4 to intermix, whereas the post-thermal treatment at 800\\u00b0C results in the separation of the spinel phase at the surface of LiCoO2.\", \"Patent: A cable-type secondary battery extending in a lengthwise direction, the cable-type secondary battery comprising an inner electrode comprising at least one wire-type inner current collector wound around an outer surface of the lithium ion supplying core, and an inner electrode active material layer formed on a surface of the wire-type inner current collector\\n<br>Top Sci Sent: The hollow-spiral (helical) multi-helix anode architecture is critical to the robustness under mechanical stress and facilitates electrolyte wetting of the battery components.\", \"Patent: A lithium ion battery, comprising a microporous polymer separator soaked in an electrolyte solution, the microporous polymer separator disposed between the positive electrode and the negative electrode\\n<br>Top Sci Sent: Multifunctional Manganese Ions Trapping and Hydrofluoric Acid Scavenging Separator for Lithium Ion Batteries Based on Poly(ethylene-alternate-maleic acid) Dilithium SaltManganese dissolution from positive electrodes seriously reduces the life of Li-ion batteries, due to its detrimental impact on the passivation of negative electrodes.\", \"Patent: A structurally inhomogeneous lithium metal oxide material of Formula (I): M, M', and M'' each independently comprises one or more multivalent metal ions\\n<br>Top Sci Sent: The technique can be used to prepare a wide variety of composite compounds, in particular, a new family of 'layered-rocksalt' xLi2MnO3\\u2022(1-x)MO (e.g., M = Ni and Co) structures and modifications thereof, as well as 'layered-layered' xLi2MnO3\\u2022(1-x)LiMO2 (e.g., M = Mn, Ni, and Co) and 'layered-spinel' xLi2MnO3\\u2022(1-x)LiM 2O4 (e.g., M = Mn and Ni).\", \"Patent: A method of manufacturing a battery electrode composition, comprising at least partially encasing each substrate backbone with a non-porous, continuous or substantially continuous active material film that includes the active material to form one or more composite material nanocomposites having a curved planar geometry, wherein the film has an average thickness on either side of the substrate backbone in the range of 1.4 nm to 200 nm, and wherein the active material stores metal ions within the film and is subject to volume changes greater than about 5% upon insertion or extraction of the metal ions\\n<br>Top Sci Sent: The carbon-coated Si nanopowder anodes, tested between 0.01 and 1 V vs Li/Li+ and containing as little as 15 wt % of PAA, showed excellent stability during the first hundred cycles.\", \"Patent: A structurally inhomogeneous lithium metal oxide material of Formula (I): y&lt\\n<br>Top Sci Sent: Identification of LiNi0.5Mn1.5O4 spinel in layered manganese enriched electrode materialsWe report the synthesis and characterization of the composite materials Li1 + x(Ni0.25Mn0.75)O2.25 + x/2 and Li1 + x(Ni0.25Co0.125Mn0.625)O 2.19 + x/2 (x = 0.25, 0.375, 0.5, and 0.625) via a solid-state reaction.\", \"Patent: A particulate electrode material for use in forming a battery electrode, comprising a particulate lithium active material composition, the particulate lithium active material composition comprising the reaction product of lithium and an particulate active anode material, the lithium active material comprising at least one selected from the group consisting of LiC.sub.6, LiC.sub.12, LiC.sub.18, LiC.sub.3N.sub.4, Li.sub.xSi where 0&lt\\n<br>Top Sci Sent: Here we are able to visualize the detailed structure of the SEI that forms locally at the electrode/electrolyte interface during lithium intercalation into natural graphite from an organic Li-ion battery electrolyte.\", \"Patent: A method of manufacturing a battery electrode composition, comprising and aggregating the nanocomposites into a three-dimensional, electrically-interconnected agglomeration that includes internal pores between the nanocomposities that are left vacant and have a total porosity in the three-dimensional agglomeration that is defined by the curvatures of the nanocomposites of the plurality of electrically-interconnected nanocomposites so as to be sufficient to accommodate the volume changes in the active material that are greater than about 5% upon insertion or extraction of the metal.\\n<br>Top Sci Sent: However, the formation of stable Si anodes is a challenge because of significant volume changes occuring during their electrochemical alloying and dealloying with Li.\", \"Patent: A battery electrode composition, comprising a composite material comprising one or more nanocomposites, wherein the one or more nanocomposites each have a curved planar geometry and comprise: a planar substrate backbone having a curved geometrical structure with a curvature that is selected based upon a volume expansion characteristic of the active material, and an active material forming a non-porous, continuous or substantially continuous film at least partially encasing the substrate backbone, wherein the film has an average thickness on either side of the substrate backbone in the range of 1.4 nm to 200 nm, and wherein the active material stores metal ions within the film and is subject to volume changes greater than about 5% upon insertion or extraction of the metal ions, wherein the one or more nanocomposites comprise a plurality of electrically-interconnected nanocomposites aggregated into a three-dimensional agglomeration, wherein the three-dimensional agglomeration comprises internal pores that are left vacant and have a total porosity in the three-dimensional agglomeration that is defined by the curvatures of the planar substrate backbones of the plurality of electrically-interconnected nanocomposites so as to be sufficient to accommodate the volume changes in the active material that are greater than about 5% upon insertion or extraction of the metal ions.\\n<br>Top Sci Sent: Herein, we show for the first time that pure poly(acrylic acid) (PAA), possessing certain mechanical properties comparable to those of CMC but containing a higher concentration of carboxylic functional groups, may offer superior performance as a binder for Si anodes.\", \"Patent: A particulate electrode material for use in forming a battery electrode, comprising 4, LiTi.sub.2C.sub.3, Li.sub.xSn, and Li.sub.xSb, the particulate lithium active material composition being completely coated with a lithium ion conducting passivating material having a transference number of from 0.7 to 1.0, the lithium ion conducting passivating material coating being from 1 to 100 nm thick, wherein the particulate electrode material is lithiated and pre-passivated.\\n<br>Top Sci Sent: The open circuit potential and SEM data show that the reactivity of the lithiated battery-grade graphite and the carbon fiber can be related to the density of edge/defect sites on the surfaces.\", \"Patent: An electrolyte for use in an electrochemical cell, the electrolyte comprising wherein the cyclic carbonate, the non-cyclic carbonate and the linear ester are present in a combined total volume of 100 vol % and the lithium oxalate is present at a concentration selected over the range of 0.05 M to 0.25 M.\\n<br>Top Sci Sent: In the present work, we have evaluated the use of a number of additives, namely vinylene carbonate (VC), dimethyl acetamide (DMAc), and mono-fluoroethylene carbonate (FEC), in an electrolyte solution anticipated to perform well at warm temperature (i.e., 1.0M LiPF6 in EC+EMC (50:50 v/v %).\", \"Patent: An electrolyte composition, comprising at least one solvent, at least one conductive salt, at least one compound selected from the group consisting of fluorinated ethylene carbonates and vinylene carbonate, and at least one compound of general formula (I): R.sup.1R.sup.2CF--O--C(O)--O--R.sup.3 (I) wherein R.sup.1 and R.sup.2 are independently H, F, alkyl, cycloalkyl, alkylene-aryl, or alkylene-heteroaryl\\n<br>Top Sci Sent: Lithium polymer cell assembled by in situ chemical cross-linking of ionic liquid electrolyte with phosphazene-based cross-linking agentIonic liquid-based cross-linked gel polymer electrolytes were prepared with a phosphazene-based cross-linking agent, and their electrochemical properties were investigated.\", \"Patent: A cable-type secondary battery extending in a lengthwise direction, the cable-type secondary battery comprising at least two lithium ion supplying cores comprising an electrolyte\\n<br>Top Sci Sent: Cable-type flexible lithium ion battery based on hollow multi-helix electrodesThe mechanical flexibility of a cable-type battery reaches levels far beyond what is possible with conventional designs.\", \"Patent: A battery, comprising a separator\\n<br>Top Sci Sent: Here we are able to visualize the detailed structure of the SEI that forms locally at the electrode/electrolyte interface during lithium intercalation into natural graphite from an organic Li-ion battery electrolyte.\", \"Patent: A structurally inhomogeneous lithium metal oxide material of Formula (I): and wherein the material of Formula (I) differs by at least one of x, y, d, M, M' and M'' from the surface to the interior across particles of the material.\\n<br>Top Sci Sent: In this paper, we report the preparation and electrochemical characterization of three-component 'layered-layered-spinel' electrodes, synthesized by lowering the lithium content of a parent 'layered-layered' 0.3Li2MnO3\\u20220.7LiMn 0.5Ni0.5O2 material while maintaining a Mn:Ni ratio of 0.65:0.35; such compounds can be designated generically by the system, LixMn0.65Ni0.35Oy, for which the end members are 0.3Li2MnO3\\u20220.7LiMn0.5Ni 0.5O2 (x = 1.3; y = 2.3), in which the average manganese and nickel oxidation states are 4+ and 2+, respectively, and LiMn 1.3Ni0.7O4 (x = 0.5; y = 2) in which the corresponding average oxidation states are expected to lie between 4+ and 3.77+ for Mn, and 2.57+ and 3+ for Ni, respectively.\", \"Patent: A battery, comprising a separator\\n<br>Top Sci Sent: A survey of published literature indicates that 833 mAhg-1 is among the highest reversible capacities reported for a Sn-based NIB anode, while 381 mAhg-1 represents the optimum fast charge value.\", \"Patent: A cable-type secondary battery extending in a lengthwise direction, the cable-type secondary battery comprising a sheet-type outer electrode formed such that it is wound around an outer surface of the separation layer, and comprising an outer current collector, an outer electrode active material layer formed on one surface of the outer current collector, a conductive layer formed on an upper surface of the outer electrode active material layer and comprising a conductive material and a binder, a porous first support layer formed on an upper surface of the conductive layer, and a second support layer formed on the other surface of the outer current collector\\n<br>Top Sci Sent: The hollow-spiral (helical) multi-helix anode architecture is critical to the robustness under mechanical stress and facilitates electrolyte wetting of the battery components.\", \"Patent: An electrode, comprising a particulate electrode material, comprising a particulate lithium active material composition, wherein the lithium active material composition comprises at least one selected from the group consisting of LiC.sub.6, LiC.sub.12, LiC.sub.18, LiC.sub.3N.sub.4, Li.sub.xSi where 0&lt\\n<br>Top Sci Sent: Here we are able to visualize the detailed structure of the SEI that forms locally at the electrode/electrolyte interface during lithium intercalation into natural graphite from an organic Li-ion battery electrolyte.\", \"Patent: A cable-type secondary battery extending in a lengthwise direction, the cable-type secondary battery comprising a lithium ion supplying core comprising an electrolyte\\n<br>Top Sci Sent: Cable-type flexible lithium ion battery based on hollow multi-helix electrodesThe mechanical flexibility of a cable-type battery reaches levels far beyond what is possible with conventional designs.\", \"Patent: An inorganic material surface-mediated, lithium ion-exchanging cell (SMC) comprising (d) A lithium-containing electrolyte in physical contact with the two electrodes, wherein said cathode has a specific surface area no less than 100 m.sup.2/g which is in direct physical contact with said electrolyte to receive lithium ions therefrom or to provide lithium ions thereto\\n<br>Top Sci Sent: In both electrodes, massive graphene surfaces in direct contact with liquid electrolyte are capable of rapidly and reversibly capturing lithium ions through surface adsorption and/or surface redox reaction.\", \"Patent: A hydrogen-based electrochemical storage device, comprising a counter electrode comprising an exchange matrix for elements selected from the group consisting of non-noble elements with an affinity for hydrogen\\n<br>Top Sci Sent: Finally, the first room temperature electron spin resonance spectrum of a nanotube radical ion is also reported.\", \"Patent: A lithium-ion cell comprising and said anode active material is mixed with a conductive filler and a binder to form a porous electrode\\n<br>Top Sci Sent: This approach is based on the exchange of lithium ions between the surfaces (not the bulk) of two nanostructured electrodes, completely obviating the need for lithium intercalation or deintercalation.\", \"Patent: A lithium-ion cell comprising (d) A lithium-containing electrolyte in ionic contact with the anode and the cathode\\n<br>Top Sci Sent: This approach is based on the exchange of lithium ions between the surfaces (not the bulk) of two nanostructured electrodes, completely obviating the need for lithium intercalation or deintercalation.\", \"Patent: A positive active material, comprising and a coating material comprising a fluorine-bonded carbon nanostructure comprising a fluorine-bonded carbon nanotube comprising a carbon-fluorine (C--F) bond, wherein the coating material is directly on a surface of the lithium-containing compound of the core particle.\\n<br>Top Sci Sent: Effect of oxyfluorinated multi-walled carbon nanotube additives on positive temperature coefficient/negative temperature coefficient behavior in high-density polyethylene polymeric switchesMulti-walled carbon nanotubes (MWCNTs) were embedded into high-density polyethylene (HDPE) to improve the electrical properties of HDPE polymeric switches.\", \"Patent: A lithium-ion cell comprising (a) A positive electrode (cathode) comprising a carbon or graphitic material selected from graphite worms, exfoliated graphite flakes, expanded graphite, chemically treated graphite with an inter-graphene planar separation no less than 0.4 nm, chemically etched or expanded soft carbon, chemically etched or expanded hard carbon, exfoliated activated carbon, chemically etched or expanded carbon black, chemically expanded multi-walled carbon nano-tube having a diameter from 1 to 100 nm, chemically expanded carbon nano-fiber having a diameter from 1 to 100 nm, or a combination thereof as the only cathode active material having a surface area to capture and store lithium thereon and wherein said cathode forms a meso-porous structure having a pore size in the range from 2 nm to 50 nm and a specific surface area greater than 50 m.sup.2/g\\n<br>Top Sci Sent: In both electrodes, massive graphene surfaces in direct contact with liquid electrolyte are capable of rapidly and reversibly capturing lithium ions through surface adsorption and/or surface redox reaction.\", \"Patent: A method of manufacturing a positive active material, the method comprising preparing a lithium-containing compound configured to reversibly intercalate and deintercalate lithium\\n<br>Top Sci Sent: The MWCNT surfaces were modified by oxyfluorination to improve their positive temperature coefficient (PTC) and negative temperature coefficient (NTC) behaviors in HDPE polymeric switches.\", \"Patent: An energy storage device, comprising a counter electrode\\n<br>Top Sci Sent: Finally, the first room temperature electron spin resonance spectrum of a nanotube radical ion is also reported.\", \"Patent: A lithium-ion cell comprising (b) A negative electrode (anode) comprising an anode active material having a lithium-storing capacity no less than 400 mAh/g, wherein said anode active material consisting of an intercalation compound is mixed with a conductive additive and/or a resin binder to form a porous electrode structure, or coated onto a current collector in a coating or thin film form, and wherein said anode active material is not pre-lithiated and is lithium-free when the cell is made\\n<br>Top Sci Sent: In both electrodes, massive graphene surfaces in direct contact with liquid electrolyte are capable of rapidly and reversibly capturing lithium ions through surface adsorption and/or surface redox reaction.\", \"Patent: A lithium-ion battery cell, comprising an anode having an anode active layer, comprising: a binder\\n<br>Top Sci Sent: Improved cyclic performance of si anodes for lithium-ion batteries by forming intermetallic interphases between si nanoparticles and metal microparticlesSilicon, an anode material with the highest capacity for lithium-ion batteries, needs to improve its cyclic performance prior to practical applications.\", \"Patent: An energy storage device, comprising and a membrane sandwiched between the cathode layer and the storage electrode that is adapted for conducting hydrogen ions between the layers.\\n<br>Top Sci Sent: Furthermore, the hydrogen desorbs at temperatures up to 400 \\u00b0C less than those observed for the hydrogenated SWNTs formed after the Birch reduction.\", \"Patent: A lithium-ion cell comprising (C) A porous separator disposed between the anode and the cathode\\n<br>Top Sci Sent: This approach is based on the exchange of lithium ions between the surfaces (not the bulk) of two nanostructured electrodes, completely obviating the need for lithium intercalation or deintercalation.\", \"Patent: A lithium-ion battery cell, comprising a conductive carbon\\n<br>Top Sci Sent: Improved cyclic performance of si anodes for lithium-ion batteries by forming intermetallic interphases between si nanoparticles and metal microparticlesSilicon, an anode material with the highest capacity for lithium-ion batteries, needs to improve its cyclic performance prior to practical applications.\", \"Patent: A method of manufacturing a positive active material, the method comprising and forming a coating layer directly on a surface of the lithium-containing compound, the coating layer comprising a coating material comprising a fluorine-bonded carbon nanostructure comprising a fluorine-bonded carbon nanotube comprising a carbon-fluorine (C--F) bond.\\n<br>Top Sci Sent: Effect of oxyfluorinated multi-walled carbon nanotube additives on positive temperature coefficient/negative temperature coefficient behavior in high-density polyethylene polymeric switchesMulti-walled carbon nanotubes (MWCNTs) were embedded into high-density polyethylene (HDPE) to improve the electrical properties of HDPE polymeric switches.\", \"Patent: A lithium-ion cell comprising (c) A porous separator disposed between the anode and the cathode\\n<br>Top Sci Sent: This approach is based on the exchange of lithium ions between the surfaces (not the bulk) of two nanostructured electrodes, completely obviating the need for lithium intercalation or deintercalation.\", \"Patent: A hydrogen-based electrochemical storage device, comprising a hydrogen storage electrode loaded with a hydrogen storage material, wherein hydrogen is retained in the hydrogen storage material via chemical bonding with less energy than provided in carbon-hydrogen bonding\\n<br>Top Sci Sent: Furthermore, the hydrogen desorbs at temperatures up to 400 \\u00b0C less than those observed for the hydrogenated SWNTs formed after the Birch reduction.\", \"Patent: An inorganic material surface-mediated, lithium ion-exchanging cell (SMC) comprising (c) A porous separator disposed between the anode and the cathode\\n<br>Top Sci Sent: This approach is based on the exchange of lithium ions between the surfaces (not the bulk) of two nanostructured electrodes, completely obviating the need for lithium intercalation or deintercalation.\", \"Patent: A lithium-ion battery cell, comprising and a plurality of hollow flower silicon structures having an oxygen content less than approximately 9%, wherein the interior surfaces of the plurality of hollow flower silicon structures are substantially free of carbon, and wherein each of the plurality of hollow flower silicon structures comprises a plurality of curled petals.\\n<br>Top Sci Sent: The morphology of Si is controllable from hollow cubes, spheres, and tubes, to flowers and other shapes.\", \"Patent: A lithium-ion cell comprising Zn, Al, Fe, Ti, Co, Ni, Mn, Cd, or a mixture or composite thereof, (d) a pre-lithiated salt or hydroxide of Sn\\n<br>Top Sci Sent: This approach is based on the exchange of lithium ions between the surfaces (not the bulk) of two nanostructured electrodes, completely obviating the need for lithium intercalation or deintercalation.\", \"Patent: An inorganic material surface-mediated, lithium ion-exchanging cell (SMC) comprising (a) A positive electrode (cathode) comprising a non-carbon-based inorganic cathode active material having a surface area to capture and store lithium thereon, wherein said non-carbon-based cathode active material consists of nano discs, nano platelets, or nano sheets of an inorganic material selected from: (A) bismuth selenide or bismuth telluride, (B) transition metal dichalcogenide or trichalcogenide, (C) sulfide, selenide, or telluride of niobium, zirconium, molybdenum, hafnium, tantalum, tungsten, titanium, cobalt, manganese, iron, nickel, or a transition metal\\n<br>Top Sci Sent: This approach is based on the exchange of lithium ions between the surfaces (not the bulk) of two nanostructured electrodes, completely obviating the need for lithium intercalation or deintercalation.\", \"Patent: An inorganic material surface-mediated, lithium ion-exchanging cell (SMC) comprising (a) A positive electrode (cathode) comprising a non-carbon-based inorganic cathode active material having a surface area to capture and store lithium thereon, wherein said non-carbon-based cathode active material consists of nano discs, nano platelets, or nano sheets of an inorganic material selected from LiCoO.sub.2, V.sub.2O.sub.5, V.sub.6O.sub.13, LiV.sub.3O.sub.8, LiNi.sub.1-yCo.sub.yO.sub.2, LiNi.sub.yMn.sub.yCo.sub.1-2yO.sub.2, MnO.sub.2, CoO.sub.2, NiO.sub.2, or MoO.sub.3, having a thickness less than 100 nm\\n<br>Top Sci Sent: In both electrodes, massive graphene surfaces in direct contact with liquid electrolyte are capable of rapidly and reversibly capturing lithium ions through surface adsorption and/or surface redox reaction.\", \"Patent: An energy storage device, comprising and an ion conducting membrane interposed between the counter electrode and the storage electrode.\\n<br>Top Sci Sent: Reactions and reversible hydrogenation of single-walled carbon nanotube anionsSingle-walled carbon nanotube (SWNT) radical anions will react with tetrahydrofuran and generate ethylene, enolates, and a partially hydrogenated nanotube backbone.\", \"Patent: A lithium-ion cell comprising or (e) a pre-lithiated carbon or graphite material, and wherein said anode active material is electrically connected directly to an anode current collector or is connected to an anode current collector through a binder and/or a conductive additive\\n<br>Top Sci Sent: This approach is based on the exchange of lithium ions between the surfaces (not the bulk) of two nanostructured electrodes, completely obviating the need for lithium intercalation or deintercalation.\", \"Patent: A lithium-ion cell comprising (b) a pre-lithiated alloy or intermetallic compound of Si, Ge, Sn, Pb, Sb, Bi, Zn, Al, Ti, Co, Ni, Mn, Cd, or a mixture thereof\\n<br>Top Sci Sent: This approach is based on the exchange of lithium ions between the surfaces (not the bulk) of two nanostructured electrodes, completely obviating the need for lithium intercalation or deintercalation.\", \"Patent: An inorganic material surface-mediated, lithium ion-exchanging cell (SMC) comprising (b) A negative electrode (anode) comprising an anode current collector alone or both an anode current collector and an anode active material having a surface area to capture or store lithium thereon\\n<br>Top Sci Sent: This approach is based on the exchange of lithium ions between the surfaces (not the bulk) of two nanostructured electrodes, completely obviating the need for lithium intercalation or deintercalation.\", \"Patent: A lithium-ion cell comprising (B) A negative electrode (anode) comprising an anode active material for inserting and extracting lithium during a charge and discharge of said cell, wherein the anode active material is a nano particle, nano disc, nano platelet, nano wire, nano-rod, nano belt, nano scroll, nano tube, nano filament, nano coating, or nano film, having a diameter or thickness from 0.1 to 100 nm, selected from: (a) a pre-lithiated silicon (Si), germanium (Ge), tin (Sn), lead (Pb), antimony (Sb), bismuth (Bi), zinc (Zn), aluminum (Al), titanium (Ti), cobalt (Co), nickel (Ni), manganese (Mn), cadmium (Cd), or a mixture thereof\\n<br>Top Sci Sent: This approach is based on the exchange of lithium ions between the surfaces (not the bulk) of two nanostructured electrodes, completely obviating the need for lithium intercalation or deintercalation.\", \"Patent: A lithium-ion cell comprising and (e) A lithium source disposed in at least one of the two electrodes when the cell is made.\\n<br>Top Sci Sent: This approach is based on the exchange of lithium ions between the surfaces (not the bulk) of two nanostructured electrodes, completely obviating the need for lithium intercalation or deintercalation.\", \"Patent: A hydrogen-based electrochemical storage device, comprising and a layer of ion conducting material interposed between the counter electrode and the storage electrode.\\n<br>Top Sci Sent: Reactions and reversible hydrogenation of single-walled carbon nanotube anionsSingle-walled carbon nanotube (SWNT) radical anions will react with tetrahydrofuran and generate ethylene, enolates, and a partially hydrogenated nanotube backbone.\", \"Patent: An inorganic material surface-mediated, lithium ion-exchanging cell (SMC) comprising (d) A lithium-containing electrolyte in physical contact with the two electrodes, wherein said cathode has a specific surface area no less than 100 m.sup.2/g which is in direct physical contact with said electrolyte to receive lithium ions therefrom or to provide lithium ions thereto\\n<br>Top Sci Sent: In both electrodes, massive graphene surfaces in direct contact with liquid electrolyte are capable of rapidly and reversibly capturing lithium ions through surface adsorption and/or surface redox reaction.\", \"Patent: A lithium-ion cell comprising and (D) A lithium-containing electrolyte in physical contact with the anode and the cathode.\\n<br>Top Sci Sent: This approach is based on the exchange of lithium ions between the surfaces (not the bulk) of two nanostructured electrodes, completely obviating the need for lithium intercalation or deintercalation.\", \"Patent: An inorganic material surface-mediated, lithium ion-exchanging cell (SMC) comprising wherein the cell is essentially intercalation free.\\n<br>Top Sci Sent: This approach is based on the exchange of lithium ions between the surfaces (not the bulk) of two nanostructured electrodes, completely obviating the need for lithium intercalation or deintercalation.\", \"Patent: A lithium-ion cell comprising (c) a pre-lithiated oxide, carbide, nitride, sulfide, phosphide, selenide, telluride, or antimonide of Si, Ge, Sn, Pb, Sb, Bi, Zn, Al, Fe, Co, Ni, Mn, Cd, or a mixture or composite thereof, or (d) a pre-lithiated salt or hydroxide of Sn\\n<br>Top Sci Sent: This approach is based on the exchange of lithium ions between the surfaces (not the bulk) of two nanostructured electrodes, completely obviating the need for lithium intercalation or deintercalation.\", \"Patent: A lithium-ion cell comprising (b) a pre-lithiated alloy or intermetallic compound of Si, Ge, Sn, Pb, Sb, Bi, Zn, Al, Ti, Co, Ni, Mn, Cd,or a mixture thereof\\n<br>Top Sci Sent: This approach is based on the exchange of lithium ions between the surfaces (not the bulk) of two nanostructured electrodes, completely obviating the need for lithium intercalation or deintercalation.\", \"Patent: A lithium-ion cell comprising (b) A negative electrode (anode) comprising an anode active material for inserting and extracting lithium during a charge and discharge of said cell, wherein said anode active material is selected from: (a) a pre-lithiated silicon (Si), germanium (Ge), tin (Sn), lead (Pb), antimony (Sb), bismuth (Bi), zinc (Zn), aluminum (Al), titanium (Ti), cobalt (Co), nickel (Ni), manganese (Mn), cadmium (Cd), or a mixture thereof\\n<br>Top Sci Sent: This approach is based on the exchange of lithium ions between the surfaces (not the bulk) of two nanostructured electrodes, completely obviating the need for lithium intercalation or deintercalation.\", \"Patent: An inorganic material surface-mediated, lithium ion-exchanging cell (SMC) comprising wherein the cell is essentially intercalation free.\\n<br>Top Sci Sent: This approach is based on the exchange of lithium ions between the surfaces (not the bulk) of two nanostructured electrodes, completely obviating the need for lithium intercalation or deintercalation.\", \"Patent: An energy storage device, comprising an anode layer comprising a low molecular weight hydrogen storage material including at least one elemental material with an atomic weight of less than about 20, whereby a quantity of hydrogen is stored in the hydrogen storage material with relatively low chemical bonding\\n<br>Top Sci Sent: The total gravimetric content of hydrogen on a sample averages from 3.5% to 3.9% w/w, about four times the total amount observed for nanotubes hydrogenated via traditional Birch reduction reactions.\", \"Patent: A lithium-ion cell comprising (c) a pre-lithiated oxide, carbide, nitride, sulfide, phosphide, selenide, telluride, or antimonide of Si, Ge, Sn, Pb, Sb, Bi\\n<br>Top Sci Sent: This approach is based on the exchange of lithium ions between the surfaces (not the bulk) of two nanostructured electrodes, completely obviating the need for lithium intercalation or deintercalation.\", \"Patent: An inorganic material surface-mediated, lithium ion-exchanging cell (SMC) comprising and (e) A lithium source disposed in at least one of the two electrodes or pre-lithiated into or onto said anode when the cell is made\\n<br>Top Sci Sent: This approach is based on the exchange of lithium ions between the surfaces (not the bulk) of two nanostructured electrodes, completely obviating the need for lithium intercalation or deintercalation.\", \"Patent: A lithium-ion cell comprising and (d) A lithium-containing electrolyte in physical contact with the two electrodes.\\n<br>Top Sci Sent: This approach is based on the exchange of lithium ions between the surfaces (not the bulk) of two nanostructured electrodes, completely obviating the need for lithium intercalation or deintercalation.\", \"Patent: A lithium-ion cell comprising (c) A porous separator disposed between the anode and the cathode\\n<br>Top Sci Sent: This approach is based on the exchange of lithium ions between the surfaces (not the bulk) of two nanostructured electrodes, completely obviating the need for lithium intercalation or deintercalation.\", \"Patent: An inorganic material surface-mediated, lithium ion-exchanging cell (SMC) comprising (b) A negative electrode (anode) comprising an anode current collector alone or both an anode current collector and an anode active material having a surface area to capture or store lithium thereon\\n<br>Top Sci Sent: This approach is based on the exchange of lithium ions between the surfaces (not the bulk) of two nanostructured electrodes, completely obviating the need for lithium intercalation or deintercalation.\", \"Patent: An energy storage device, comprising a cathode layer comprising at least one material with an affinity for hydrogen\\n<br>Top Sci Sent: Furthermore, the hydrogen desorbs at temperatures up to 400 \\u00b0C less than those observed for the hydrogenated SWNTs formed after the Birch reduction.\", \"Patent: An inorganic material surface-mediated, lithium ion-exchanging cell (SMC) comprising (c) A porous separator disposed between the anode and the cathode\\n<br>Top Sci Sent: This approach is based on the exchange of lithium ions between the surfaces (not the bulk) of two nanostructured electrodes, completely obviating the need for lithium intercalation or deintercalation.\", \"Patent: An energy storage device, comprising a storage electrode loaded with a hydrogen storage material, wherein hydrogen is retained in the hydrogen storage material with relatively low chemical bonding and wherein the counter electrode comprises a material having an affinity for hydrogen greater than the low molecular weight hydrogen storage material\\n<br>Top Sci Sent: The total gravimetric content of hydrogen on a sample averages from 3.5% to 3.9% w/w, about four times the total amount observed for nanotubes hydrogenated via traditional Birch reduction reactions.\", \"Patent: A lithium-ion cell comprising (a) A positive electrode (cathode) comprising a carbon or graphitic material selected from graphite worms, exfoliated graphite flakes, expanded graphite, chemically treated graphite with an inter-graphene planar separation no less than 0.4 nm, chemically etched or expanded soft carbon, chemically etched or expanded hard carbon, exfoliated activated carbon, chemically etched or expanded carbon black, chemically expanded multi-walled carbon nano-tube having a diameter from 1 to 100 nm, chemically expanded carbon nano-fiber having a diameter from 1 to 100 nm, or a combination thereof, as the only cathode active material having a surface area to capture and store lithium thereon and wherein said cathode forms a meso-porous structure having a pore in the range of 2 nm to 50 nm and having a specific surface area greater than 50 m.sup.2/g\\n<br>Top Sci Sent: In both electrodes, massive graphene surfaces in direct contact with liquid electrolyte are capable of rapidly and reversibly capturing lithium ions through surface adsorption and/or surface redox reaction.\", \"Patent: A lithium-ion cell comprising (A) A positive electrode (cathode) comprising a carbon or graphitic material selected from graphite worms, exfoliated graphite flakes, expanded graphite, chemically treated graphite with an inter-graphene planar separation no less than 0.4 nm, chemically etched or expanded soft carbon, chemically etched or expanded hard carbon, exfoliated activated carbon, chemically etched or expanded carbon black, chemically expanded multi-walled carbon nano-tube having a diameter from 1 to 100 nm, chemically expanded carbon nano-fiber having a diameter from 1 to 100 nm, or a combination thereof as the only cathode active material having a surface area to capture and store lithium thereon and wherein said cathode forms a meso-porous structure having a pore size in the range from 2 nm to 50 nm and having a specific surface area greater than 50 m.sup.2/g\\n<br>Top Sci Sent: In both electrodes, massive graphene surfaces in direct contact with liquid electrolyte are capable of rapidly and reversibly capturing lithium ions through surface adsorption and/or surface redox reaction.\", \"Patent: An inorganic material surface-mediated, lithium ion-exchanging cell (SMC) comprising and (e) A lithium source disposed in at least one of the two electrodes or pre-lithiated into or onto said anode when the cell is made\\n<br>Top Sci Sent: This approach is based on the exchange of lithium ions between the surfaces (not the bulk) of two nanostructured electrodes, completely obviating the need for lithium intercalation or deintercalation.\", \"Patent: 1. A hollow, micron/nano-scale silicon structure having an oxygen content less than approximately 9%, wherein the interior of the hollow micron/nano-scale silicon structure is substantially free of carbon, wherein the micron/nano-scale silicon structure has a flower morphology that comprises a plurality of curled petals extending out from a central portion of the micron/nano-scale silicon structure.\\n<br>Top Sci Sent: The morphology of Si is controllable from hollow cubes, spheres, and tubes, to flowers and other shapes.\", \"Patent: A positive active material, comprising a core particle comprising a lithium-containing compound configured to reversibly intercalate and deintercalate lithium\\n<br>Top Sci Sent: The MWCNT surfaces were modified by oxyfluorination to improve their positive temperature coefficient (PTC) and negative temperature coefficient (NTC) behaviors in HDPE polymeric switches.\", \"Patent: An inorganic material surface-mediated, lithium ion-exchanging cell (SMC) comprising wherein said nano discs, nano platelets, or nano sheets have a thickness less than 100 nm\\n<br>Top Sci Sent: This approach is based on the exchange of lithium ions between the surfaces (not the bulk) of two nanostructured electrodes, completely obviating the need for lithium intercalation or deintercalation.\", \"Patent: An inorganic material surface-mediated, lithium ion-exchanging cell (SMC) comprising (D) boron nitride, or (E) a combination thereof\\n<br>Top Sci Sent: This approach is based on the exchange of lithium ions between the surfaces (not the bulk) of two nanostructured electrodes, completely obviating the need for lithium intercalation or deintercalation.\", \"Patent: A process for the preparation of a monolithic porous open-cell structure, the process comprising forming a microparticulate mass to form a first template, the first template comprising a population of microparticles and interstitial volume between the microparticles within the mass, the surfaces of the microparticles within the first template having contacting surface regions that contact the surfaces of other microparticles within the mass and non-contacting surface regions bounding the interstitial volume, consolidating the microparticulate mass to form a second template wherein consolidating comprises compressing or sintering the microparticulate mass, infiltrating the second template with a framework material that coats the non-contacting surface regions of the microparticles, removing the second template to form a monolithic porous open-cell structure comprising a skeletal network comprising the framework material and having a void volume fraction of at least 25%\\n<br>Top Sci Sent: Here, we demonstrate very large battery charge and discharge rates with minimal capacity loss by using cathodes made from a self-assembled three-dimensional bicontinuous nanoarchitecture consisting of an electrolytically active material sandwiched between rapid ion and electron transport pathways.\", \"Patent: A process for the preparation of a monolithic porous open-cell structure, the process comprising and electrochemically oxidizing or electrochemically converting the framework material to the corresponding oxide or sulfide after the second template is removed.\\n<br>Top Sci Sent: Here, we demonstrate very large battery charge and discharge rates with minimal capacity loss by using cathodes made from a self-assembled three-dimensional bicontinuous nanoarchitecture consisting of an electrolytically active material sandwiched between rapid ion and electron transport pathways.\", \"Patent: A monolithic porous open-cell structure comprising a three-dimensional network of interconnected unit cells, the unit cells being bounded by a framework material, wherein the framework material is electrochemically oxidized or converted to the corresponding oxide or sulfide, the corresponding oxide or sulfide having interconnectivity windows for fluid flow between the unit cells, the monolithic porous open-cell structure having a void volume fraction of at least 25%, the unit cells have an average size in the range of about 10 nm to about 100 .mu.m, and an average aspect ratio in the range of about 1:1 to about 10:1.\\n<br>Top Sci Sent: Here, we demonstrate very large battery charge and discharge rates with minimal capacity loss by using cathodes made from a self-assembled three-dimensional bicontinuous nanoarchitecture consisting of an electrolytically active material sandwiched between rapid ion and electron transport pathways.\"], \"legendgroup\": \"\", \"marker\": {\"color\": \"#636efa\", \"symbol\": \"circle\"}, \"mode\": \"markers\", \"name\": \"\", \"orientation\": \"v\", \"showlegend\": false, \"type\": \"scatter\", \"x\": [26.703569412231445, 26.76543617248535, 25.86246109008789, 10.477799415588379, 9.585379600524902, 29.007301330566406, 30.635717391967773, 25.000333786010742, 27.92885398864746, 30.676692962646484, 27.7221736907959, 27.076187133789062, 27.925357818603516, 8.551591873168945, 26.841623306274414, 7.784671306610107, 24.971012115478516, 8.447166442871094, 9.719999313354492, 27.543901443481445, 23.788406372070312, 22.942663192749023, 26.381576538085938, 9.8580322265625, 9.91236400604248, 30.722675323486328, 29.01898765563965, 9.38113021850586, 27.485210418701172, -8.874753952026367, -8.382670402526855, -8.920211791992188, -8.725046157836914, -3.70259165763855, -21.665422439575195, -24.157899856567383, -20.15446662902832, -7.194098472595215, 4.324638843536377, -9.732869148254395, 23.568601608276367, -0.4702007472515106, 23.851463317871094, -10.260696411132812, -0.8080117106437683, 29.475757598876953, 27.60568618774414, -23.427324295043945, -22.365760803222656, -5.465871810913086, -20.148244857788086, 24.158550262451172, -9.715705871582031, -22.34339141845703, -19.71491050720215, -20.90932846069336, -20.642988204956055, -5.515096664428711, -10.48015022277832, -20.36736488342285, 23.851545333862305, -23.231403350830078, -10.34972858428955, 26.593107223510742, -20.76117515563965, -19.285520553588867, -1.2408027648925781, 3.979797124862671, -21.700496673583984, 25.948396682739258, 24.41524887084961, -21.521347045898438, -22.962543487548828, 27.409666061401367, -0.46274876594543457, 0.11788250505924225, 2.057093620300293, -19.10994529724121, -22.348674774169922, -20.772216796875, -2.1654348373413086, -5.519567489624023, 25.038528442382812, -23.949344635009766, -22.512603759765625, -15.424776077270508, -18.899328231811523, 27.60568618774414, 3.812742233276367, 24.801124572753906, -21.79045867919922, -6.545455455780029, 24.41524887084961, -6.569368362426758, -24.771820068359375, -21.542991638183594, -10.276930809020996, 9.947044372558594, -22.712984085083008, -21.07746696472168, -1.930437684059143, 10.129434585571289, 3.407926559448242, -21.766510009765625, -15.432531356811523, -23.08321762084961, 28.131837844848633, -22.71091651916504, -6.0987443923950195, -24.96218490600586, 9.38935661315918, -19.70039176940918, -2.187750816345215, 26.57566261291504, -6.586554050445557, -21.153486251831055, 3.1180286407470703, 10.399770736694336, -21.733108520507812, 5.973938465118408, 5.969094276428223, 30.01581382751465, 2.20977783203125, -5.443099021911621, -10.484387397766113, -23.78143882751465, -23.63808822631836, -21.64079475402832, -0.5199614763259888, 8.161002159118652, -22.440065383911133, 24.801124572753906, -9.572782516479492, -19.854772567749023, -0.33765527606010437, 30.233701705932617, -24.35013771057129, -3.6579716205596924, 24.747838973999023, 2.299046754837036, 7.94035530090332, -20.313810348510742, -9.47891902923584, -22.704296112060547, 2.5687944889068604, -20.75990867614746, 29.62839698791504, 1.9161072969436646, -8.91590690612793, -8.012953758239746, -2.200486898422241, 10.30268669128418, 9.409592628479004, -3.695436477661133, -8.05266284942627, 25.909543991088867, -9.766746520996094, 26.317386627197266, -1.996130347251892, 7.95257043838501, 6.783904552459717, -2.5088155269622803, -14.610636711120605, 7.8852338790893555, 7.847241401672363, 25.90239906311035, -8.180904388427734, -1.4042129516601562, -2.200486898422241, -12.337013244628906, -11.795565605163574, 10.054830551147461, 8.813228607177734, -3.831333875656128, -12.597111701965332, -7.9575982093811035, -2.9434468746185303, -0.38284456729888916, -4.839039325714111, 1.8971956968307495, 9.027301788330078, -8.317219734191895, 27.461620330810547, 8.033960342407227, -3.7216055393218994, 0.9459354281425476, -14.806225776672363, -2.0408782958984375, 7.326516151428223, -14.610636711120605, 7.436507225036621, -12.571454048156738, 9.027301788330078, -7.164805889129639, 27.17146110534668, -7.25624942779541, 0.9318321943283081, -13.341550827026367, 6.784111022949219, 9.409592628479004, -5.378904819488525, -4.414180278778076, -1.582523226737976, -2.199923515319824, -2.5088155269622803, 1.9161072969436646, -4.122311592102051, 0.931598961353302, 29.7608699798584, -8.288054466247559, -2.3428568840026855, -2.0994930267333984, -7.202095985412598, 29.760868072509766, -13.160733222961426, -2.5088155269622803, 8.813228607177734, 6.96491813659668, -13.160733222961426, 0.7963892221450806, 22.942163467407227, -12.988469123840332, -8.015971183776855, 8.065458297729492, -14.6100435256958, -6.193793296813965, -8.966928482055664, -13.84304428100586, -6.381086349487305, -3.721064329147339, 24.332204818725586, -4.1080427169799805, -7.366871356964111, -9.023078918457031, -5.887214183807373, -14.899677276611328, 25.198989868164062, -8.383689880371094, 27.94755744934082, -8.660243034362793, -7.345446586608887, -3.7142603397369385, -1.2391750812530518, -1.5245261192321777, -4.052116394042969, -6.371918678283691, -6.151406288146973, -14.849654197692871, -12.29532527923584, -13.408903121948242, 0.9747209548950195, -3.824192523956299, -2.9584734439849854, -12.288165092468262, 1.516230821609497, 28.072589874267578, 26.941349029541016, -6.402016639709473, -1.1937521696090698, -4.170998573303223, 25.702402114868164, 1.435489296913147, -1.8173030614852905, -1.5568333864212036, -1.1938139200210571, -4.244422435760498, -4.508779048919678, 28.072589874267578, -1.2388759851455688, 25.187101364135742, 8.960412979125977, 1.4854114055633545, 25.198728561401367, -4.608747959136963, -7.230564117431641, -1.2867085933685303, -14.531126022338867, -5.722451210021973, 24.526382446289062, -1.2867085933685303, -13.798356056213379, -3.386774778366089, -14.757451057434082, -7.229487419128418, -4.180904388427734, -1.7248409986495972, -4.063485622406006, -8.438681602478027, -4.336952209472656, 8.453089714050293, -3.595897912979126, -13.132088661193848, -4.510862350463867, 26.94135093688965, -7.336339950561523, 8.71094799041748, -0.3200377821922302, 3.121344804763794, 1.6190656423568726, 2.2975077629089355, -2.913130521774292, -1.3828233480453491, 3.9787912368774414, 3.1609411239624023, -0.5166806578636169, -4.635178565979004, -1.345404028892517, 3.9798099994659424, -4.6544270515441895, -2.915586471557617, 3.628289222717285, -1.6316776275634766, 3.661834955215454, -10.087098121643066, 2.278071403503418, 2.666048526763916, -0.617810845375061, 6.807859897613525, 2.1431100368499756, 2.3206541538238525, 2.683868169784546, 1.9920754432678223, 3.407411575317383, 6.802474021911621, -0.3202354311943054, 2.559326410293579, 4.594974040985107, 2.9401180744171143, 2.319568157196045, 2.3473761081695557, 4.596617698669434, -3.21453595161438, 3.2626590728759766, 2.9583659172058105, 2.5105299949645996, 3.628288507461548, 2.683868169784546, -1.5384809970855713, 3.6618404388427734, -3.164933681488037, -1.38839590549469, -1.3815085887908936, 2.9569308757781982, -10.088552474975586, 3.993208646774292, 2.662722110748291, 3.48954439163208, -2.9322612285614014, -3.158407688140869, -3.058189868927002], \"xaxis\": \"x\", \"y\": [-6.79299259185791, -7.217164039611816, -2.8440821170806885, -9.830957412719727, -10.090327262878418, -5.937085151672363, -7.56631326675415, -4.673881530761719, -5.196353435516357, -6.208873271942139, -6.691233158111572, -5.837557792663574, -5.193392753601074, -8.260854721069336, -5.876393795013428, -9.673317909240723, -4.848948955535889, -9.202596664428711, -9.377534866333008, -6.441040992736816, -5.520869255065918, -6.531081676483154, -6.216165542602539, -11.502427101135254, -10.118049621582031, -6.1076812744140625, -5.942912578582764, -9.829039573669434, -6.34297513961792, 17.67304229736328, 15.15926742553711, 17.40420150756836, 16.460695266723633, -6.299123287200928, -16.165605545043945, -16.174942016601562, -15.09211254119873, 4.542191982269287, 2.406574249267578, 6.151553630828857, -5.944382190704346, 0.856872022151947, -8.442976951599121, 13.875188827514648, 4.5970659255981445, -3.5275440216064453, -8.997681617736816, -14.853203773498535, -15.171338081359863, 4.833287239074707, -14.156764030456543, -5.25810432434082, 6.143280982971191, -17.82681655883789, -17.304418563842773, -17.047199249267578, -16.488664627075195, 4.328584671020508, 14.071937561035156, -17.40688705444336, -8.443086624145508, -15.737466812133789, 14.075258255004883, -4.739060401916504, -15.455373764038086, -16.822256088256836, 1.4787741899490356, -0.1906208097934723, -17.322731018066406, -8.450048446655273, -3.7815842628479004, -15.206188201904297, -17.605384826660156, -8.542268753051758, 1.2591404914855957, -0.8772268891334534, 3.212052822113037, -15.342328071594238, -15.17440414428711, -14.779899597167969, 0.17773783206939697, 4.314154148101807, -8.970582008361816, -15.396400451660156, -17.07318687438965, -12.282388687133789, -15.504039764404297, -8.997681617736816, 3.624674081802368, -8.645210266113281, -14.396438598632812, 1.4822263717651367, -3.7815845012664795, 1.4974586963653564, -17.511295318603516, -14.625408172607422, 14.0542573928833, -11.46576976776123, -14.463713645935059, -15.60508918762207, 8.180069923400879, -9.16217041015625, -1.3003491163253784, -16.10614013671875, -12.287949562072754, -16.510143280029297, -8.81260871887207, -14.06121826171875, 4.724377632141113, -13.389904022216797, -9.572151184082031, -16.023988723754883, 0.1601220965385437, -4.745996475219727, 1.4397155046463013, -13.861289978027344, 6.468402862548828, -9.325439453125, -16.8121395111084, -5.317448616027832, -5.3163981437683105, -4.850326061248779, 4.63397741317749, 4.78430700302124, 13.850162506103516, -14.365540504455566, -16.902172088623047, -13.575560569763184, 1.4091746807098389, -9.101519584655762, -16.687482833862305, -8.645210266113281, 12.24461841583252, -14.659708976745605, 1.229201316833496, -4.299838066101074, -15.08172607421875, -6.262397766113281, -9.017500877380371, -0.12574800848960876, -9.896002769470215, -16.105344772338867, 12.063589096069336, -16.071718215942383, 6.6939697265625, -13.54071044921875, -3.6391987800598145, -4.133394241333008, 2.511791706085205, 9.98342227935791, 19.19757843017578, -10.074828147888184, -8.508732795715332, 19.68983268737793, 13.626616477966309, -3.8911681175231934, 6.136544704437256, -6.1889967918396, -5.615203857421875, -9.889144897460938, 6.297722339630127, 18.453283309936523, 5.675726413726807, 7.831039905548096, 7.7646803855896, -4.493741512298584, 11.16415023803711, -5.612553596496582, 19.19757843017578, 9.28846263885498, 7.786482334136963, -11.423482894897461, 8.475053787231445, 5.1735453605651855, 7.589470386505127, 12.01224136352539, 19.139144897460938, -0.1712675839662552, -1.9521050453186035, -4.139369487762451, 9.342534065246582, 11.63579273223877, -7.303212642669678, 9.139716148376465, 19.674020767211914, -1.8487857580184937, 5.6758131980896, 8.28792667388916, 8.538313865661621, 5.675725936889648, 9.025793075561523, 7.515417098999023, 9.342534065246582, 17.82220458984375, -7.226775169372559, 17.524381637573242, 8.542322158813477, 6.478812217712402, 6.297577857971191, -8.508732795715332, 16.00563621520996, 0.40102988481521606, 18.502763748168945, 19.19763946533203, 18.453283309936523, -4.133394718170166, 2.1139421463012695, 8.542198181152344, -6.913949489593506, 11.696724891662598, 8.33757495880127, -5.582890510559082, 4.542449474334717, -6.913951396942139, 6.659372329711914, 18.453283309936523, 8.475053787231445, 8.601483345031738, 6.659372329711914, -1.9597687721252441, -6.529792308807373, 7.478146076202393, 9.983682632446289, 8.749214172363281, 7.114528656005859, 6.947824954986572, 15.85867977142334, 7.937100887298584, 19.580392837524414, 16.859073638916016, -6.1602301597595215, 9.117198944091797, 13.512423515319824, 15.653234481811523, 19.721450805664062, 8.220511436462402, -7.293868541717529, 15.157241821289062, -3.1905274391174316, 16.437511444091797, 6.397993087768555, -3.4001762866973877, -3.9154179096221924, 14.183579444885254, 9.054902076721191, 19.58449363708496, 6.968966484069824, 7.877506732940674, 3.5648462772369385, 8.676984786987305, 2.43976092338562, 16.382884979248047, -3.998408794403076, 3.5549142360687256, 10.202430725097656, -3.3158133029937744, -4.14209508895874, 19.579490661621094, -3.883324384689331, 16.567214965820312, -5.512984752655029, 10.24282455444336, -1.294882893562317, 14.111047744750977, -3.883474349975586, 16.551366806030273, -4.5003981590271, -3.315816640853882, -3.915588140487671, -7.374542236328125, -11.138577461242676, 10.221461296081543, -7.293691158294678, -4.408997058868408, 7.888193607330322, -1.7263782024383545, 7.350622177124023, 7.97251558303833, -5.958220481872559, -1.7263782024383545, 9.396084785461426, 7.815174102783203, 7.949850082397461, 7.766862392425537, 7.04117488861084, 13.947400093078613, 9.072311401367188, 15.93700885772705, 16.774799346923828, -10.878199577331543, -3.4292166233062744, 9.007002830505371, -4.479496479034424, -4.142096042633057, 7.951494216918945, -10.632970809936523, 4.115512371063232, 13.058341026306152, 1.4800859689712524, -0.12431569397449493, 3.7444353103637695, 5.868735313415527, 9.290358543395996, 13.078485488891602, 4.452508449554443, -0.4722535014152527, 10.734450340270996, -0.1906173974275589, -0.5505913496017456, 3.7532505989074707, -0.15528593957424164, 10.8864164352417, 0.6241217851638794, -1.2850004434585571, 5.872830390930176, 4.972207069396973, 5.679257869720459, 3.1987082958221436, 1.8662854433059692, 6.388949871063232, 0.8477686643600464, 5.126908779144287, -1.2999341487884521, 3.2219114303588867, 4.115184307098389, -0.18205459415912628, 1.3134815692901611, 5.876763343811035, 6.390261650085449, 5.122015476226807, 1.3134678602218628, 11.357291221618652, 5.862682819366455, 1.6656734943389893, -0.6979250907897949, -0.15528573095798492, 0.8477686643600464, 10.786168098449707, 0.6241235136985779, 11.36074161529541, 5.875479221343994, 5.870564937591553, 1.6670442819595337, -1.2860652208328247, 9.289645195007324, 3.1867523193359375, 2.7925381660461426, 6.430156707763672, 5.97567892074585, 6.486611843109131], \"yaxis\": \"y\"}],                        {\"legend\": {\"tracegroupgap\": 0}, \"margin\": {\"t\": 60}, \"template\": {\"data\": {\"bar\": [{\"error_x\": {\"color\": \"#2a3f5f\"}, \"error_y\": {\"color\": \"#2a3f5f\"}, \"marker\": {\"line\": {\"color\": \"#E5ECF6\", \"width\": 0.5}}, \"type\": \"bar\"}], \"barpolar\": [{\"marker\": {\"line\": {\"color\": \"#E5ECF6\", \"width\": 0.5}}, \"type\": \"barpolar\"}], \"carpet\": [{\"aaxis\": {\"endlinecolor\": \"#2a3f5f\", \"gridcolor\": \"white\", \"linecolor\": \"white\", \"minorgridcolor\": \"white\", \"startlinecolor\": \"#2a3f5f\"}, \"baxis\": {\"endlinecolor\": \"#2a3f5f\", \"gridcolor\": \"white\", \"linecolor\": \"white\", \"minorgridcolor\": \"white\", \"startlinecolor\": \"#2a3f5f\"}, \"type\": \"carpet\"}], \"choropleth\": [{\"colorbar\": {\"outlinewidth\": 0, \"ticks\": \"\"}, \"type\": \"choropleth\"}], \"contour\": [{\"colorbar\": {\"outlinewidth\": 0, \"ticks\": \"\"}, \"colorscale\": [[0.0, \"#0d0887\"], [0.1111111111111111, \"#46039f\"], [0.2222222222222222, \"#7201a8\"], [0.3333333333333333, \"#9c179e\"], [0.4444444444444444, \"#bd3786\"], [0.5555555555555556, \"#d8576b\"], [0.6666666666666666, \"#ed7953\"], [0.7777777777777778, \"#fb9f3a\"], [0.8888888888888888, \"#fdca26\"], [1.0, \"#f0f921\"]], \"type\": \"contour\"}], \"contourcarpet\": [{\"colorbar\": {\"outlinewidth\": 0, \"ticks\": \"\"}, \"type\": \"contourcarpet\"}], \"heatmap\": [{\"colorbar\": {\"outlinewidth\": 0, \"ticks\": \"\"}, \"colorscale\": [[0.0, \"#0d0887\"], [0.1111111111111111, \"#46039f\"], [0.2222222222222222, \"#7201a8\"], [0.3333333333333333, \"#9c179e\"], [0.4444444444444444, \"#bd3786\"], [0.5555555555555556, \"#d8576b\"], [0.6666666666666666, \"#ed7953\"], [0.7777777777777778, \"#fb9f3a\"], [0.8888888888888888, \"#fdca26\"], [1.0, \"#f0f921\"]], \"type\": \"heatmap\"}], \"heatmapgl\": [{\"colorbar\": {\"outlinewidth\": 0, \"ticks\": \"\"}, \"colorscale\": [[0.0, \"#0d0887\"], [0.1111111111111111, \"#46039f\"], [0.2222222222222222, \"#7201a8\"], [0.3333333333333333, \"#9c179e\"], [0.4444444444444444, \"#bd3786\"], [0.5555555555555556, \"#d8576b\"], [0.6666666666666666, \"#ed7953\"], [0.7777777777777778, \"#fb9f3a\"], [0.8888888888888888, \"#fdca26\"], [1.0, \"#f0f921\"]], \"type\": \"heatmapgl\"}], \"histogram\": [{\"marker\": {\"colorbar\": {\"outlinewidth\": 0, \"ticks\": \"\"}}, \"type\": \"histogram\"}], \"histogram2d\": [{\"colorbar\": {\"outlinewidth\": 0, \"ticks\": \"\"}, \"colorscale\": [[0.0, \"#0d0887\"], [0.1111111111111111, \"#46039f\"], [0.2222222222222222, \"#7201a8\"], [0.3333333333333333, \"#9c179e\"], [0.4444444444444444, \"#bd3786\"], [0.5555555555555556, \"#d8576b\"], [0.6666666666666666, \"#ed7953\"], [0.7777777777777778, \"#fb9f3a\"], [0.8888888888888888, \"#fdca26\"], [1.0, \"#f0f921\"]], \"type\": \"histogram2d\"}], \"histogram2dcontour\": [{\"colorbar\": {\"outlinewidth\": 0, \"ticks\": \"\"}, \"colorscale\": [[0.0, \"#0d0887\"], [0.1111111111111111, \"#46039f\"], [0.2222222222222222, \"#7201a8\"], [0.3333333333333333, \"#9c179e\"], [0.4444444444444444, \"#bd3786\"], [0.5555555555555556, \"#d8576b\"], [0.6666666666666666, \"#ed7953\"], [0.7777777777777778, \"#fb9f3a\"], [0.8888888888888888, \"#fdca26\"], [1.0, \"#f0f921\"]], \"type\": \"histogram2dcontour\"}], \"mesh3d\": [{\"colorbar\": {\"outlinewidth\": 0, \"ticks\": \"\"}, \"type\": \"mesh3d\"}], \"parcoords\": [{\"line\": {\"colorbar\": {\"outlinewidth\": 0, \"ticks\": \"\"}}, \"type\": \"parcoords\"}], \"pie\": [{\"automargin\": true, \"type\": \"pie\"}], \"scatter\": [{\"marker\": {\"colorbar\": {\"outlinewidth\": 0, \"ticks\": \"\"}}, \"type\": \"scatter\"}], \"scatter3d\": [{\"line\": {\"colorbar\": {\"outlinewidth\": 0, \"ticks\": \"\"}}, \"marker\": {\"colorbar\": {\"outlinewidth\": 0, \"ticks\": \"\"}}, \"type\": \"scatter3d\"}], \"scattercarpet\": [{\"marker\": {\"colorbar\": {\"outlinewidth\": 0, \"ticks\": \"\"}}, \"type\": \"scattercarpet\"}], \"scattergeo\": [{\"marker\": {\"colorbar\": {\"outlinewidth\": 0, \"ticks\": \"\"}}, \"type\": \"scattergeo\"}], \"scattergl\": [{\"marker\": {\"colorbar\": {\"outlinewidth\": 0, \"ticks\": \"\"}}, \"type\": \"scattergl\"}], \"scattermapbox\": [{\"marker\": {\"colorbar\": {\"outlinewidth\": 0, \"ticks\": \"\"}}, \"type\": \"scattermapbox\"}], \"scatterpolar\": [{\"marker\": {\"colorbar\": {\"outlinewidth\": 0, \"ticks\": \"\"}}, \"type\": \"scatterpolar\"}], \"scatterpolargl\": [{\"marker\": {\"colorbar\": {\"outlinewidth\": 0, \"ticks\": \"\"}}, \"type\": \"scatterpolargl\"}], \"scatterternary\": [{\"marker\": {\"colorbar\": {\"outlinewidth\": 0, \"ticks\": \"\"}}, \"type\": \"scatterternary\"}], \"surface\": [{\"colorbar\": {\"outlinewidth\": 0, \"ticks\": \"\"}, \"colorscale\": [[0.0, \"#0d0887\"], [0.1111111111111111, \"#46039f\"], [0.2222222222222222, \"#7201a8\"], [0.3333333333333333, \"#9c179e\"], [0.4444444444444444, \"#bd3786\"], [0.5555555555555556, \"#d8576b\"], [0.6666666666666666, \"#ed7953\"], [0.7777777777777778, \"#fb9f3a\"], [0.8888888888888888, \"#fdca26\"], [1.0, \"#f0f921\"]], \"type\": \"surface\"}], \"table\": [{\"cells\": {\"fill\": {\"color\": \"#EBF0F8\"}, \"line\": {\"color\": \"white\"}}, \"header\": {\"fill\": {\"color\": \"#C8D4E3\"}, \"line\": {\"color\": \"white\"}}, \"type\": \"table\"}]}, \"layout\": {\"annotationdefaults\": {\"arrowcolor\": \"#2a3f5f\", \"arrowhead\": 0, \"arrowwidth\": 1}, \"autotypenumbers\": \"strict\", \"coloraxis\": {\"colorbar\": {\"outlinewidth\": 0, \"ticks\": \"\"}}, \"colorscale\": {\"diverging\": [[0, \"#8e0152\"], [0.1, \"#c51b7d\"], [0.2, \"#de77ae\"], [0.3, \"#f1b6da\"], [0.4, \"#fde0ef\"], [0.5, \"#f7f7f7\"], [0.6, \"#e6f5d0\"], [0.7, \"#b8e186\"], [0.8, \"#7fbc41\"], [0.9, \"#4d9221\"], [1, \"#276419\"]], \"sequential\": [[0.0, \"#0d0887\"], [0.1111111111111111, \"#46039f\"], [0.2222222222222222, \"#7201a8\"], [0.3333333333333333, \"#9c179e\"], [0.4444444444444444, \"#bd3786\"], [0.5555555555555556, \"#d8576b\"], [0.6666666666666666, \"#ed7953\"], [0.7777777777777778, \"#fb9f3a\"], [0.8888888888888888, \"#fdca26\"], [1.0, \"#f0f921\"]], \"sequentialminus\": [[0.0, \"#0d0887\"], [0.1111111111111111, \"#46039f\"], [0.2222222222222222, \"#7201a8\"], [0.3333333333333333, \"#9c179e\"], [0.4444444444444444, \"#bd3786\"], [0.5555555555555556, \"#d8576b\"], [0.6666666666666666, \"#ed7953\"], [0.7777777777777778, \"#fb9f3a\"], [0.8888888888888888, \"#fdca26\"], [1.0, \"#f0f921\"]]}, \"colorway\": [\"#636efa\", \"#EF553B\", \"#00cc96\", \"#ab63fa\", \"#FFA15A\", \"#19d3f3\", \"#FF6692\", \"#B6E880\", \"#FF97FF\", \"#FECB52\"], \"font\": {\"color\": \"#2a3f5f\"}, \"geo\": {\"bgcolor\": \"white\", \"lakecolor\": \"white\", \"landcolor\": \"#E5ECF6\", \"showlakes\": true, \"showland\": true, \"subunitcolor\": \"white\"}, \"hoverlabel\": {\"align\": \"left\"}, \"hovermode\": \"closest\", \"mapbox\": {\"style\": \"light\"}, \"paper_bgcolor\": \"white\", \"plot_bgcolor\": \"#E5ECF6\", \"polar\": {\"angularaxis\": {\"gridcolor\": \"white\", \"linecolor\": \"white\", \"ticks\": \"\"}, \"bgcolor\": \"#E5ECF6\", \"radialaxis\": {\"gridcolor\": \"white\", \"linecolor\": \"white\", \"ticks\": \"\"}}, \"scene\": {\"xaxis\": {\"backgroundcolor\": \"#E5ECF6\", \"gridcolor\": \"white\", \"gridwidth\": 2, \"linecolor\": \"white\", \"showbackground\": true, \"ticks\": \"\", \"zerolinecolor\": \"white\"}, \"yaxis\": {\"backgroundcolor\": \"#E5ECF6\", \"gridcolor\": \"white\", \"gridwidth\": 2, \"linecolor\": \"white\", \"showbackground\": true, \"ticks\": \"\", \"zerolinecolor\": \"white\"}, \"zaxis\": {\"backgroundcolor\": \"#E5ECF6\", \"gridcolor\": \"white\", \"gridwidth\": 2, \"linecolor\": \"white\", \"showbackground\": true, \"ticks\": \"\", \"zerolinecolor\": \"white\"}}, \"shapedefaults\": {\"line\": {\"color\": \"#2a3f5f\"}}, \"ternary\": {\"aaxis\": {\"gridcolor\": \"white\", \"linecolor\": \"white\", \"ticks\": \"\"}, \"baxis\": {\"gridcolor\": \"white\", \"linecolor\": \"white\", \"ticks\": \"\"}, \"bgcolor\": \"#E5ECF6\", \"caxis\": {\"gridcolor\": \"white\", \"linecolor\": \"white\", \"ticks\": \"\"}}, \"title\": {\"x\": 0.05}, \"xaxis\": {\"automargin\": true, \"gridcolor\": \"white\", \"linecolor\": \"white\", \"ticks\": \"\", \"title\": {\"standoff\": 15}, \"zerolinecolor\": \"white\", \"zerolinewidth\": 2}, \"yaxis\": {\"automargin\": true, \"gridcolor\": \"white\", \"linecolor\": \"white\", \"ticks\": \"\", \"title\": {\"standoff\": 15}, \"zerolinecolor\": \"white\", \"zerolinewidth\": 2}}}, \"xaxis\": {\"anchor\": \"y\", \"domain\": [0.0, 1.0], \"title\": {\"text\": \"tsne-2d-one\"}}, \"yaxis\": {\"anchor\": \"x\", \"domain\": [0.0, 1.0], \"title\": {\"text\": \"tsne-2d-two\"}}},                        {\"responsive\": true}                    ).then(function(){\n",
              "                            \n",
              "var gd = document.getElementById('aab8a6d9-46eb-4706-bc2d-5d3f07780fa6');\n",
              "var x = new MutationObserver(function (mutations, observer) {{\n",
              "        var display = window.getComputedStyle(gd).display;\n",
              "        if (!display || display === 'none') {{\n",
              "            console.log([gd, 'removed!']);\n",
              "            Plotly.purge(gd);\n",
              "            observer.disconnect();\n",
              "        }}\n",
              "}});\n",
              "\n",
              "// Listen for the removal of the full notebook cells\n",
              "var notebookContainer = gd.closest('#notebook-container');\n",
              "if (notebookContainer) {{\n",
              "    x.observe(notebookContainer, {childList: true});\n",
              "}}\n",
              "\n",
              "// Listen for the clearing of the current output cell\n",
              "var outputEl = gd.closest('.output');\n",
              "if (outputEl) {{\n",
              "    x.observe(outputEl, {childList: true});\n",
              "}}\n",
              "\n",
              "                        })                };                            </script>        </div>\n",
              "</body>\n",
              "</html>"
            ]
          },
          "metadata": {
            "tags": []
          }
        }
      ]
    },
    {
      "cell_type": "code",
      "metadata": {
        "colab": {
          "base_uri": "https://localhost:8080/",
          "height": 542
        },
        "id": "4jYlkpgAyWf6",
        "outputId": "6f5fb0a1-8500-4227-d9e4-cf8c35ce89b5"
      },
      "source": [
        "import plotly.express as px\n",
        "#df = px.data.tips()\n",
        "fig = px.histogram(sentences_df, x=\"cosine_similarity\",  color = 'mapping', hover_data=[sentences_df.doi], hover_name=sentences_df.doi)\n",
        "fig.show()"
      ],
      "execution_count": null,
      "outputs": [
        {
          "output_type": "display_data",
          "data": {
            "text/html": [
              "<html>\n",
              "<head><meta charset=\"utf-8\" /></head>\n",
              "<body>\n",
              "    <div>            <script src=\"https://cdnjs.cloudflare.com/ajax/libs/mathjax/2.7.5/MathJax.js?config=TeX-AMS-MML_SVG\"></script><script type=\"text/javascript\">if (window.MathJax) {MathJax.Hub.Config({SVG: {font: \"STIX-Web\"}});}</script>                <script type=\"text/javascript\">window.PlotlyConfig = {MathJaxConfig: 'local'};</script>\n",
              "        <script src=\"https://cdn.plot.ly/plotly-latest.min.js\"></script>                <div id=\"c06e2849-d81c-41e3-90b5-fc4049e0927c\" class=\"plotly-graph-div\" style=\"height:525px; width:100%;\"></div>            <script type=\"text/javascript\">                                    window.PLOTLYENV=window.PLOTLYENV || {};                                    if (document.getElementById(\"c06e2849-d81c-41e3-90b5-fc4049e0927c\")) {                    Plotly.newPlot(                        \"c06e2849-d81c-41e3-90b5-fc4049e0927c\",                        [{\"alignmentgroup\": \"True\", \"bingroup\": \"x\", \"hovertemplate\": \"mapping=9040189<br>cosine_similarity=%{x}<br>count=%{y}<extra></extra>\", \"legendgroup\": \"9040189\", \"marker\": {\"color\": \"#636efa\"}, \"name\": \"9040189\", \"offsetgroup\": \"9040189\", \"orientation\": \"v\", \"showlegend\": true, \"type\": \"histogram\", \"x\": [0.7511122226715088, 0.7468770742416382, 0.7399102449417114, 0.7323638200759888, 0.7323638200759888, 0.7780471444129944, 0.7321373224258423, 0.7333197593688965, 0.722460150718689, 0.7317688465118408, 0.7245259284973145, 0.7347897291183472, 0.7236425280570984, 0.7411349415779114, 0.7753738164901733], \"xaxis\": \"x\", \"yaxis\": \"y\"}, {\"alignmentgroup\": \"True\", \"bingroup\": \"x\", \"hovertemplate\": \"mapping=9083060<br>cosine_similarity=%{x}<br>count=%{y}<extra></extra>\", \"legendgroup\": \"9083060\", \"marker\": {\"color\": \"#EF553B\"}, \"name\": \"9083060\", \"offsetgroup\": \"9083060\", \"orientation\": \"v\", \"showlegend\": true, \"type\": \"histogram\", \"x\": [0.7648579478263855, 0.7443884015083313, 0.7475025653839111, 0.7143659591674805, 0.7323638200759888, 0.7101254463195801, 0.7323638200759888], \"xaxis\": \"x\", \"yaxis\": \"y\"}, {\"alignmentgroup\": \"True\", \"bingroup\": \"x\", \"hovertemplate\": \"mapping=9130247<br>cosine_similarity=%{x}<br>count=%{y}<extra></extra>\", \"legendgroup\": \"9130247\", \"marker\": {\"color\": \"#00cc96\"}, \"name\": \"9130247\", \"offsetgroup\": \"9130247\", \"orientation\": \"v\", \"showlegend\": true, \"type\": \"histogram\", \"x\": [0.7139303684234619, 0.7665193676948547, 0.6705224514007568, 0.7330020070075989, 0.675844132900238, 0.7323638200759888, 0.7680521607398987], \"xaxis\": \"x\", \"yaxis\": \"y\"}, {\"alignmentgroup\": \"True\", \"bingroup\": \"x\", \"hovertemplate\": \"mapping=9293773<br>cosine_similarity=%{x}<br>count=%{y}<extra></extra>\", \"legendgroup\": \"9293773\", \"marker\": {\"color\": \"#ab63fa\"}, \"name\": \"9293773\", \"offsetgroup\": \"9293773\", \"orientation\": \"v\", \"showlegend\": true, \"type\": \"histogram\", \"x\": [0.8958274126052856, 0.669849157333374, 0.8711463212966919, 0.8418442010879517], \"xaxis\": \"x\", \"yaxis\": \"y\"}, {\"alignmentgroup\": \"True\", \"bingroup\": \"x\", \"hovertemplate\": \"mapping=9362594<br>cosine_similarity=%{x}<br>count=%{y}<extra></extra>\", \"legendgroup\": \"9362594\", \"marker\": {\"color\": \"#FFA15A\"}, \"name\": \"9362594\", \"offsetgroup\": \"9362594\", \"orientation\": \"v\", \"showlegend\": true, \"type\": \"histogram\", \"x\": [0.7106680870056152, 0.5591915249824524, 0.5510573983192444, 0.5557593107223511, 0.6595293879508972], \"xaxis\": \"x\", \"yaxis\": \"y\"}, {\"alignmentgroup\": \"True\", \"bingroup\": \"x\", \"hovertemplate\": \"mapping=9742042<br>cosine_similarity=%{x}<br>count=%{y}<extra></extra>\", \"legendgroup\": \"9742042\", \"marker\": {\"color\": \"#19d3f3\"}, \"name\": \"9742042\", \"offsetgroup\": \"9742042\", \"orientation\": \"v\", \"showlegend\": true, \"type\": \"histogram\", \"x\": [0.7295200228691101, 0.7078118324279785, 0.6824014186859131, 0.7158721685409546, 0.7448735237121582, 0.685131311416626, 0.7437083721160889, 0.7322372794151306, 0.7353350520133972, 0.7692506313323975, 0.7089996337890625, 0.7394037246704102, 0.7348357439041138, 0.715813159942627, 0.7449944615364075, 0.7400797605514526, 0.7371126413345337, 0.6365559101104736, 0.741532564163208, 0.7153466939926147, 0.6989319324493408, 0.7161850333213806, 0.6062144041061401, 0.6339048147201538, 0.7034140229225159, 0.7238016128540039, 0.6982274055480957, 0.7377801537513733, 0.7092660665512085, 0.7343689203262329, 0.6063406467437744, 0.7420112490653992, 0.7319782376289368, 0.6903035640716553, 0.674162745475769, 0.7513175010681152, 0.7084236145019531, 0.7266570925712585, 0.6784199476242065, 0.7237393856048584, 0.6992735266685486, 0.6862933039665222, 0.7185817360877991, 0.7349153757095337, 0.6997998952865601], \"xaxis\": \"x\", \"yaxis\": \"y\"}, {\"alignmentgroup\": \"True\", \"bingroup\": \"x\", \"hovertemplate\": \"mapping=9755236<br>cosine_similarity=%{x}<br>count=%{y}<extra></extra>\", \"legendgroup\": \"9755236\", \"marker\": {\"color\": \"#FF6692\"}, \"name\": \"9755236\", \"offsetgroup\": \"9755236\", \"orientation\": \"v\", \"showlegend\": true, \"type\": \"histogram\", \"x\": [0.6358952522277832, 0.45920664072036743, 0.7428881525993347, 0.4945460557937622, 0.7172313332557678, 0.6320599317550659, 0.7228187918663025, 0.7143568992614746, 0.7010691165924072, 0.6472954750061035, 0.720706582069397, 0.6545888781547546, 0.7068873047828674, 0.7325402498245239], \"xaxis\": \"x\", \"yaxis\": \"y\"}, {\"alignmentgroup\": \"True\", \"bingroup\": \"x\", \"hovertemplate\": \"mapping=9437370<br>cosine_similarity=%{x}<br>count=%{y}<extra></extra>\", \"legendgroup\": \"9437370\", \"marker\": {\"color\": \"#B6E880\"}, \"name\": \"9437370\", \"offsetgroup\": \"9437370\", \"orientation\": \"v\", \"showlegend\": true, \"type\": \"histogram\", \"x\": [0.6058151721954346, 0.7700755596160889, 0.7286458611488342, 0.646004319190979, 0.6676993370056152, 0.6776261329650879, 0.4192781448364258, 0.654238224029541, 0.754987359046936, 0.4151180386543274], \"xaxis\": \"x\", \"yaxis\": \"y\"}, {\"alignmentgroup\": \"True\", \"bingroup\": \"x\", \"hovertemplate\": \"mapping=9397344<br>cosine_similarity=%{x}<br>count=%{y}<extra></extra>\", \"legendgroup\": \"9397344\", \"marker\": {\"color\": \"#FF97FF\"}, \"name\": \"9397344\", \"offsetgroup\": \"9397344\", \"orientation\": \"v\", \"showlegend\": true, \"type\": \"histogram\", \"x\": [0.6974146962165833, 0.7227557301521301, 0.7158010005950928, 0.7178815007209778, 0.7206705808639526, 0.7389613389968872, 0.7302966713905334, 0.7206705808639526, 0.7323638200759888, 0.7422611117362976, 0.7323638200759888, 0.7189815044403076, 0.7103634476661682, 0.7302966713905334, 0.7302966713905334, 0.7139303684234619], \"xaxis\": \"x\", \"yaxis\": \"y\"}, {\"alignmentgroup\": \"True\", \"bingroup\": \"x\", \"hovertemplate\": \"mapping=9520618<br>cosine_similarity=%{x}<br>count=%{y}<extra></extra>\", \"legendgroup\": \"9520618\", \"marker\": {\"color\": \"#FECB52\"}, \"name\": \"9520618\", \"offsetgroup\": \"9520618\", \"orientation\": \"v\", \"showlegend\": true, \"type\": \"histogram\", \"x\": [0.7761815786361694, 0.6289480328559875, 0.6486474275588989], \"xaxis\": \"x\", \"yaxis\": \"y\"}, {\"alignmentgroup\": \"True\", \"bingroup\": \"x\", \"hovertemplate\": \"mapping=9324978<br>cosine_similarity=%{x}<br>count=%{y}<extra></extra>\", \"legendgroup\": \"9324978\", \"marker\": {\"color\": \"#636efa\"}, \"name\": \"9324978\", \"offsetgroup\": \"9324978\", \"orientation\": \"v\", \"showlegend\": true, \"type\": \"histogram\", \"x\": [0.7012600898742676, 0.7184919714927673, 0.7425663471221924, 0.7413070797920227, 0.7140488624572754], \"xaxis\": \"x\", \"yaxis\": \"y\"}, {\"alignmentgroup\": \"True\", \"bingroup\": \"x\", \"hovertemplate\": \"mapping=9299989<br>cosine_similarity=%{x}<br>count=%{y}<extra></extra>\", \"legendgroup\": \"9299989\", \"marker\": {\"color\": \"#EF553B\"}, \"name\": \"9299989\", \"offsetgroup\": \"9299989\", \"orientation\": \"v\", \"showlegend\": true, \"type\": \"histogram\", \"x\": [0.7516078948974609, 0.7227557301521301, 0.7516078948974609, 0.7302966713905334, 0.675844132900238, 0.7323638200759888], \"xaxis\": \"x\", \"yaxis\": \"y\"}, {\"alignmentgroup\": \"True\", \"bingroup\": \"x\", \"hovertemplate\": \"mapping=9728814<br>cosine_similarity=%{x}<br>count=%{y}<extra></extra>\", \"legendgroup\": \"9728814\", \"marker\": {\"color\": \"#00cc96\"}, \"name\": \"9728814\", \"offsetgroup\": \"9728814\", \"orientation\": \"v\", \"showlegend\": true, \"type\": \"histogram\", \"x\": [0.7103805541992188, 0.7768853306770325, 0.7643901109695435], \"xaxis\": \"x\", \"yaxis\": \"y\"}, {\"alignmentgroup\": \"True\", \"bingroup\": \"x\", \"hovertemplate\": \"mapping=9362593<br>cosine_similarity=%{x}<br>count=%{y}<extra></extra>\", \"legendgroup\": \"9362593\", \"marker\": {\"color\": \"#ab63fa\"}, \"name\": \"9362593\", \"offsetgroup\": \"9362593\", \"orientation\": \"v\", \"showlegend\": true, \"type\": \"histogram\", \"x\": [0.5463259220123291, 0.5718088150024414, 0.5648231506347656, 0.5579720735549927], \"xaxis\": \"x\", \"yaxis\": \"y\"}, {\"alignmentgroup\": \"True\", \"bingroup\": \"x\", \"hovertemplate\": \"mapping=9478829<br>cosine_similarity=%{x}<br>count=%{y}<extra></extra>\", \"legendgroup\": \"9478829\", \"marker\": {\"color\": \"#FFA15A\"}, \"name\": \"9478829\", \"offsetgroup\": \"9478829\", \"orientation\": \"v\", \"showlegend\": true, \"type\": \"histogram\", \"x\": [0.6752709150314331, 0.5451984405517578, 0.5482877492904663], \"xaxis\": \"x\", \"yaxis\": \"y\"}, {\"alignmentgroup\": \"True\", \"bingroup\": \"x\", \"hovertemplate\": \"mapping=10122046<br>cosine_similarity=%{x}<br>count=%{y}<extra></extra>\", \"legendgroup\": \"10122046\", \"marker\": {\"color\": \"#19d3f3\"}, \"name\": \"10122046\", \"offsetgroup\": \"10122046\", \"orientation\": \"v\", \"showlegend\": true, \"type\": \"histogram\", \"x\": [0.7057835459709167, 0.7728276252746582, 0.5759559273719788, 0.5133662223815918, 0.522543728351593, 0.8171471357345581, 0.5759559273719788, 0.5267927050590515, 0.7253242135047913, 0.7252707481384277, 0.543809175491333, 0.6675978302955627, 0.5759559273719788, 0.522543728351593, 0.7057835459709167, 0.6846193671226501, 0.522543728351593, 0.7760873436927795], \"xaxis\": \"x\", \"yaxis\": \"y\"}, {\"alignmentgroup\": \"True\", \"bingroup\": \"x\", \"hovertemplate\": \"mapping=10135084<br>cosine_similarity=%{x}<br>count=%{y}<extra></extra>\", \"legendgroup\": \"10135084\", \"marker\": {\"color\": \"#FF6692\"}, \"name\": \"10135084\", \"offsetgroup\": \"10135084\", \"orientation\": \"v\", \"showlegend\": true, \"type\": \"histogram\", \"x\": [0.5207927823066711, 0.5653437972068787, 0.5924365520477295, 0.8080785274505615, 0.6121418476104736, 0.5653437972068787, 0.7784644961357117, 0.586450457572937, 0.6032693982124329, 0.6032693982124329, 0.8187151551246643], \"xaxis\": \"x\", \"yaxis\": \"y\"}, {\"alignmentgroup\": \"True\", \"bingroup\": \"x\", \"hovertemplate\": \"mapping=9755278<br>cosine_similarity=%{x}<br>count=%{y}<extra></extra>\", \"legendgroup\": \"9755278\", \"marker\": {\"color\": \"#B6E880\"}, \"name\": \"9755278\", \"offsetgroup\": \"9755278\", \"orientation\": \"v\", \"showlegend\": true, \"type\": \"histogram\", \"x\": [0.7323638200759888, 0.7244973182678223, 0.7139303684234619, 0.675844132900238, 0.7427301406860352, 0.7446699738502502, 0.6705224514007568], \"xaxis\": \"x\", \"yaxis\": \"y\"}, {\"alignmentgroup\": \"True\", \"bingroup\": \"x\", \"hovertemplate\": \"mapping=9755267<br>cosine_similarity=%{x}<br>count=%{y}<extra></extra>\", \"legendgroup\": \"9755267\", \"marker\": {\"color\": \"#FF97FF\"}, \"name\": \"9755267\", \"offsetgroup\": \"9755267\", \"orientation\": \"v\", \"showlegend\": true, \"type\": \"histogram\", \"x\": [0.7754916548728943, 0.751456618309021, 0.7319839000701904, 0.7754916548728943, 0.748415470123291, 0.748415470123291], \"xaxis\": \"x\", \"yaxis\": \"y\"}, {\"alignmentgroup\": \"True\", \"bingroup\": \"x\", \"hovertemplate\": \"mapping=9923240<br>cosine_similarity=%{x}<br>count=%{y}<extra></extra>\", \"legendgroup\": \"9923240\", \"marker\": {\"color\": \"#FECB52\"}, \"name\": \"9923240\", \"offsetgroup\": \"9923240\", \"orientation\": \"v\", \"showlegend\": true, \"type\": \"histogram\", \"x\": [0.6390185356140137, 0.6190519332885742, 0.6082315444946289, 0.7177656292915344, 0.520963191986084, 0.5834883451461792], \"xaxis\": \"x\", \"yaxis\": \"y\"}, {\"alignmentgroup\": \"True\", \"bingroup\": \"x\", \"hovertemplate\": \"mapping=9780349<br>cosine_similarity=%{x}<br>count=%{y}<extra></extra>\", \"legendgroup\": \"9780349\", \"marker\": {\"color\": \"#636efa\"}, \"name\": \"9780349\", \"offsetgroup\": \"9780349\", \"orientation\": \"v\", \"showlegend\": true, \"type\": \"histogram\", \"x\": [0.4706018567085266, 0.6207228302955627, 0.620762825012207, 0.6323509216308594], \"xaxis\": \"x\", \"yaxis\": \"y\"}, {\"alignmentgroup\": \"True\", \"bingroup\": \"x\", \"hovertemplate\": \"mapping=9991512<br>cosine_similarity=%{x}<br>count=%{y}<extra></extra>\", \"legendgroup\": \"9991512\", \"marker\": {\"color\": \"#EF553B\"}, \"name\": \"9991512\", \"offsetgroup\": \"9991512\", \"orientation\": \"v\", \"showlegend\": true, \"type\": \"histogram\", \"x\": [0.587261974811554, 0.7638645172119141, 0.7421163320541382, 0.7076836824417114, 0.7149356603622437, 0.840900719165802, 0.7640067338943481, 0.8404834270477295, 0.7149356603622437, 0.6025676727294922, 0.587261974811554, 0.651856541633606, 0.6025676727294922, 0.7076836824417114, 0.7065762877464294, 0.8053618669509888], \"xaxis\": \"x\", \"yaxis\": \"y\"}, {\"alignmentgroup\": \"True\", \"bingroup\": \"x\", \"hovertemplate\": \"mapping=10164239<br>cosine_similarity=%{x}<br>count=%{y}<extra></extra>\", \"legendgroup\": \"10164239\", \"marker\": {\"color\": \"#00cc96\"}, \"name\": \"10164239\", \"offsetgroup\": \"10164239\", \"orientation\": \"v\", \"showlegend\": true, \"type\": \"histogram\", \"x\": [0.7815085649490356, 0.7012165784835815], \"xaxis\": \"x\", \"yaxis\": \"y\"}, {\"alignmentgroup\": \"True\", \"bingroup\": \"x\", \"hovertemplate\": \"mapping=10170799<br>cosine_similarity=%{x}<br>count=%{y}<extra></extra>\", \"legendgroup\": \"10170799\", \"marker\": {\"color\": \"#ab63fa\"}, \"name\": \"10170799\", \"offsetgroup\": \"10170799\", \"orientation\": \"v\", \"showlegend\": true, \"type\": \"histogram\", \"x\": [0.7640069723129272, 0.6882514953613281, 0.6907592415809631], \"xaxis\": \"x\", \"yaxis\": \"y\"}, {\"alignmentgroup\": \"True\", \"bingroup\": \"x\", \"hovertemplate\": \"mapping=10109886<br>cosine_similarity=%{x}<br>count=%{y}<extra></extra>\", \"legendgroup\": \"10109886\", \"marker\": {\"color\": \"#FFA15A\"}, \"name\": \"10109886\", \"offsetgroup\": \"10109886\", \"orientation\": \"v\", \"showlegend\": true, \"type\": \"histogram\", \"x\": [0.7269665002822876, 0.6867349147796631, 0.783518373966217, 0.6595466136932373], \"xaxis\": \"x\", \"yaxis\": \"y\"}, {\"alignmentgroup\": \"True\", \"bingroup\": \"x\", \"hovertemplate\": \"mapping=10305103<br>cosine_similarity=%{x}<br>count=%{y}<extra></extra>\", \"legendgroup\": \"10305103\", \"marker\": {\"color\": \"#19d3f3\"}, \"name\": \"10305103\", \"offsetgroup\": \"10305103\", \"orientation\": \"v\", \"showlegend\": true, \"type\": \"histogram\", \"x\": [0.73577880859375, 0.7854949831962585, 0.6840471625328064, 0.6859396696090698, 0.8462353944778442, 0.7495037913322449, 0.7656135559082031, 0.6943099498748779, 0.7187690734863281], \"xaxis\": \"x\", \"yaxis\": \"y\"}, {\"alignmentgroup\": \"True\", \"bingroup\": \"x\", \"hovertemplate\": \"mapping=10270096<br>cosine_similarity=%{x}<br>count=%{y}<extra></extra>\", \"legendgroup\": \"10270096\", \"marker\": {\"color\": \"#FF6692\"}, \"name\": \"10270096\", \"offsetgroup\": \"10270096\", \"orientation\": \"v\", \"showlegend\": true, \"type\": \"histogram\", \"x\": [0.7637505531311035, 0.6932834982872009, 0.7546135187149048], \"xaxis\": \"x\", \"yaxis\": \"y\"}, {\"alignmentgroup\": \"True\", \"bingroup\": \"x\", \"hovertemplate\": \"mapping=10340553<br>cosine_similarity=%{x}<br>count=%{y}<extra></extra>\", \"legendgroup\": \"10340553\", \"marker\": {\"color\": \"#B6E880\"}, \"name\": \"10340553\", \"offsetgroup\": \"10340553\", \"orientation\": \"v\", \"showlegend\": true, \"type\": \"histogram\", \"x\": [0.7062356472015381, 0.7175918221473694, 0.6556543111801147, 0.6728209257125854, 0.8161263465881348, 0.7837222814559937], \"xaxis\": \"x\", \"yaxis\": \"y\"}, {\"alignmentgroup\": \"True\", \"bingroup\": \"x\", \"hovertemplate\": \"mapping=10243241<br>cosine_similarity=%{x}<br>count=%{y}<extra></extra>\", \"legendgroup\": \"10243241\", \"marker\": {\"color\": \"#FF97FF\"}, \"name\": \"10243241\", \"offsetgroup\": \"10243241\", \"orientation\": \"v\", \"showlegend\": true, \"type\": \"histogram\", \"x\": [0.8093864917755127, 0.6029302477836609, 0.6982468366622925, 0.8260060548782349, 0.8130292892456055, 0.6989171504974365, 0.6718565225601196, 0.6989171504974365, 0.6982468366622925, 0.719068169593811, 0.719068169593811], \"xaxis\": \"x\", \"yaxis\": \"y\"}, {\"alignmentgroup\": \"True\", \"bingroup\": \"x\", \"hovertemplate\": \"mapping=10176935<br>cosine_similarity=%{x}<br>count=%{y}<extra></extra>\", \"legendgroup\": \"10176935\", \"marker\": {\"color\": \"#FECB52\"}, \"name\": \"10176935\", \"offsetgroup\": \"10176935\", \"orientation\": \"v\", \"showlegend\": true, \"type\": \"histogram\", \"x\": [0.4852430522441864, 0.6722344756126404, 0.5791128277778625, 0.5754386186599731, 0.5250976085662842], \"xaxis\": \"x\", \"yaxis\": \"y\"}, {\"alignmentgroup\": \"True\", \"bingroup\": \"x\", \"hovertemplate\": \"mapping=10305148<br>cosine_similarity=%{x}<br>count=%{y}<extra></extra>\", \"legendgroup\": \"10305148\", \"marker\": {\"color\": \"#636efa\"}, \"name\": \"10305148\", \"offsetgroup\": \"10305148\", \"orientation\": \"v\", \"showlegend\": true, \"type\": \"histogram\", \"x\": [0.7172609567642212, 0.7639109492301941, 0.7197526693344116, 0.7180640697479248, 0.7105350494384766, 0.7322019934654236, 0.7180640697479248, 0.7714637517929077, 0.7411640882492065, 0.7639109492301941, 0.7239845395088196, 0.7689103484153748, 0.7105350494384766, 0.7709490656852722], \"xaxis\": \"x\", \"yaxis\": \"y\"}, {\"alignmentgroup\": \"True\", \"bingroup\": \"x\", \"hovertemplate\": \"mapping=10263246<br>cosine_similarity=%{x}<br>count=%{y}<extra></extra>\", \"legendgroup\": \"10263246\", \"marker\": {\"color\": \"#EF553B\"}, \"name\": \"10263246\", \"offsetgroup\": \"10263246\", \"orientation\": \"v\", \"showlegend\": true, \"type\": \"histogram\", \"x\": [0.6395424604415894, 0.6741093397140503, 0.6370054483413696, 0.6840043067932129, 0.5022432804107666, 0.6601911187171936, 0.6291466355323792, 0.5100776553153992, 0.6196689009666443, 0.6153680086135864, 0.6899197101593018, 0.6343101263046265, 0.5371034145355225], \"xaxis\": \"x\", \"yaxis\": \"y\"}, {\"alignmentgroup\": \"True\", \"bingroup\": \"x\", \"hovertemplate\": \"mapping=10256458<br>cosine_similarity=%{x}<br>count=%{y}<extra></extra>\", \"legendgroup\": \"10256458\", \"marker\": {\"color\": \"#00cc96\"}, \"name\": \"10256458\", \"offsetgroup\": \"10256458\", \"orientation\": \"v\", \"showlegend\": true, \"type\": \"histogram\", \"x\": [0.6099964380264282, 0.5895302891731262, 0.6770845055580139, 0.6409592628479004, 0.6355572938919067], \"xaxis\": \"x\", \"yaxis\": \"y\"}, {\"alignmentgroup\": \"True\", \"bingroup\": \"x\", \"hovertemplate\": \"mapping=10326131<br>cosine_similarity=%{x}<br>count=%{y}<extra></extra>\", \"legendgroup\": \"10326131\", \"marker\": {\"color\": \"#ab63fa\"}, \"name\": \"10326131\", \"offsetgroup\": \"10326131\", \"orientation\": \"v\", \"showlegend\": true, \"type\": \"histogram\", \"x\": [0.8208695650100708, 0.81655353307724, 0.5291719436645508, 0.7952204942703247, 0.5364866852760315, 0.5390418767929077], \"xaxis\": \"x\", \"yaxis\": \"y\"}, {\"alignmentgroup\": \"True\", \"bingroup\": \"x\", \"hovertemplate\": \"mapping=8790814<br>cosine_similarity=%{x}<br>count=%{y}<extra></extra>\", \"legendgroup\": \"8790814\", \"marker\": {\"color\": \"#FFA15A\"}, \"name\": \"8790814\", \"offsetgroup\": \"8790814\", \"orientation\": \"v\", \"showlegend\": true, \"type\": \"histogram\", \"x\": [0.8239296674728394, 0.7451947927474976, 0.6206842660903931, 0.5781375169754028, 0.7524651288986206, 0.8239296674728394, 0.7011897563934326, 0.7011897563934326, 0.7663632035255432, 0.7524651288986206, 0.7451947927474976, 0.7663632035255432, 0.7119541168212891, 0.714195191860199], \"xaxis\": \"x\", \"yaxis\": \"y\"}, {\"alignmentgroup\": \"True\", \"bingroup\": \"x\", \"hovertemplate\": \"mapping=8501349<br>cosine_similarity=%{x}<br>count=%{y}<extra></extra>\", \"legendgroup\": \"8501349\", \"marker\": {\"color\": \"#19d3f3\"}, \"name\": \"8501349\", \"offsetgroup\": \"8501349\", \"orientation\": \"v\", \"showlegend\": true, \"type\": \"histogram\", \"x\": [0.5140430331230164, 0.4567413330078125, 0.5105066299438477, 0.5753716826438904, 0.4310690462589264, 0.45951855182647705, 0.6774347424507141, 0.5023147463798523, 0.6026357412338257], \"xaxis\": \"x\", \"yaxis\": \"y\"}, {\"alignmentgroup\": \"True\", \"bingroup\": \"x\", \"hovertemplate\": \"mapping=8765303<br>cosine_similarity=%{x}<br>count=%{y}<extra></extra>\", \"legendgroup\": \"8765303\", \"marker\": {\"color\": \"#FF6692\"}, \"name\": \"8765303\", \"offsetgroup\": \"8765303\", \"orientation\": \"v\", \"showlegend\": true, \"type\": \"histogram\", \"x\": [0.7339462041854858, 0.754987359046936, 0.6317729949951172, 0.7510039806365967, 0.7286458611488342, 0.7286458611488342, 0.5014771223068237, 0.7478163242340088, 0.4451310336589813, 0.5763276815414429, 0.6776261329650879, 0.7583633661270142, 0.48474743962287903, 0.4451310336589813, 0.5980136394500732, 0.5053111910820007, 0.7736456394195557, 0.7286458611488342, 0.6320914030075073, 0.6320938467979431], \"xaxis\": \"x\", \"yaxis\": \"y\"}, {\"alignmentgroup\": \"True\", \"bingroup\": \"x\", \"hovertemplate\": \"mapping=8889299<br>cosine_similarity=%{x}<br>count=%{y}<extra></extra>\", \"legendgroup\": \"8889299\", \"marker\": {\"color\": \"#B6E880\"}, \"name\": \"8889299\", \"offsetgroup\": \"8889299\", \"orientation\": \"v\", \"showlegend\": true, \"type\": \"histogram\", \"x\": [0.7194339036941528, 0.6003372669219971, 0.7063767313957214, 0.6046452522277832], \"xaxis\": \"x\", \"yaxis\": \"y\"}, {\"alignmentgroup\": \"True\", \"bingroup\": \"x\", \"hovertemplate\": \"mapping=10381641<br>cosine_similarity=%{x}<br>count=%{y}<extra></extra>\", \"legendgroup\": \"10381641\", \"marker\": {\"color\": \"#FF97FF\"}, \"name\": \"10381641\", \"offsetgroup\": \"10381641\", \"orientation\": \"v\", \"showlegend\": true, \"type\": \"histogram\", \"x\": [0.7134126424789429, 0.732567310333252, 0.7223109006881714, 0.7232428789138794], \"xaxis\": \"x\", \"yaxis\": \"y\"}, {\"alignmentgroup\": \"True\", \"bingroup\": \"x\", \"hovertemplate\": \"mapping=10090529<br>cosine_similarity=%{x}<br>count=%{y}<extra></extra>\", \"legendgroup\": \"10090529\", \"marker\": {\"color\": \"#FECB52\"}, \"name\": \"10090529\", \"offsetgroup\": \"10090529\", \"orientation\": \"v\", \"showlegend\": true, \"type\": \"histogram\", \"x\": [0.7067175507545471, 0.7256753444671631, 0.7749801874160767], \"xaxis\": \"x\", \"yaxis\": \"y\"}],                        {\"barmode\": \"relative\", \"legend\": {\"title\": {\"text\": \"mapping\"}, \"tracegroupgap\": 0}, \"margin\": {\"t\": 60}, \"template\": {\"data\": {\"bar\": [{\"error_x\": {\"color\": \"#2a3f5f\"}, \"error_y\": {\"color\": \"#2a3f5f\"}, \"marker\": {\"line\": {\"color\": \"#E5ECF6\", \"width\": 0.5}}, \"type\": \"bar\"}], \"barpolar\": [{\"marker\": {\"line\": {\"color\": \"#E5ECF6\", \"width\": 0.5}}, \"type\": \"barpolar\"}], \"carpet\": [{\"aaxis\": {\"endlinecolor\": \"#2a3f5f\", \"gridcolor\": \"white\", \"linecolor\": \"white\", \"minorgridcolor\": \"white\", \"startlinecolor\": \"#2a3f5f\"}, \"baxis\": {\"endlinecolor\": \"#2a3f5f\", \"gridcolor\": \"white\", \"linecolor\": \"white\", \"minorgridcolor\": \"white\", \"startlinecolor\": \"#2a3f5f\"}, \"type\": \"carpet\"}], \"choropleth\": [{\"colorbar\": {\"outlinewidth\": 0, \"ticks\": \"\"}, \"type\": \"choropleth\"}], \"contour\": [{\"colorbar\": {\"outlinewidth\": 0, \"ticks\": \"\"}, \"colorscale\": [[0.0, \"#0d0887\"], [0.1111111111111111, \"#46039f\"], [0.2222222222222222, \"#7201a8\"], [0.3333333333333333, \"#9c179e\"], [0.4444444444444444, \"#bd3786\"], [0.5555555555555556, \"#d8576b\"], [0.6666666666666666, \"#ed7953\"], [0.7777777777777778, \"#fb9f3a\"], [0.8888888888888888, \"#fdca26\"], [1.0, \"#f0f921\"]], \"type\": \"contour\"}], \"contourcarpet\": [{\"colorbar\": {\"outlinewidth\": 0, \"ticks\": \"\"}, \"type\": \"contourcarpet\"}], \"heatmap\": [{\"colorbar\": {\"outlinewidth\": 0, \"ticks\": \"\"}, \"colorscale\": [[0.0, \"#0d0887\"], [0.1111111111111111, \"#46039f\"], [0.2222222222222222, \"#7201a8\"], [0.3333333333333333, \"#9c179e\"], [0.4444444444444444, \"#bd3786\"], [0.5555555555555556, \"#d8576b\"], [0.6666666666666666, \"#ed7953\"], [0.7777777777777778, \"#fb9f3a\"], [0.8888888888888888, \"#fdca26\"], [1.0, \"#f0f921\"]], \"type\": \"heatmap\"}], \"heatmapgl\": [{\"colorbar\": {\"outlinewidth\": 0, \"ticks\": \"\"}, \"colorscale\": [[0.0, \"#0d0887\"], [0.1111111111111111, \"#46039f\"], [0.2222222222222222, \"#7201a8\"], [0.3333333333333333, \"#9c179e\"], [0.4444444444444444, \"#bd3786\"], [0.5555555555555556, \"#d8576b\"], [0.6666666666666666, \"#ed7953\"], [0.7777777777777778, \"#fb9f3a\"], [0.8888888888888888, \"#fdca26\"], [1.0, \"#f0f921\"]], \"type\": \"heatmapgl\"}], \"histogram\": [{\"marker\": {\"colorbar\": {\"outlinewidth\": 0, \"ticks\": \"\"}}, \"type\": \"histogram\"}], \"histogram2d\": [{\"colorbar\": {\"outlinewidth\": 0, \"ticks\": \"\"}, \"colorscale\": [[0.0, \"#0d0887\"], [0.1111111111111111, \"#46039f\"], [0.2222222222222222, \"#7201a8\"], [0.3333333333333333, \"#9c179e\"], [0.4444444444444444, \"#bd3786\"], [0.5555555555555556, \"#d8576b\"], [0.6666666666666666, \"#ed7953\"], [0.7777777777777778, \"#fb9f3a\"], [0.8888888888888888, \"#fdca26\"], [1.0, \"#f0f921\"]], \"type\": \"histogram2d\"}], \"histogram2dcontour\": [{\"colorbar\": {\"outlinewidth\": 0, \"ticks\": \"\"}, \"colorscale\": [[0.0, \"#0d0887\"], [0.1111111111111111, \"#46039f\"], [0.2222222222222222, \"#7201a8\"], [0.3333333333333333, \"#9c179e\"], [0.4444444444444444, \"#bd3786\"], [0.5555555555555556, \"#d8576b\"], [0.6666666666666666, \"#ed7953\"], [0.7777777777777778, \"#fb9f3a\"], [0.8888888888888888, \"#fdca26\"], [1.0, \"#f0f921\"]], \"type\": \"histogram2dcontour\"}], \"mesh3d\": [{\"colorbar\": {\"outlinewidth\": 0, \"ticks\": \"\"}, \"type\": \"mesh3d\"}], \"parcoords\": [{\"line\": {\"colorbar\": {\"outlinewidth\": 0, \"ticks\": \"\"}}, \"type\": \"parcoords\"}], \"pie\": [{\"automargin\": true, \"type\": \"pie\"}], \"scatter\": [{\"marker\": {\"colorbar\": {\"outlinewidth\": 0, \"ticks\": \"\"}}, \"type\": \"scatter\"}], \"scatter3d\": [{\"line\": {\"colorbar\": {\"outlinewidth\": 0, \"ticks\": \"\"}}, \"marker\": {\"colorbar\": {\"outlinewidth\": 0, \"ticks\": \"\"}}, \"type\": \"scatter3d\"}], \"scattercarpet\": [{\"marker\": {\"colorbar\": {\"outlinewidth\": 0, \"ticks\": \"\"}}, \"type\": \"scattercarpet\"}], \"scattergeo\": [{\"marker\": {\"colorbar\": {\"outlinewidth\": 0, \"ticks\": \"\"}}, \"type\": \"scattergeo\"}], \"scattergl\": [{\"marker\": {\"colorbar\": {\"outlinewidth\": 0, \"ticks\": \"\"}}, \"type\": \"scattergl\"}], \"scattermapbox\": [{\"marker\": {\"colorbar\": {\"outlinewidth\": 0, \"ticks\": \"\"}}, \"type\": \"scattermapbox\"}], \"scatterpolar\": [{\"marker\": {\"colorbar\": {\"outlinewidth\": 0, \"ticks\": \"\"}}, \"type\": \"scatterpolar\"}], \"scatterpolargl\": [{\"marker\": {\"colorbar\": {\"outlinewidth\": 0, \"ticks\": \"\"}}, \"type\": \"scatterpolargl\"}], \"scatterternary\": [{\"marker\": {\"colorbar\": {\"outlinewidth\": 0, \"ticks\": \"\"}}, \"type\": \"scatterternary\"}], \"surface\": [{\"colorbar\": {\"outlinewidth\": 0, \"ticks\": \"\"}, \"colorscale\": [[0.0, \"#0d0887\"], [0.1111111111111111, \"#46039f\"], [0.2222222222222222, \"#7201a8\"], [0.3333333333333333, \"#9c179e\"], [0.4444444444444444, \"#bd3786\"], [0.5555555555555556, \"#d8576b\"], [0.6666666666666666, \"#ed7953\"], [0.7777777777777778, \"#fb9f3a\"], [0.8888888888888888, \"#fdca26\"], [1.0, \"#f0f921\"]], \"type\": \"surface\"}], \"table\": [{\"cells\": {\"fill\": {\"color\": \"#EBF0F8\"}, \"line\": {\"color\": \"white\"}}, \"header\": {\"fill\": {\"color\": \"#C8D4E3\"}, \"line\": {\"color\": \"white\"}}, \"type\": \"table\"}]}, \"layout\": {\"annotationdefaults\": {\"arrowcolor\": \"#2a3f5f\", \"arrowhead\": 0, \"arrowwidth\": 1}, \"autotypenumbers\": \"strict\", \"coloraxis\": {\"colorbar\": {\"outlinewidth\": 0, \"ticks\": \"\"}}, \"colorscale\": {\"diverging\": [[0, \"#8e0152\"], [0.1, \"#c51b7d\"], [0.2, \"#de77ae\"], [0.3, \"#f1b6da\"], [0.4, \"#fde0ef\"], [0.5, \"#f7f7f7\"], [0.6, \"#e6f5d0\"], [0.7, \"#b8e186\"], [0.8, \"#7fbc41\"], [0.9, \"#4d9221\"], [1, \"#276419\"]], \"sequential\": [[0.0, \"#0d0887\"], [0.1111111111111111, \"#46039f\"], [0.2222222222222222, \"#7201a8\"], [0.3333333333333333, \"#9c179e\"], [0.4444444444444444, \"#bd3786\"], [0.5555555555555556, \"#d8576b\"], [0.6666666666666666, \"#ed7953\"], [0.7777777777777778, \"#fb9f3a\"], [0.8888888888888888, \"#fdca26\"], [1.0, \"#f0f921\"]], \"sequentialminus\": [[0.0, \"#0d0887\"], [0.1111111111111111, \"#46039f\"], [0.2222222222222222, \"#7201a8\"], [0.3333333333333333, \"#9c179e\"], [0.4444444444444444, \"#bd3786\"], [0.5555555555555556, \"#d8576b\"], [0.6666666666666666, \"#ed7953\"], [0.7777777777777778, \"#fb9f3a\"], [0.8888888888888888, \"#fdca26\"], [1.0, \"#f0f921\"]]}, \"colorway\": [\"#636efa\", \"#EF553B\", \"#00cc96\", \"#ab63fa\", \"#FFA15A\", \"#19d3f3\", \"#FF6692\", \"#B6E880\", \"#FF97FF\", \"#FECB52\"], \"font\": {\"color\": \"#2a3f5f\"}, \"geo\": {\"bgcolor\": \"white\", \"lakecolor\": \"white\", \"landcolor\": \"#E5ECF6\", \"showlakes\": true, \"showland\": true, \"subunitcolor\": \"white\"}, \"hoverlabel\": {\"align\": \"left\"}, \"hovermode\": \"closest\", \"mapbox\": {\"style\": \"light\"}, \"paper_bgcolor\": \"white\", \"plot_bgcolor\": \"#E5ECF6\", \"polar\": {\"angularaxis\": {\"gridcolor\": \"white\", \"linecolor\": \"white\", \"ticks\": \"\"}, \"bgcolor\": \"#E5ECF6\", \"radialaxis\": {\"gridcolor\": \"white\", \"linecolor\": \"white\", \"ticks\": \"\"}}, \"scene\": {\"xaxis\": {\"backgroundcolor\": \"#E5ECF6\", \"gridcolor\": \"white\", \"gridwidth\": 2, \"linecolor\": \"white\", \"showbackground\": true, \"ticks\": \"\", \"zerolinecolor\": \"white\"}, \"yaxis\": {\"backgroundcolor\": \"#E5ECF6\", \"gridcolor\": \"white\", \"gridwidth\": 2, \"linecolor\": \"white\", \"showbackground\": true, \"ticks\": \"\", \"zerolinecolor\": \"white\"}, \"zaxis\": {\"backgroundcolor\": \"#E5ECF6\", \"gridcolor\": \"white\", \"gridwidth\": 2, \"linecolor\": \"white\", \"showbackground\": true, \"ticks\": \"\", \"zerolinecolor\": \"white\"}}, \"shapedefaults\": {\"line\": {\"color\": \"#2a3f5f\"}}, \"ternary\": {\"aaxis\": {\"gridcolor\": \"white\", \"linecolor\": \"white\", \"ticks\": \"\"}, \"baxis\": {\"gridcolor\": \"white\", \"linecolor\": \"white\", \"ticks\": \"\"}, \"bgcolor\": \"#E5ECF6\", \"caxis\": {\"gridcolor\": \"white\", \"linecolor\": \"white\", \"ticks\": \"\"}}, \"title\": {\"x\": 0.05}, \"xaxis\": {\"automargin\": true, \"gridcolor\": \"white\", \"linecolor\": \"white\", \"ticks\": \"\", \"title\": {\"standoff\": 15}, \"zerolinecolor\": \"white\", \"zerolinewidth\": 2}, \"yaxis\": {\"automargin\": true, \"gridcolor\": \"white\", \"linecolor\": \"white\", \"ticks\": \"\", \"title\": {\"standoff\": 15}, \"zerolinecolor\": \"white\", \"zerolinewidth\": 2}}}, \"xaxis\": {\"anchor\": \"y\", \"domain\": [0.0, 1.0], \"title\": {\"text\": \"cosine_similarity\"}}, \"yaxis\": {\"anchor\": \"x\", \"domain\": [0.0, 1.0], \"title\": {\"text\": \"count\"}}},                        {\"responsive\": true}                    ).then(function(){\n",
              "                            \n",
              "var gd = document.getElementById('c06e2849-d81c-41e3-90b5-fc4049e0927c');\n",
              "var x = new MutationObserver(function (mutations, observer) {{\n",
              "        var display = window.getComputedStyle(gd).display;\n",
              "        if (!display || display === 'none') {{\n",
              "            console.log([gd, 'removed!']);\n",
              "            Plotly.purge(gd);\n",
              "            observer.disconnect();\n",
              "        }}\n",
              "}});\n",
              "\n",
              "// Listen for the removal of the full notebook cells\n",
              "var notebookContainer = gd.closest('#notebook-container');\n",
              "if (notebookContainer) {{\n",
              "    x.observe(notebookContainer, {childList: true});\n",
              "}}\n",
              "\n",
              "// Listen for the clearing of the current output cell\n",
              "var outputEl = gd.closest('.output');\n",
              "if (outputEl) {{\n",
              "    x.observe(outputEl, {childList: true});\n",
              "}}\n",
              "\n",
              "                        })                };                            </script>        </div>\n",
              "</body>\n",
              "</html>"
            ]
          },
          "metadata": {
            "tags": []
          }
        }
      ]
    },
    {
      "cell_type": "code",
      "metadata": {
        "id": "slQtcWln8wf4"
      },
      "source": [
        ""
      ],
      "execution_count": null,
      "outputs": []
    }
  ]
}